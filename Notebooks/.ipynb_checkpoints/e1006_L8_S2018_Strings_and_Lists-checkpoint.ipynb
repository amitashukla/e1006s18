{
 "cells": [
  {
   "cell_type": "markdown",
   "metadata": {
    "slideshow": {
     "slide_type": "slide"
    }
   },
   "source": [
    "<h1 style=\"display:none;\">\n",
    "<h1 style=\"display:none;\">\n",
    "<h1 style=\"display:none;\">\n",
    "<h1 style=\"display:none;\">\n",
    "<h1 style=\"display:none;\">\n",
    "<h1 style=\"display:none;\">\n",
    "\n",
    "# Introduction to Computing for Engineers and Computer Scientists<BR><BR>Chapter 3: Algorithm and Program Development"
   ]
  },
  {
   "cell_type": "markdown",
   "metadata": {},
   "source": [
    "## Questions\n",
    "\n",
    "### From Class?\n",
    "\n",
    "### From Piazza\n",
    "\n",
    "#### Interactive versus Script\n",
    "\n",
    "##### Simplest Solution"
   ]
  },
  {
   "cell_type": "code",
   "execution_count": 16,
   "metadata": {},
   "outputs": [
    {
     "name": "stdout",
     "output_type": "stream",
     "text": [
      "Testing.\n"
     ]
    },
    {
     "name": "stderr",
     "output_type": "stream",
     "text": [
      "usage: ipykernel_launcher.py [-h] [--arg1 int]\n",
      "ipykernel_launcher.py: error: unrecognized arguments: -f /Users/donaldferguson/Library/Jupyter/runtime/kernel-c061a760-2bd2-42f8-b8e8-b089dbaed348.json\n"
     ]
    },
    {
     "ename": "SystemExit",
     "evalue": "2",
     "output_type": "error",
     "traceback": [
      "An exception has occurred, use %tb to see the full traceback.\n",
      "\u001b[0;31mSystemExit\u001b[0m\u001b[0;31m:\u001b[0m 2\n"
     ]
    },
    {
     "name": "stderr",
     "output_type": "stream",
     "text": [
      "/Users/donaldferguson/anaconda3/lib/python3.6/site-packages/IPython/core/interactiveshell.py:2918: UserWarning: To exit: use 'exit', 'quit', or Ctrl-D.\n",
      "  warn(\"To exit: use 'exit', 'quit', or Ctrl-D.\", stacklevel=1)\n"
     ]
    }
   ],
   "source": [
    "#!/usr/bin/env python3\n",
    "\n",
    "import argparse\n",
    "\n",
    "# Default is that the program is not interactive.\n",
    "# Change from the prompt or a Jupyter cell if is interactive.\n",
    "interactive = False\n",
    "\n",
    "\n",
    "def get_args():\n",
    "\n",
    "    result = None\n",
    "\n",
    "    if not interactive:\n",
    "        parser = argparse.ArgumentParser(\n",
    "            description='Simulate flexible command line arguments.')\n",
    "        parser.add_argument('--arg1', default=12, type=int, metavar='int',\n",
    "                            help='Argument 1')\n",
    "        args = parser.parse_args()\n",
    "        result = args.arg1\n",
    "    else:\n",
    "        result = int(input(\"Enter value for arg1: \"))\n",
    "\n",
    "    return result\n",
    "\n",
    "\n",
    "def simulating_simulation(arg):\n",
    "    print(\"Simulating receiving arguments in a simulation. arg = \", arg)\n",
    "\n",
    "\n",
    "def run_test():\n",
    "    print(\"Testing.\")\n",
    "    test_result = get_args()\n",
    "    print(\"Test result = \", test_result)\n",
    "    print(\"Can call all of the other code with args now.\")\n",
    "    simulating_simulation(test_result)\n",
    "\n",
    "\n",
    "run_test()"
   ]
  },
  {
   "cell_type": "code",
   "execution_count": 17,
   "metadata": {},
   "outputs": [
    {
     "name": "stdout",
     "output_type": "stream",
     "text": [
      "Change interactive to True and try again.\n",
      "Testing.\n",
      "Enter value for arg1: 2\n",
      "Test result =  2\n",
      "Can call all of the other code with args now.\n",
      "Simulating receiving arguments in a simulation. arg =  2\n"
     ]
    }
   ],
   "source": [
    "print(\"Change interactive to True and try again.\")\n",
    "interactive = True\n",
    "run_test()"
   ]
  },
  {
   "cell_type": "markdown",
   "metadata": {},
   "source": [
    "##### Slightly More Sophisticated Solution"
   ]
  },
  {
   "cell_type": "code",
   "execution_count": 18,
   "metadata": {},
   "outputs": [
    {
     "name": "stdout",
     "output_type": "stream",
     "text": [
      "Testing.\n",
      "Enter value for arg1: 33\n",
      "Test result =  33\n",
      "Can call all of the other code with args now.\n",
      "Simulating receiving arguments in a simulation. arg =  33\n"
     ]
    }
   ],
   "source": [
    "#!/usr/bin/env python3\n",
    "\n",
    "import argparse\n",
    "\n",
    "# main is the top-level module for this execution.\n",
    "# Do not worry about this for now.\n",
    "# An execution can either be interactive, i.e. something types/sends\n",
    "# the Python statements, or driven from file input, e.g. ./foo --arg\n",
    "#\n",
    "# If there is no file associated with __main__, then we are interactive.\n",
    "def is_interactive():\n",
    "    import __main__ as main\n",
    "    return not hasattr(main, '__file__')\n",
    "\n",
    "\n",
    "# Default is that the program is not interactive.\n",
    "# Change from the prompt or a Jupyter cell if is interactive.\n",
    "interactive = is_interactive()\n",
    "\n",
    "\n",
    "def get_args():\n",
    "\n",
    "    result = None\n",
    "\n",
    "    if not interactive:\n",
    "        parser = argparse.ArgumentParser(\n",
    "            description='Simulate flexible command line arguments.')\n",
    "        parser.add_argument('--arg1', default=12, type=int, metavar='int',\n",
    "                            help='Argument 1')\n",
    "        args = parser.parse_args()\n",
    "        result = args.arg1\n",
    "    else:\n",
    "        result = int(input(\"Enter value for arg1: \"))\n",
    "\n",
    "    return result\n",
    "\n",
    "\n",
    "def simulating_simulation(arg):\n",
    "    print(\"Simulating receiving arguments in a simulation. arg = \", arg)\n",
    "\n",
    "\n",
    "def run_test():\n",
    "    print(\"Testing.\")\n",
    "    test_result = get_args()\n",
    "    print(\"Test result = \", test_result)\n",
    "    print(\"Can call all of the other code with args now.\")\n",
    "    simulating_simulation(test_result)\n",
    "\n",
    "\n",
    "run_test()"
   ]
  },
  {
   "cell_type": "markdown",
   "metadata": {},
   "source": [
    "#### Another Possible Solution"
   ]
  },
  {
   "cell_type": "code",
   "execution_count": 29,
   "metadata": {},
   "outputs": [
    {
     "name": "stderr",
     "output_type": "stream",
     "text": [
      "usage: ipykernel_launcher.py [-h] [--arg1 int]\n",
      "ipykernel_launcher.py: error: unrecognized arguments: -f /Users/donaldferguson/Library/Jupyter/runtime/kernel-c061a760-2bd2-42f8-b8e8-b089dbaed348.json\n"
     ]
    },
    {
     "name": "stdout",
     "output_type": "stream",
     "text": [
      "Got an arg parse exception. Trying a prompt.\n",
      "Enter value for arg1: 32\n"
     ]
    },
    {
     "data": {
      "text/plain": [
       "32"
      ]
     },
     "execution_count": 29,
     "metadata": {},
     "output_type": "execute_result"
    }
   ],
   "source": [
    "\n",
    "import argparse\n",
    "\n",
    "def get_args():\n",
    "\n",
    "    result = None\n",
    "\n",
    "    try:\n",
    "        parser = argparse.ArgumentParser(\n",
    "           description='Simulate flexible command line arguments.')\n",
    "        parser.add_argument('--arg1', default=12, type=int, metavar='int',\n",
    "                            help='Argument 1')\n",
    "        args = parser.parse_args()\n",
    "        result = args.arg1\n",
    "    except: \n",
    "        print(\"Got an arg parse exception. Trying a prompt.\")\n",
    "        result = int(input(\"Enter value for arg1: \"))\n",
    "\n",
    "    return result\n",
    "\n",
    "get_args()"
   ]
  },
  {
   "cell_type": "markdown",
   "metadata": {},
   "source": [
    "## Switch to Presentation"
   ]
  },
  {
   "cell_type": "markdown",
   "metadata": {},
   "source": [
    "## Babylonian Square Root"
   ]
  },
  {
   "cell_type": "code",
   "execution_count": 31,
   "metadata": {},
   "outputs": [
    {
     "name": "stdout",
     "output_type": "stream",
     "text": [
      "Find the square root of integer: 13298\n",
      "Initial guess: 87\n",
      "What tolerance: 0.1\n",
      "previous =  0 guess float =  87.0\n",
      "previous =  87.0 guess float =  119.92528735632185\n",
      "previous =  119.92528735632185 guess float =  115.40549602876234\n",
      "Square root of 13298  is:  115.31698848645435\n",
      "Took  3  reps to get it to tolerance:  0.1\n",
      "Starting from a guess of:  87.0\n"
     ]
    }
   ],
   "source": [
    "# Copyright 2017, 2013, 2011 Pearson Education, Inc., W.F. Punch & R.J.Enbody\n",
    "# Newton's Method to calculate square root\n",
    "\n",
    "# get three inputs from the user (two ints, 1 float)\n",
    "# note not robust on bad input\n",
    "number_str = input(\"Find the square root of integer: \")\n",
    "number_int = int(number_str)\n",
    "guess_str = input(\"Initial guess: \")\n",
    "guess_float = float(guess_str)\n",
    "tolerance_float = float(input(\"What tolerance: \"))\n",
    "\n",
    "original_guess_float = guess_float # hang onto the original guess\n",
    "count_int = 0                      # count the number of guesses\n",
    "previous_float = 0                 # track the previous calculated value\n",
    "\n",
    "while abs(previous_float - guess_float) > tolerance_float:\n",
    "    print (\"previous = \", previous_float, \"guess float = \", guess_float)\n",
    "    previous_float = guess_float\n",
    "    quotient_float = number_int/guess_float\n",
    "    guess_float = (quotient_float + guess_float)/2\n",
    "    count_int = count_int + 1\n",
    "\n",
    "# output the three original values, the number of\n",
    "# iterations and the square root\n",
    "print(\"Square root of\",number_int,\" is: \",guess_float)\n",
    "print(\"Took \",count_int,\" reps to get it to tolerance: \",tolerance_float)\n",
    "print(\"Starting from a guess of: \", original_guess_float)"
   ]
  },
  {
   "cell_type": "markdown",
   "metadata": {},
   "source": [
    "- __Try this with input -125. I dare you.__"
   ]
  },
  {
   "cell_type": "markdown",
   "metadata": {},
   "source": [
    "<div style=\"color:red\">\n",
    "- My programmers use something like [Sphinx](http://www.sphinx-doc.org/en/stable/) to document \"real\" programs.\n",
    "\n",
    "\n",
    "- Structured comments $\\rightarrow$ HTML pages the describe functions, parameters, etc.\n",
    "<br><br>\n",
    "</div>\n",
    "```\n",
    "def public_fn_with_sphinxy_docstring(name, state=None):\n",
    "    \"\"\"This function does something.\n",
    "     \n",
    "    :param name: The name to use. \n",
    "    :type name: str. \n",
    "    :param state: Current state to be in. \n",
    "    :type state: bool. \n",
    "    :returns: int -- the return code. \n",
    "    :raises: AttributeError, KeyError\n",
    "\n",
    "    \"\"\" \n",
    "    return 0\n",
    "```\n",
    "</div>\n",
    "<br><br>\n",
    "<div style=\"color:red;\">\n",
    "- This is just FYI.\n",
    "</div>"
   ]
  },
  {
   "cell_type": "code",
   "execution_count": null,
   "metadata": {},
   "outputs": [],
   "source": []
  }
 ],
 "metadata": {
  "celltoolbar": "Raw Cell Format",
  "kernelspec": {
   "display_name": "Python 3",
   "language": "python",
   "name": "python3"
  },
  "language_info": {
   "codemirror_mode": {
    "name": "ipython",
    "version": 3
   },
   "file_extension": ".py",
   "mimetype": "text/x-python",
   "name": "python",
   "nbconvert_exporter": "python",
   "pygments_lexer": "ipython3",
   "version": "3.6.3"
  },
  "toc": {
   "nav_menu": {},
   "number_sections": true,
   "sideBar": true,
   "skip_h1_title": false,
   "title_cell": "Table of Contents",
   "title_sidebar": "Contents",
   "toc_cell": false,
   "toc_position": {},
   "toc_section_display": true,
   "toc_window_display": false
  }
 },
 "nbformat": 4,
 "nbformat_minor": 2
}
