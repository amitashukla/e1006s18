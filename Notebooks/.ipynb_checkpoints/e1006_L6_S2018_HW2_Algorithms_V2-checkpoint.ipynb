{
 "cells": [
  {
   "cell_type": "markdown",
   "metadata": {
    "slideshow": {
     "slide_type": "slide"
    }
   },
   "source": [
    "<h1 style=\"display:none;\">\n",
    "<h1 style=\"display:none;\">\n",
    "<h1 style=\"display:none;\">\n",
    "<h1 style=\"display:none;\">\n",
    "\n",
    "# Introduction to Computing for Engineers and Computer Scientists<BR><BR>Continue Control Flow and Functions, <br>Testing/IDE, Algorithms, HW2"
   ]
  },
  {
   "cell_type": "markdown",
   "metadata": {},
   "source": [
    "## Questions, Comments"
   ]
  },
  {
   "cell_type": "markdown",
   "metadata": {},
   "source": [
    "### Questions from Class"
   ]
  },
  {
   "cell_type": "markdown",
   "metadata": {},
   "source": [
    "### Piazza Questions\n",
    "\n",
    "#### Type Checking\n",
    "\n",
    "|  |\n",
    "| :--: |"
   ]
  },
  {
   "cell_type": "markdown",
   "metadata": {},
   "source": [
    "## Sadly, It is Homework Time\n",
    "\n",
    "### Overview\n",
    "\n",
    "- A simple algorithm for predicting stock prices.\n",
    "    - Based on Apples (AAPL) performance from 01-Jan-2016 to now\n",
    "    - What will the stock do in the next year? (252 trading days)\n",
    "    \n",
    "\n",
    "<img src=\"../images/L5_aapl_1.jpeg\">\n",
    "\n",
    "\n",
    "- This is a [random walk](https://en.wikipedia.org/wiki/Random_walk) -- \"A random walk is a mathematical object, known as a stochastic or random process, that describes a path that consists of a succession of random steps on some mathematical space.\"\n",
    "\n",
    "\n",
    "- The mathematical space is the stock price for AAPL.\n",
    "\n",
    "\n",
    "- The two parameters determing the walk are:\n",
    "    - $\\mu$: The \"drift.\"\n",
    "    - $\\sigma$: The \"volatility.\"\n",
    "    \n",
    "\n",
    "- A common model for computing the path from $\\mu$ and $\\sigma$ is [geometric Brownian motion](https://en.wikipedia.org/wiki/Geometric_Brownian_motion) (GBM).\n",
    "\n",
    "\\begin{equation}\n",
    "S_t = S_{t-1} * (1 + \\mu\\delta t + \\sigma\\phi \\sqrt{\\delta t})\n",
    "\\end{equation}\n",
    "\n",
    "- Where $\\delta t$ is the time step increment and $\\phi$ is a random variable normally distributed between (0,1) "
   ]
  },
  {
   "cell_type": "markdown",
   "metadata": {},
   "source": [
    "### Monte Carlo Simulation\n",
    "\n",
    "- One random walk is, well, random.\n",
    "\n",
    "\n",
    "- Monte Carlo simulation generates many random walks with the same parameters.\n",
    "\n",
    "\n",
    "- If we set\n",
    "    - $S_0 = 171.71$\n",
    "    - $\\mu = 0.00091626984$\n",
    "    - $\\sigma =0.42$\n",
    "    - Number of simulations = 1000\n",
    "\n",
    "\n",
    "- We get\n",
    "\n",
    "<img src=\"../images/L5_gbm_1.jpeg\">\n",
    "\n"
   ]
  },
  {
   "cell_type": "markdown",
   "metadata": {},
   "source": [
    "- This is kind of overwhelming but does provide some insights of risk/reward.\n",
    "\n",
    "\n",
    "- We can also start to summarize and analyze the overall behavior.\n",
    "\n",
    "<img src=\"../images/L5_gbm_2.jpeg\">\n"
   ]
  },
  {
   "cell_type": "markdown",
   "metadata": {},
   "source": [
    "### The Homework, and an Obvious Question\n",
    "\n",
    "- Question: \"Where do we get $\\mu$ and $\\sigma$?\n",
    "\n",
    "\n",
    "#### Homework -- Step 1\n",
    "\n",
    "- I will give you a set of [comma separated value](https://en.wikipedia.org/wiki/Comma-separated_values) files of the form:\n",
    "\n",
    "<img src=\"../images/L5_aapl_csv.jpeg\">\n",
    "\n",
    "\n",
    "- The file names will be of the form AAPL.csv, AMZN.csv, ... where the first part of the file name is the [ticker symbol.](https://en.wikipedia.org/wiki/Ticker_symbol)\n",
    "\n",
    "\n",
    "- You will implement a Python program that:\n",
    "    - Takes the ticker symbol as a command line parameter.\n",
    "    - Tests that the symbol is in a predefined list of valid symbols defined in your program.\n",
    "    - Reads the file into a data frame. I will give you this code.\n",
    "    - Computes the daily return, the average daily return ($\\mu$) and the volatility ($\\sigma$). You have to do this in your own code, and not use a library. This will test looping, operators, etc.\n",
    "    - Prints out the values.\n",
    "    - Plots the data. I will give you a function that does the plotting.\n",
    "    \n",
    "    \n",
    "#### Homework -- Step 2\n",
    "\n",
    "- You will write a program that accepts the initial stock price, $\\mu$, $\\sigma,$ the number of walks to execute and the initial stock price $S$ from the command line.\n",
    "\n",
    "\n",
    "- The program will run the Monte Carlo Simulation and plot the individual walks and histogram. I will provide the functions that do the plotting.\n",
    "\n",
    "\n",
    "\n",
    "#### Methodology\n",
    "\n",
    "- We will follow a very simple, very compressed [agile development process](https://en.wikipedia.org/wiki/Agile_software_development). I will explain in next lecture.\n",
    "\n",
    "\n",
    "- Sprint 1 is homework step 1. Due date is 08-Feb. This will enable\n",
    "    - Your doing a little thinking and web searching.\n",
    "    - Time for us to discuss on 01-Feb, which is a week before due date.\n",
    "    \n",
    "    \n",
    "- Sprint 2 starts 08-Feb and completes 15-Feb with the submission of HW part 2.\n",
    "    "
   ]
  },
  {
   "cell_type": "markdown",
   "metadata": {},
   "source": [
    "## Flows of Control -- Overview\n",
    "\n",
    "### Computer Hardware Instructions\n",
    "\n",
    "- The unit of execution in a computer is an _instruction._ There are three categories of instructions\n",
    "    1. Access or move bytes.\n",
    "    1. Operate on bytes (add, multiply, compare, ...)\n",
    "    1. Control-flow\n",
    "\n",
    "\n",
    "<img src=\"../images/cpu2.jpg\">\n",
    "\n",
    "\n",
    "- The power of a computer is that it can execute billions of _extremely simple_ instructions per second, e.g.\n",
    "    - Multiply two numbers.\n",
    "    - Compare two numbers.\n",
    "    - Move 8 bytes from one memory location to another.\n",
    "    - etc.\n",
    "    \n",
    "    \n",
    "- Number of instruction types\n",
    "    - Intel x86 (PCs, servers, Mac): $O(1000) = $ around 1,000 to 4,000.\n",
    "    - ARM (phones, mobile devices): $O(500) = $ around 100 to 500.\n",
    "    - These numbers are a little misleading because\n",
    "        - There are several different versions of similar operations, e.g\n",
    "            - x86 has 6 different instructions to move bytes from one location to another.\n",
    "            - X86 and ARM have about 10-12 different instructions for comparing and manipulating bits/bytes.\n",
    "        - Some are very highly-specialized and used only to optimize operating system, disk input/output, etc, e.g.\n",
    "            - 0F 01 DF: \"Invalidates the TLB mapping for the virtual page specified in RAX and the ASID specified in ECX.\"\n",
    "            - F2 0F 38 F0: \"Computes CRC value using the CRC-32C (Castagnoli) polynomial 0x11EDC6F41 (normal form 0x1EDC6F41). This is the polynomial used in iSCSI. In contrast to the more popular one used in Ethernet, its parity is even, and it can thus detect any error with an odd number of changed bits.\""
   ]
  },
  {
   "cell_type": "code",
   "execution_count": null,
   "metadata": {},
   "outputs": [],
   "source": []
  },
  {
   "cell_type": "markdown",
   "metadata": {},
   "source": [
    "### Assembly Language\n",
    "\n",
    "\"An assembly (or assembler) language, often abbreviated asm, is a low-level programming language for a computer, or other programmable device, in which there is a very strong (but often not one-to-one) correspondence between the language and the architecture's machine code instructions.\" (https://en.wikipedia.org/wiki/Assembly_language)\n",
    "\n",
    "\n",
    "Very highly specialized use cases, often to interact directly with hardware control functions.\n",
    "\n",
    "<img src=\"../images/L4_assembly_language.jpeg\">"
   ]
  },
  {
   "cell_type": "markdown",
   "metadata": {},
   "source": [
    "### Programming Statements\n",
    "\n",
    "- High-level, more intuitive languages like Python have _statements._\n",
    "\n",
    "\n",
    "- A [_compiler_](https://en.wikipedia.org/wiki/Compiler) or <a href=\"https://en.wikipedia.org/wiki/Interpreter_(computing)\"><i>interpreter</i></a> maps language statement to multiple assembler/HW statements that implement the statement.\n",
    "\n",
    "\n",
    "- Programming languages have _simple statements_ and _compound statements._\n",
    "\n",
    "```\n",
    "simple_stmt ::=  expression_stmt\n",
    "                 | assert_stmt\n",
    "                 | assignment_stmt\n",
    "                 | augmented_assignment_stmt\n",
    "                 | annotated_assignment_stmt\n",
    "                 | pass_stmt\n",
    "                 | del_stmt\n",
    "                 | return_stmt\n",
    "                 | yield_stmt\n",
    "                 | raise_stmt\n",
    "                 | break_stmt\n",
    "                 | continue_stmt\n",
    "                 | import_stmt\n",
    "                 | global_stmt\n",
    "                 | nonlocal_stmt\n",
    "                 \n",
    "compound_stmt ::=  if_stmt\n",
    "                   | while_stmt\n",
    "                   | for_stmt\n",
    "                   | try_stmt\n",
    "                   | with_stmt\n",
    "                   | funcdef\n",
    "                   | classdef\n",
    "                   | async_with_stmt\n",
    "                   | async_for_stmt\n",
    "                   | async_funcdef\n",
    "suite         ::=  stmt_list NEWLINE | NEWLINE INDENT statement+ DEDENT\n",
    "statement     ::=  stmt_list NEWLINE | compound_stmt\n",
    "stmt_list     ::=  simple_stmt (\";\" simple_stmt)* [\";\"]\n",
    "\n",
    "```\n"
   ]
  },
  {
   "cell_type": "markdown",
   "metadata": {},
   "source": [
    "### Statement Execution\n",
    "\n",
    "A program is\n",
    "- A set or group of statements.\n",
    "- A control-flow or order for execution of the statements.\n",
    "\n",
    "\n",
    "[flowchart](https://en.wikipedia.org/wiki/Flowchart): \"A flowchart is a type of diagram that represents an algorithm, workflow or process, showing the steps as boxes of various kinds, and their order by connecting them with arrows.\"\n",
    "\n",
    "_How to fix a lamp_\n",
    "<img src=\"../images/L4_fix_lamp.jpeg\">\n",
    "\n",
    "\n",
    "A flow chart is a useful way to learn programming.\n",
    "\n",
    "_Compute Fibonacci Numbers_\n",
    "\n",
    "<img src=\"https://www.rff.com/fibonacci-numbers.png\">"
   ]
  }
 ],
 "metadata": {
  "celltoolbar": "Raw Cell Format",
  "kernelspec": {
   "display_name": "Python 3",
   "language": "python",
   "name": "python3"
  },
  "language_info": {
   "codemirror_mode": {
    "name": "ipython",
    "version": 3
   },
   "file_extension": ".py",
   "mimetype": "text/x-python",
   "name": "python",
   "nbconvert_exporter": "python",
   "pygments_lexer": "ipython3",
   "version": "3.6.3"
  },
  "toc": {
   "nav_menu": {},
   "number_sections": true,
   "sideBar": true,
   "skip_h1_title": false,
   "title_cell": "Table of Contents",
   "title_sidebar": "Contents",
   "toc_cell": false,
   "toc_position": {},
   "toc_section_display": true,
   "toc_window_display": false
  }
 },
 "nbformat": 4,
 "nbformat_minor": 2
}
