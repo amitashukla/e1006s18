{
 "cells": [
  {
   "cell_type": "markdown",
   "metadata": {
    "slideshow": {
     "slide_type": "slide"
    }
   },
   "source": [
    "<h1 style=\"display:none;\">\n",
    "<h1 style=\"display:none;\">\n",
    "<h1 style=\"display:none;\">\n",
    "<h1 style=\"display:none;\">\n",
    "<h1 style=\"display:none;\">\n",
    "\n",
    "# Introduction to Computing for Engineers and Computer Scientists<BR><BR>Lecture 5"
   ]
  },
  {
   "cell_type": "markdown",
   "metadata": {},
   "source": [
    "## Questions, Comments\n",
    "\n",
    "### Questions from Class\n",
    "\n",
    "### Correction from Last Lecture: 0, and True (Corrected)\n",
    "\n",
    "- This was a very interesting question. My initial answer was superficial in lecture 3.\n",
    "\n",
    "\n",
    "- My more sophisticated answer in lecture 4 was compelling, thoughtful, well-articulated and wrong.\n",
    "\n",
    "\n",
    "- What I said about coercion, bitwise comparison, ... is true in languages and environments but was wrong with respect to _boolean and_ as well as the question asked.\n",
    "\n",
    "__Some Examples__"
   ]
  },
  {
   "cell_type": "code",
   "execution_count": 48,
   "metadata": {},
   "outputs": [
    {
     "data": {
      "text/plain": [
       "0"
      ]
     },
     "execution_count": 48,
     "metadata": {},
     "output_type": "execute_result"
    }
   ],
   "source": [
    "0 and 1"
   ]
  },
  {
   "cell_type": "code",
   "execution_count": 49,
   "metadata": {},
   "outputs": [
    {
     "data": {
      "text/plain": [
       "'Cat'"
      ]
     },
     "execution_count": 49,
     "metadata": {},
     "output_type": "execute_result"
    }
   ],
   "source": [
    "True and \"Cat\""
   ]
  },
  {
   "cell_type": "code",
   "execution_count": 50,
   "metadata": {},
   "outputs": [
    {
     "data": {
      "text/plain": [
       "0"
      ]
     },
     "execution_count": 50,
     "metadata": {},
     "output_type": "execute_result"
    }
   ],
   "source": [
    "0 and True"
   ]
  },
  {
   "cell_type": "code",
   "execution_count": 51,
   "metadata": {},
   "outputs": [
    {
     "data": {
      "text/plain": [
       "1"
      ]
     },
     "execution_count": 51,
     "metadata": {},
     "output_type": "execute_result"
    }
   ],
   "source": [
    "True and 1"
   ]
  },
  {
   "cell_type": "code",
   "execution_count": 52,
   "metadata": {},
   "outputs": [
    {
     "data": {
      "text/plain": [
       "True"
      ]
     },
     "execution_count": 52,
     "metadata": {},
     "output_type": "execute_result"
    }
   ],
   "source": [
    "1 and True"
   ]
  },
  {
   "cell_type": "markdown",
   "metadata": {},
   "source": [
    "__Expressions__\n",
    "- Evaluate to values. An expression is\n",
    "    - Variables\n",
    "    - Literals\n",
    "    - Operators\n",
    "    - Result of function calls\n",
    "- Expressions are mostly common in\n",
    "    - Assignment statements.\n",
    "    - Boolean expressions __evaluate__ to True or False but may no produce True or False, and are most often found in _if_ and _while_ statements"
   ]
  },
  {
   "cell_type": "code",
   "execution_count": 54,
   "metadata": {},
   "outputs": [
    {
     "data": {
      "text/plain": [
       "141.01125056"
      ]
     },
     "execution_count": 54,
     "metadata": {},
     "output_type": "execute_result"
    }
   ],
   "source": [
    "# Numerica expressions\n",
    "x = 1\n",
    "y = 3.1416\n",
    "\n",
    "(x + y)*y + 2**7"
   ]
  },
  {
   "cell_type": "code",
   "execution_count": 56,
   "metadata": {},
   "outputs": [
    {
     "data": {
      "text/plain": [
       "3.141592653589793"
      ]
     },
     "execution_count": 56,
     "metadata": {},
     "output_type": "execute_result"
    }
   ],
   "source": [
    "# Boolean expressions\n",
    "import math\n",
    "(x == 2) or (y == 7) or math.pi"
   ]
  },
  {
   "cell_type": "markdown",
   "metadata": {},
   "source": [
    "From the Python 3.6 reference (https://docs.python.org/3/reference/expressions.html#and)\n",
    "\n",
    "- The expression x and y first evaluates x; if x is false, its value is returned; otherwise, y is evaluated and the resulting value is returned.\n",
    "\n",
    "\n",
    "- The expression x or y first evaluates x; if x is true, its value is returned; otherwise, y is evaluated and the resulting value is returned.\n",
    "\n",
    "\n",
    "What evaluates to true is an interesting question.\n",
    "\n",
    "| <img src=\"../images/L5_true.jpeg\"> | \n",
    "|:--:| \n",
    "| [__Evaluates to True__](https://en.wikibooks.org/wiki/Non-Programmer%27s_Tutorial_for_Python_3/Boolean_Expressions) |"
   ]
  },
  {
   "cell_type": "code",
   "execution_count": 53,
   "metadata": {},
   "outputs": [
    {
     "name": "stdout",
     "output_type": "stream",
     "text": [
      "An empty list evaluated to False (not True)\n",
      "An empty list evaluates to False but is not equal to False.\n"
     ]
    }
   ],
   "source": [
    "if []:\n",
    "    print(\"An empty list evaluated to true.\")\n",
    "else:\n",
    "    print(\"An empty list evaluated to False (not True)\")\n",
    "    \n",
    "if ([] == False):\n",
    "    print(\"An empty list is equal to F.\")\n",
    "else:\n",
    "    print(\"An empty list evaluates to False but is not equal to False.\")\n",
    "    "
   ]
  },
  {
   "cell_type": "markdown",
   "metadata": {},
   "source": [
    "- So,\n",
    "    - I gave a correct, exciting and interesting and amazingly compelling answer to a simple question. I covered operators, coercion, the inherent binary nature of data, ...\n",
    "    - My answer was awesome and I was on fire.\n",
    "    - What I communicated was correct in general, but the wrong answer to the question.\n",
    "    - I will ask some questions about the concept on the midterm and final, but you will be able to play around to figure out the answer.\n",
    "    - Your HW assignments will not require understanding the oddness of the model.\n",
    "    \n",
    "    \n",
    "- And, __we agree that we will never speak of this again.__"
   ]
  },
  {
   "cell_type": "markdown",
   "metadata": {},
   "source": [
    "## Control Flow -- Continued\n",
    "\n",
    "### elif and Nested If\n",
    "\n",
    "__A simple example/test.__\n"
   ]
  },
  {
   "cell_type": "code",
   "execution_count": 21,
   "metadata": {},
   "outputs": [],
   "source": [
    "# A simple function that is passed 6 integers, or anything really.\n",
    "# Prints the first of the 6 parameters that = 1.\n",
    "def test_elif(a, b, c, x, y, z):\n",
    "    if a == 1:\n",
    "        print(\"a = 1. Ran 1st if\")\n",
    "    elif b == 1:\n",
    "        print(\"b = 1. Ran 1st elif\")\n",
    "    elif c == 1:\n",
    "        print(\"c = 1. Ran second elif\")\n",
    "    elif x == 1:\n",
    "        print(\"x = 1. Ran erd elif\")\n",
    "    elif y == 1:\n",
    "        print(\"y = 1. Ran 4th elif\")\n",
    "    elif z == 1:\n",
    "        print(\"z = 1. Ran 5th elif\")\n",
    "    else:\n",
    "        print(\"None of a,b,c,x,y,z = 1.\")\n",
    "        "
   ]
  },
  {
   "cell_type": "code",
   "execution_count": 22,
   "metadata": {},
   "outputs": [
    {
     "name": "stdout",
     "output_type": "stream",
     "text": [
      "a = 1. Ran 1st if\n"
     ]
    }
   ],
   "source": [
    "test_elif(1,1,1,1,1,1)"
   ]
  },
  {
   "cell_type": "code",
   "execution_count": 23,
   "metadata": {},
   "outputs": [
    {
     "name": "stdout",
     "output_type": "stream",
     "text": [
      "b = 1. Ran 1st elif\n"
     ]
    }
   ],
   "source": [
    "test_elif(0,1,1,1,1,1)"
   ]
  },
  {
   "cell_type": "code",
   "execution_count": 25,
   "metadata": {},
   "outputs": [
    {
     "name": "stdout",
     "output_type": "stream",
     "text": [
      "x = 1. Ran erd elif\n"
     ]
    }
   ],
   "source": [
    "test_elif(0,0,0,1,0,1)"
   ]
  },
  {
   "cell_type": "code",
   "execution_count": 26,
   "metadata": {},
   "outputs": [
    {
     "name": "stdout",
     "output_type": "stream",
     "text": [
      "None of a,b,c,x,y,z = 1.\n"
     ]
    }
   ],
   "source": [
    "test_elif(0,0,0,0,0,0)"
   ]
  },
  {
   "cell_type": "markdown",
   "metadata": {},
   "source": [
    "__This is a language feature to simplify nested if__\n"
   ]
  },
  {
   "cell_type": "code",
   "execution_count": 28,
   "metadata": {},
   "outputs": [],
   "source": [
    "def test_nested_if(a, b, c, x, y, z):\n",
    "    s = None\n",
    "    \n",
    "    if a == 1:\n",
    "        s=\"a = 1. Ran 1st if\"\n",
    "    else:\n",
    "        if b == 1:\n",
    "            s=\"b = 1. Ran 2nd if\"\n",
    "        else:\n",
    "            if c == 1:\n",
    "                s=\"c = 1. Ran 3rd if\"\n",
    "            else:\n",
    "                if x == 1:\n",
    "                    s=\"x = 1. Ran 4th if.\"\n",
    "                else:\n",
    "                    if y == 1:\n",
    "                        s=\"Y = 1. Ran 5th if\"\n",
    "                    else:\n",
    "                        if z == 1:\n",
    "                            s=\"Z = 1. Ran 6th if\"\n",
    "                        else:\n",
    "                           s=\"None of X, Y, Z = 1.\"\n",
    "                        \n",
    "    return s\n",
    "            \n",
    "            "
   ]
  },
  {
   "cell_type": "code",
   "execution_count": 29,
   "metadata": {},
   "outputs": [
    {
     "name": "stdout",
     "output_type": "stream",
     "text": [
      "The test returned  Y = 1. Ran 5th if\n"
     ]
    }
   ],
   "source": [
    "r= test_nested_if(0,0,0,0,1,1)\n",
    "print(\"The test returned \", r)"
   ]
  },
  {
   "cell_type": "markdown",
   "metadata": {},
   "source": [
    "__Comments__\n",
    "\n",
    "- Nested if tests, nested loops and nesting loops and if can get a little confusing and \"icky.\"\n",
    "\n",
    "| <img src=\"../images/L5_nesting_bad.jpeg\"> | \n",
    "|:--: | \n",
    "| __Nesting Gone Horribly Wrong__ |\n",
    "\n",
    "\n",
    "- elif helps produce better code in some circumstances, but nesting with if, elif, else, while, for, ... can get out of hand. Code becomes\n",
    "    - Error prone.\n",
    "    - Difficult to test and debug.\n",
    "    - Difficult to maintain, evolve, modify.\n",
    "    - _Really annoying._\n"
   ]
  },
  {
   "cell_type": "markdown",
   "metadata": {},
   "source": [
    "- There is no generally accepted, generally applicable best practice to resolving deep nesting.\n",
    "\n",
    "\n",
    "- One approach: _Early Return_\n"
   ]
  },
  {
   "cell_type": "code",
   "execution_count": 30,
   "metadata": {},
   "outputs": [],
   "source": [
    "def test_nested_if_return(a, b, c, x, y, z):\n",
    "    \n",
    "    if a == 1:\n",
    "        s=\"a = 1. Ran 1st if.\"\n",
    "        return s\n",
    "    \n",
    "    if b == 1:\n",
    "        s=\"a = 1. Ran 2nd if.\"\n",
    "        return s\n",
    "    \n",
    "    if c == 1:\n",
    "        s=\"c = 1. ran 3rd if.\"\n",
    "        return s\n",
    "    \n",
    "    if x == 1:\n",
    "        s=\"x = 1. ran 4th if.\"\n",
    "        return s\n",
    "    \n",
    "    if y == 1:\n",
    "        s = \"y = 1. ran 5th if.\"\n",
    "        return s\n",
    "    \n",
    "    if z == 1:\n",
    "        s=\"z = 1. ran 6th if.\"\n",
    "        return\n",
    "    \n",
    "    # If the code got here, nothing was = 1\n",
    "    s=\"None of the inputs was 1.\"\n",
    "    \n",
    "    return s\n",
    "        "
   ]
  },
  {
   "cell_type": "code",
   "execution_count": 31,
   "metadata": {},
   "outputs": [
    {
     "name": "stdout",
     "output_type": "stream",
     "text": [
      "test_nested_if_return returned  y = 1. ran 5th if.\n"
     ]
    }
   ],
   "source": [
    "r = test_nested_if_return(0,0,0,0,1,1)\n",
    "print(\"test_nested_if_return returned \",r)"
   ]
  },
  {
   "cell_type": "code",
   "execution_count": 32,
   "metadata": {},
   "outputs": [
    {
     "name": "stdout",
     "output_type": "stream",
     "text": [
      "test_nested_if_return returned  None of the inputs was 1.\n"
     ]
    }
   ],
   "source": [
    "r = test_nested_if_return(0,0,0,0,0,0)\n",
    "print(\"test_nested_if_return returned \",r)"
   ]
  },
  {
   "cell_type": "markdown",
   "metadata": {},
   "source": [
    "- Early return is more clear and easy to follow. \n",
    "\n",
    "\n",
    "- A function having multiple _return_ statements can also create problems, especially when trying to set a _break point_ on return for debugging. \n",
    "\n",
    "_Single Return:_\n",
    "\n",
    "| <img src=\"../images/L5_breakpoint_1.jpeg\"> | \n",
    "|:--: | \n",
    "| __Setting Breakpoint with Single Return__ |\n",
    "\n",
    "\n"
   ]
  },
  {
   "cell_type": "markdown",
   "metadata": {},
   "source": [
    "_Multiple Return Statements:_\n",
    "\n",
    "| <img src=\"../images/L5_breakpoint_2.jpeg\"> | \n",
    "|:--: | \n",
    "| __Setting Breakpoint with Single Return__ |"
   ]
  },
  {
   "cell_type": "markdown",
   "metadata": {},
   "source": [
    "<span style=\"color: red;\">What is this \"breakpoint of which you speak?\"</span>\n",
    "\n",
    "Wait a bit.\n",
    "\n",
    "\n",
    "- Another option is a \"done\" flag. I follow this approach a lot but my peers think the approach is bizarre."
   ]
  },
  {
   "cell_type": "code",
   "execution_count": 33,
   "metadata": {},
   "outputs": [],
   "source": [
    "def test_nested_if_flag(a, b, c, x, y, z):\n",
    "    \n",
    "    done = False\n",
    "    if (a == 1) and (not done):\n",
    "        s=\"a = 1. Ran 1st if.\"\n",
    "        done = True\n",
    "    \n",
    "    if (b == 1) and (not done):\n",
    "        s=\"a = 1. Ran 2nd if.\"\n",
    "        done = True\n",
    "    \n",
    "    if (c == 1) and (not done):\n",
    "        s=\"c = 1. ran 3rd if.\"\n",
    "        done = True\n",
    "    \n",
    "    if (x == 1) and (not done):\n",
    "        s=\"x = 1. ran 4th if.\"\n",
    "        done = True\n",
    "    \n",
    "    if (y == 1) and (not done):\n",
    "        s = \"y = 1. ran 5th if.\"\n",
    "        done = True\n",
    "    \n",
    "    if (z == 1) and (not done):\n",
    "        s=\"z = 1. ran 6th if.\"\n",
    "        done = True\n",
    "    \n",
    "    # If the code got here, nothing was = 1\n",
    "    if not done:\n",
    "        s=\"None of the inputs was 1.\"\n",
    "    \n",
    "    return s"
   ]
  },
  {
   "cell_type": "code",
   "execution_count": 34,
   "metadata": {},
   "outputs": [
    {
     "name": "stdout",
     "output_type": "stream",
     "text": [
      "test_nested_if_return returned  y = 1. ran 5th if.\n"
     ]
    }
   ],
   "source": [
    "r = test_nested_if_flag(0,0,0,0,1,0)\n",
    "print(\"test_nested_if_return returned \",r)"
   ]
  },
  {
   "cell_type": "markdown",
   "metadata": {},
   "source": [
    "\n",
    "__Summary__:\n",
    "- There are other options.\n",
    "\n",
    "\n",
    "- There is no single best approach.\n",
    "\n",
    "\n",
    "- Use common sense.\n"
   ]
  },
  {
   "cell_type": "markdown",
   "metadata": {},
   "source": [
    "### Continue and Break\n",
    "\n",
    "- __break statement:__ \"The break statement ... breaks out of the innermost enclosing for or while loop.\" (https://docs.python.org/3/tutorial/controlflow.html)\n",
    "\n",
    "\n",
    "- __continue statement:__ \"The continue statement ... continues with the next iteration of the loop\" (Stops executing instructions in block and goes back to top of loop).\n",
    "\n",
    "__An example__"
   ]
  },
  {
   "cell_type": "code",
   "execution_count": 37,
   "metadata": {},
   "outputs": [],
   "source": [
    "import math\n",
    "\n",
    "# Returns the first prime factor of the input integer.\n",
    "#\n",
    "def get_first_prime_factor(q):\n",
    "    \n",
    "    # The function only works for type in. The function could\n",
    "    # accept a float that is an integer, e.g. 3.0, but I am not\n",
    "    # in a cooperative mood.\n",
    "    #\n",
    "    # I should really \"throw an exception,\" but we will cover in the future.\n",
    "    if not isinstance(q,int):\n",
    "        return None\n",
    "    \n",
    "    # I only need to test the following numbers to see if they are\n",
    "    # divisors: 2, 3, ..., sqrt(q). I only need to check prime numbers\n",
    "    # but this is a simple demo program.\n",
    "    #\n",
    "    # There are mor efficient algorithms.\n",
    "    max_to_try = math.sqrt(q)\n",
    "    test_divisor = 1\n",
    "    first_factor = None\n",
    "\n",
    "    print(\"I need to test up to \", max_to_try)\n",
    "    \n",
    "    # While there are more divisors to try because I am\n",
    "    # not up to the sqrt.\n",
    "    while (test_divisor < max_to_try):\n",
    "        test_divisor += 1\n",
    "        \n",
    "        print (\"testing ...\", test_divisor)\n",
    "        \n",
    "        # I only need to test 2. I do not need to test other\n",
    "        # even numbers. So, I will go to back to the beginning\n",
    "        # of the loop and run next iteration of this divisor is even and\n",
    "        # not the number 2.\n",
    "        if (test_divisor > 2) and ((test_divisor % 2) == 0):\n",
    "            print(\"test_divisor is even and not 2. Skipping.\")\n",
    "            continue\n",
    "            \n",
    "        remainder = q % test_divisor\n",
    "        \n",
    "        # I found a divisor. Remember the number to return\n",
    "        # later. Also, I can stop executing the loop.\n",
    "        if (remainder == 0):\n",
    "            first_factor = test_divisor\n",
    "            break\n",
    "\n",
    "    \n",
    "    return first_factor\n",
    "    "
   ]
  },
  {
   "cell_type": "code",
   "execution_count": 41,
   "metadata": {},
   "outputs": [
    {
     "name": "stdout",
     "output_type": "stream",
     "text": [
      "I need to test up to  50.18964036531842\n",
      "testing ... 2\n",
      "testing ... 3\n",
      "testing ... 4\n",
      "test_divisor is even and not 2. Skipping.\n",
      "testing ... 5\n",
      "testing ... 6\n",
      "test_divisor is even and not 2. Skipping.\n",
      "testing ... 7\n",
      "testing ... 8\n",
      "test_divisor is even and not 2. Skipping.\n",
      "testing ... 9\n",
      "testing ... 10\n",
      "test_divisor is even and not 2. Skipping.\n",
      "testing ... 11\n",
      "First prime factor of  2519 is  11\n"
     ]
    }
   ],
   "source": [
    "t = 2519\n",
    "r = get_first_prime_factor(t)\n",
    "print(\"First prime factor of \", t, \"is \", r)"
   ]
  },
  {
   "cell_type": "code",
   "execution_count": 13,
   "metadata": {},
   "outputs": [
    {
     "name": "stdout",
     "output_type": "stream",
     "text": [
      "(i,j) = ( 1 , 1 )\n",
      "Breaking the inner loop.\n",
      "(i,j) = ( 2 , 1 )\n",
      "(i,j) = ( 2 , 2 )\n",
      "Breaking the inner loop.\n",
      "(i,j) = ( 3 , 1 )\n",
      "(i,j) = ( 3 , 2 )\n",
      "(i,j) = ( 3 , 3 )\n",
      "Breaking the inner loop.\n",
      "(i,j) = ( 4 , 1 )\n",
      "(i,j) = ( 4 , 2 )\n",
      "(i,j) = ( 4 , 3 )\n",
      "(i,j) = ( 4 , 4 )\n",
      "Breaking the inner loop.\n"
     ]
    }
   ],
   "source": [
    "for i in range(1,5):\n",
    "    for j in range(1,5):\n",
    "        print(\"(i,j) = (\", i, \",\", j,\")\")\n",
    "        if i == j:\n",
    "            print(\"Breaking the inner loop.\")\n",
    "            break\n",
    "            "
   ]
  },
  {
   "cell_type": "markdown",
   "metadata": {},
   "source": [
    "- __for-else, while-else:__ \"Loop statements may have an else clause; it is executed when the loop terminates through exhaustion of the list (with for) or when the condition becomes false (with while), but not when the loop is terminated by a break statement.\" (https://docs.python.org/3/tutorial/controlflow.html#break-and-continue-statements-and-else-clauses-on-loops)\n",
    "\n"
   ]
  },
  {
   "cell_type": "code",
   "execution_count": 42,
   "metadata": {},
   "outputs": [
    {
     "name": "stdout",
     "output_type": "stream",
     "text": [
      "is_rainbow_color(green) =  True\n",
      "is_rainbow_color(teal) =  False\n"
     ]
    }
   ],
   "source": [
    "# Colors of the rainbow.\n",
    "rainbow_colors = [\"red\", \"orange\", \"yellow\", \"green\", \"blue\", \"indigo\",  \"violet\"]\n",
    "\n",
    "# This function returns true if the input color is in the set\n",
    "# of rainbow colors.\n",
    "def is_rainbow_color(input_color):\n",
    "    \n",
    "    # Loop through the colors of the rainbow.\n",
    "    for c in rainbow_colors:\n",
    "        # The current color equals the input color.\n",
    "        if c == input_color:\n",
    "            result = True\n",
    "            break\n",
    "    else:\n",
    "        # This statement executes only if the break does not execute.\n",
    "        result = False\n",
    "        \n",
    "    return result\n",
    "            \n",
    "print(\"is_rainbow_color(green) = \", is_rainbow_color(\"green\"))\n",
    "print(\"is_rainbow_color(teal) = \", is_rainbow_color(\"teal\"))\n"
   ]
  },
  {
   "cell_type": "code",
   "execution_count": 1,
   "metadata": {},
   "outputs": [],
   "source": [
    "# This function taskes the following parameters:\n",
    "# 1. A string to prompt the user for an input.\n",
    "# 2. A lower bound (l_bound) for allowed values.\n",
    "# 3. An upper bound (u_bound) for allowed values.\n",
    "# 4. patience: The number of times to prompt before giving up.\n",
    "def prompt_for_integer(prompt, l_bound, u_bound, patience):\n",
    "    print(\"patience = \", patience)\n",
    "    i = 0\n",
    "    result = None\n",
    "    \n",
    "    # Have I asked too many times.\n",
    "    while (i < patience):\n",
    "        \n",
    "        # Prompt the user.\n",
    "        s = input(prompt + \":\")\n",
    "        \n",
    "        # If the user did not input a number, warn and restart the while.\n",
    "        if not s.isdigit():\n",
    "            print(\"You must enter an integer.\")\n",
    "            continue\n",
    "        else:\n",
    "            t = int(s)\n",
    "            # If the input is valid, we can break out of the loop.\n",
    "            if (t >= l_bound) and (t <= u_bound):\n",
    "                result = t\n",
    "                print(\"Accepted input = \", result)\n",
    "                break\n",
    "            else:\n",
    "                print(\"The allowed range is \", l_bound, \",\", u_bound)\n",
    "                \n",
    "        i = i + 1\n",
    "    else:\n",
    "        print(\"Sorry. I do not have all day.\")\n",
    "        \n",
    "    return result\n",
    "                      "
   ]
  },
  {
   "cell_type": "code",
   "execution_count": null,
   "metadata": {},
   "outputs": [
    {
     "name": "stdout",
     "output_type": "stream",
     "text": [
      "patience =  217\n"
     ]
    }
   ],
   "source": [
    "prompt_for_integer(\"Let's try IQ. 102 is way too high :\", 48, 75, 217)"
   ]
  },
  {
   "cell_type": "code",
   "execution_count": 46,
   "metadata": {
    "scrolled": true
   },
   "outputs": [
    {
     "name": "stdout",
     "output_type": "stream",
     "text": [
      "Enter Professor Ferguson's waist size ::61\n",
      "Accepted input =  61\n"
     ]
    },
    {
     "data": {
      "text/plain": [
       "61"
      ]
     },
     "execution_count": 46,
     "metadata": {},
     "output_type": "execute_result"
    }
   ],
   "source": [
    "prompt_for_integer(\"Enter Professor Ferguson's waist size :\", 48, 102, 3)"
   ]
  },
  {
   "cell_type": "markdown",
   "metadata": {},
   "source": [
    "## The Monty Hall Problem -- Let's Simulate\n",
    "\n",
    "### Mind Blown?\n",
    "\n",
    "__Your not alone:__\n",
    "\n",
    "\"Many readers of vos Savant's column refused to believe switching is beneficial despite her explanation. After the problem appeared in Parade, approximately 10,000 readers, including nearly 1,000 with PhDs, wrote to the magazine, most of them claiming vos Savant was wrong (Tierney 1991). Even when given explanations, simulations, and formal mathematical proofs, many people still do not accept that switching is the best strategy (vos Savant 1991a). Paul Erdős, one of the most prolific mathematicians in history, remained unconvinced until he was shown a computer simulation demonstrating the predicted result (Vazsonyi 1999).\" (https://en.wikipedia.org/wiki/Monty_Hall_problem)\n",
    "\n",
    "_After a 3 day Facebook argument with my brothers._\n",
    "\n",
    "<img src=\"../images/L5_monty_family.jpeg\" width=\"75%\">"
   ]
  },
  {
   "cell_type": "markdown",
   "metadata": {},
   "source": [
    "### Getting Started\n",
    "\n",
    "The two most important 1st steps solving any programming problem.\n",
    "\n",
    "<img src=\"../images/L5_monty_google.jpeg\">\n",
    "\n",
    "<img src=\"../images/L5_help_me.jpeg\">"
   ]
  },
  {
   "cell_type": "markdown",
   "metadata": {},
   "source": [
    "### And The Web Says ...\n",
    "\n",
    "http://fiftyexamples.readthedocs.io/en/latest/monty-hall.html\n",
    "\n"
   ]
  },
  {
   "cell_type": "code",
   "execution_count": 6,
   "metadata": {},
   "outputs": [],
   "source": [
    "#!/usr/bin/env python3\n",
    "\n",
    "\"\"\"Simulate the Monty Hall problem.\n",
    "\n",
    "\"\"\"\n",
    "\n",
    "import argparse, random\n",
    "\n",
    "def simulate(num_doors, switch, verbose):\n",
    "    \"\"\"(int, bool): bool\n",
    "\n",
    "    Carry out the game for one contestant.  If 'switch' is True,\n",
    "    the contestant will switch their chosen door when offered the chance.\n",
    "    Returns a Boolean value telling whether the simulated contestant won.\n",
    "    \"\"\"\n",
    "\n",
    "    # Doors are numbered from 0 up to num_doors-1 (inclusive).\n",
    "\n",
    "    # Randomly choose the door hiding the prize.\n",
    "    winning_door = random.randint(0, num_doors-1)\n",
    "    if verbose:\n",
    "        print('Prize is behind door {}'.format(winning_door+1))\n",
    "\n",
    "    # The contestant picks a random door, too.\n",
    "    choice = random.randint(0, num_doors-1)\n",
    "    if verbose:\n",
    "        print('Contestant chooses door {}'.format(choice+1))\n",
    "\n",
    "    # The host opens all but two doors.\n",
    "    closed_doors = list(range(num_doors))\n",
    "    while len(closed_doors) > 2:\n",
    "        # Randomly choose a door to open.\n",
    "        door_to_remove = random.choice(closed_doors)\n",
    "\n",
    "        # The host will never open the winning door, or the door\n",
    "        # chosen by the contestant.\n",
    "        if door_to_remove == winning_door or door_to_remove == choice:\n",
    "            continue\n",
    "\n",
    "        # Remove the door from the list of closed doors.\n",
    "        closed_doors.remove(door_to_remove)\n",
    "        if verbose:\n",
    "            print('Host opens door {}'.format(door_to_remove+1))\n",
    "\n",
    "    # There are always two doors remaining.\n",
    "    assert len(closed_doors) == 2\n",
    "\n",
    "    # Does the contestant want to switch their choice?\n",
    "    if switch:\n",
    "        if verbose:\n",
    "            print('Contestant switches from door {} '.format(choice+1), end='')\n",
    "\n",
    "        # There are two closed doors left.  The contestant will never\n",
    "        # choose the same door, so we'll remove that door as a choice.\n",
    "        available_doors = list(closed_doors) # Make a copy of the list.\n",
    "        available_doors.remove(choice)\n",
    "\n",
    "        # Change choice to the only door available.\n",
    "        choice = available_doors.pop()\n",
    "        if verbose:\n",
    "            print('to {}'.format(choice+1))\n",
    "\n",
    "    # Did the contestant win?\n",
    "    won = (choice == winning_door)\n",
    "    if verbose:\n",
    "        if won:\n",
    "            print('Contestant WON', end='\\n\\n')\n",
    "        else:\n",
    "            print('Contestant LOST', end='\\n\\n')\n",
    "    return won\n",
    "\n",
    "\n",
    "def main():\n",
    "    # Get command-line arguments\n",
    "    parser = argparse.ArgumentParser(\n",
    "        description='simulate the Monty Hall problem')\n",
    "    parser.add_argument('--doors', default=3, type=int, metavar='int',\n",
    "                        help='number of doors offered to the contestant')\n",
    "    parser.add_argument('--trials', default=10000, type=int, metavar='int',\n",
    "                        help='number of trials to perform')\n",
    "    parser.add_argument('--verbose', default=False, action='store_true',\n",
    "                        help='display the results of each trial')\n",
    "    args = parser.parse_args()\n",
    "\n",
    "    print('Simulating {} trials...'.format(args.trials))\n",
    "\n",
    "    # Carry out the trials\n",
    "    winning_non_switchers = 0\n",
    "    winning_switchers = 0\n",
    "    for i in range(args.trials):\n",
    "        # First, do a trial where the contestant never switches.\n",
    "        won = simulate(args.doors, switch=False, verbose=args.verbose)\n",
    "        if won:\n",
    "            winning_non_switchers += 1\n",
    "\n",
    "        # Next, try one where the contestant switches.\n",
    "        won = simulate(args.doors, switch=True, verbose=args.verbose)\n",
    "        if won:\n",
    "            winning_switchers += 1\n",
    "\n",
    "    print('    Switching won {0:5} times out of {1} ({2}% of the time)'.format(\n",
    "            winning_switchers, args.trials,\n",
    "            (winning_switchers / args.trials * 100 ) ))\n",
    "    print('Not switching won {0:5} times out of {1} ({2}% of the time)'.format(\n",
    "            winning_non_switchers, args.trials,\n",
    "            (winning_non_switchers / args.trials * 100 ) ))\n",
    "\n",
    "\n",
    "##if __name__ == '__main__':\n",
    "##    main()"
   ]
  },
  {
   "cell_type": "markdown",
   "metadata": {},
   "source": [
    "- Well that is quite a program."
   ]
  },
  {
   "cell_type": "markdown",
   "metadata": {},
   "source": [
    "### Sample Execution\n",
    "\n",
    "| <img src=\"../images/L5_executable.jpeg\"> | \n",
    "|:--: | \n",
    "| __Command Line Executable__ |\n",
    "\n",
    "- Notice a couple of things:\n",
    "    - I quit the Python interpreter.\n",
    "    - Then I ran the Monty Hall Python program as if it were an operating system command or executable.\n",
    "    \n",
    "    \n",
    "- This approach executed the program as a [_shell script._](https://en.wikipedia.org/wiki/Shell_script) \"A shell script is a computer program designed to be run by the Unix shell, a command-line interpreter. The various dialects of shell scripts are considered to be scripting languages. Typical operations performed by shell scripts include file manipulation, program execution, and printing text. A script which sets up the environment, runs the program, and does any necessary cleanup, logging, etc. is called a wrapper.\"\n",
    "\n",
    "\n",
    "- Python is a [_scripting language._](https://en.wikipedia.org/wiki/Scripting_language) \"A scripting or script language is a programming language that supports scripts: programs written for a special run-time environment that automate the execution of tasks that could alternatively be executed one-by-one by a human operator. Scripting languages are often interpreted (rather than compiled). Primitives are usually the elementary tasks or API calls, and the language allows them to be combined into more complex programs.\" \n",
    "\n",
    "\n",
    "- Complex engineering and scientific problems (and in many other domains) are often multiple steps that interact with multiple systems and data sources. Python scripting is a common approach for\n",
    "    - Implementing the base steps in the process.\n",
    "    - Controlling the overall, multi-step execution.\n",
    "    \n",
    "    \n",
    "\"Scientific Computing Is More Than Number Crunching: Many computational scientists work with their own numerical software development and realize that much of the work is not only writing computationally intensive number-crunching loops.  Very often programming is about shuffling data in and out of different tools, converting one data format to another, extracting numerical data from a text, and administering numerical experiments involving a large number of data files and directories.  Such tasks are much faster to accomplish in a language like Python than in Fortran, C, C++, C#, or Java.\" _Python Scripting for Computational Science,_ Hans Petter Langtangen, ISBN: 978-3642093159.\n",
    "\n",
    "| <img src=\"../images/L5_data_science_workflow.jpg\"> | \n",
    "|:--: | \n",
    "| [__Data Science Workflow__](https://cacm.acm.org/blogs/blog-cacm/169199-data-science-workflow-overview-and-challenges/fulltext) |\n",
    "\n"
   ]
  },
  {
   "cell_type": "markdown",
   "metadata": {},
   "source": [
    "### Introduction to Shell Scripts\n",
    "\n",
    "There is not a lot of magic:\n",
    "\n",
    "- \"#!/usr/bin/env python3\" informs the operating system what language interpreter to run the shell script.\n",
    "\n",
    "\n",
    "- On a UNIX based system (Linux, Mac, ...), you make the program executable with \"chmod u+x\" There is a similar approach on Windows.\n",
    "\n",
    "\n",
    "- Run the program in a command/terminal window.\n",
    "\n",
    "| <img src=\"../images/L5_shell_execution_2.jpeg\"> | \n",
    "|:--: | \n",
    "| __Data Science Workflow__ |\n",
    "\n",
    "\n",
    "- That was a little underwhelming, but here is the program (will not run in a Jupyter Notebook).\n"
   ]
  },
  {
   "cell_type": "code",
   "execution_count": 47,
   "metadata": {},
   "outputs": [
    {
     "name": "stdout",
     "output_type": "stream",
     "text": [
      "\n",
      "********* Running a Python program as a Shell Script ********\n",
      "Using os.system to execute 'pwd'\n",
      "That was not all that impressive.\n",
      "Let's try ls -a\n",
      "Equally unimpressive.\n",
      "How about reboot? Just kidding.\n",
      "********* Ending a Python program as a Shell Script ********\n",
      "\n"
     ]
    }
   ],
   "source": [
    "#!/usr/bin/env python3\n",
    "\n",
    "import os\n",
    "\n",
    "print(\"\\n********* Running a Python program as a Shell Script ********\")\n",
    "print(\"Using os.system to execute 'pwd'\")\n",
    "os.system('pwd')\n",
    "print(\"That was not all that impressive.\")\n",
    "print(\"Let's try ls -a\")\n",
    "os.system('ls -a')\n",
    "print(\"Equally unimpressive.\")\n",
    "print(\"How about reboot? Just kidding.\")\n",
    "print(\"********* Ending a Python program as a Shell Script ********\\n\")"
   ]
  },
  {
   "cell_type": "markdown",
   "metadata": {},
   "source": [
    "- Maybe this is more impressive\n",
    "\n",
    "| <img src=\"../images/L5_ssh_execution.jpeg\"> | \n",
    "|:--: | \n",
    "| __Remote Program Execution__ |"
   ]
  },
  {
   "cell_type": "markdown",
   "metadata": {},
   "source": [
    "- OK. If you understood what just happened,\n",
    "    - You would forgive me for my boneheaded explanation of boolean _and._\n",
    "    - You would be going \"Ooh\" and \"Aah.\"\n",
    "    - This was Gandalf stuff. Seriously.\n",
    "    \n",
    "    \n",
    "| <img src=\"../images/L4_ssh_overview.jpeg\"> | \n",
    "|:--: | \n",
    "| __Remote Program Execution__ |    \n",
    "    \n",
    "- I have a Linux server running in the Amazon Web Services data center in Virgina. I just\n",
    "    - Securely uploaded the first_shell_script.py to the remote Linux server.\n",
    "    - Made the file executable using a secure command over the Internet.\n",
    "    - Executed the script on the remote system.\n",
    "    \n",
    "    \n",
    "- You would not learn this stuff even at Hogwarts.\n",
    "\n",
    "\n",
    "- I will try to set up an environment in which you can use the technology and get some experience.\n"
   ]
  },
  {
   "cell_type": "markdown",
   "metadata": {},
   "source": [
    "### Back to Monty Hall\n",
    "\n",
    "- Why did we go through all of that? I was explaining the following statements in the program\n",
    "```\n",
    "#!/usr/bin/env python3\n",
    "```\n",
    "\n",
    "and\n",
    "\n",
    "```\n",
    "parser.add_argument('--doors', default=3, type=int, metavar='int',\n",
    "                        help='number of doors offered to the contestant')\n",
    "```\n",
    "\n",
    "- The parser.add_argument stuff handles command line arguments similar to\n",
    "\n",
    "```\n",
    "python --version\n",
    "```\n",
    "\n",
    "- This means that the Monty Hall Program accepts the following command line arguments\n",
    "    - --doors\n",
    "    - --trials\n",
    "    - --verbose\n",
    "    \n",
    "<img src=\"../images/L5_command_arguments.jpeg\">"
   ]
  },
  {
   "cell_type": "markdown",
   "metadata": {},
   "source": [
    "## Refactoring 1 -- Improve Input Model\n",
    "\n",
    "### Issue\n",
    "\n",
    "- The code just \"defaults\" to a bunch of values. That is fine if ONLY the author runs the code and has a very good memory.\n",
    "\n",
    "\n",
    "- The program should clearer about inputs and defaults.\n",
    "\n",
    "### Tentative Code\n",
    "\n"
   ]
  },
  {
   "cell_type": "code",
   "execution_count": 8,
   "metadata": {},
   "outputs": [],
   "source": [
    "default_config = {\n",
    "    \"trials\": 100,\n",
    "    \"verbose\": False,\n",
    "    \"doors\": 3,\n",
    "    \"update_frequency\": None,\n",
    "}\n",
    "\n",
    "\n",
    "# Process arguments and return valid configuration.\n",
    "def get_input():\n",
    "    input_error = False\n",
    "\n",
    "    # Create and configure the argument parser.\n",
    "    parser = argparse.ArgumentParser(description=\"A simulation of the Monty Hall Problem, which will blow your mind.\")\n",
    "\n",
    "    # trials is the number of games to simulate. It is a positive integer.\n",
    "    parser.add_argument('--trials', type=int, help='Number of games to simulate. Default is '  +\n",
    "                        str(default_config['trials']), default=default_config['trials'])\n",
    "\n",
    "    # Doors is the number of doors in the game. It is a positive integer.\n",
    "    parser.add_argument('--doors', type=int, help='Number of doors in a game. Default is ' +\n",
    "                          str(default_config['doors']), default=default_config['doors'])\n",
    "\n",
    "    # update_frequency determines the number of game simulation in between status messages.\n",
    "    # If not specified, the default will be 10% of the total executions.\n",
    "    parser.add_argument('--update_frequency', type=int, help='How many games between printing an update? ' +\n",
    "                        'Default is 10% of total games. Set to more than trials to disable')\n",
    "\n",
    "    parser.add_argument('--verbose', default=False, help='Print trace messages.', \\\n",
    "                        action='store_const', const=True)\n",
    "\n",
    "\n",
    "    # Get the command line arguments\n",
    "    args = parser.parse_args()\n",
    "\n",
    "    # We have shown in class how to use print statements to figure out what is going on\n",
    "    # and debug code. Debugger breakpoints is a better option.\n",
    "    print(\"DEBUG: Yes another one of those annoying print statements to figure out code behavior.\")\n",
    "    print(\"DEBUG: args = \", args)\n",
    "\n",
    "    if args.update_frequency is None:\n",
    "        args.update_frequency = int(0.10 * args.trials)\n",
    "\n",
    "    if (args.doors <= 0) or (args.trials <= 0) or (args.update_frequency <= 0):\n",
    "        input_error = True\n",
    "\n",
    "    result = vars(args)\n",
    "    return result"
   ]
  },
  {
   "cell_type": "markdown",
   "metadata": {},
   "source": [
    "### Comments\n",
    "\n",
    "- This will help. Makes clear what the arguments are and does some basic validation.\n",
    "\n",
    "\n",
    "- The library classes [ArgumentParser](https://docs.python.org/2/library/argparse.html#argumentparser-objects) is quite functional and built-in to Python.\n",
    "    \n",
    "    \n",
    "- How did I know what to do?\n",
    "\n",
    "<img src=\"../images/L5_google_parse.jpeg\">\n",
    "\n",
    "\n",
    "- How do you figure out how to use it? The same way you get to Carnegie Hall.\n"
   ]
  },
  {
   "cell_type": "markdown",
   "metadata": {},
   "source": [
    "## Integrated Development Environment\n",
    "\n",
    "[__Integrated Development Environment:__](https://en.wikipedia.org/wiki/Integrated_development_environment) \"An integrated development environment (IDE) is a software application that provides comprehensive facilities to computer programmers for software development. An IDE normally consists of a source code editor, build automation tools, and a debugger. Most modern IDEs have intelligent code completion.\"\n",
    "\n",
    "Demo\n",
    "- IDEs: PyCharm, Spyder\n",
    "\n",
    "\n",
    "- Functions\n",
    "    - Syntax checking and highlighting.\n",
    "    - Code completion.\n",
    "    - Interactive debugging.\n",
    "   \n",
    "   \n",
    "- Recommendation: Install PyCharm\n",
    "    - PyCharm is very good and free for students.\n",
    "    - There is a learning curve. We will do demos in class and support on Piazza.\n",
    "    - In complex scenarios: 1) Develop and test code in PyCharm. 2) Paste into Notebook for presentation, homework submission, etc."
   ]
  },
  {
   "cell_type": "markdown",
   "metadata": {},
   "source": [
    "## Refactoring 2 -- Incremental Status and Better Verbos\n",
    "\n",
    "- Currently, running can be unnerving. The program runs and does not print enything until completion. We will make 2 changes:\n",
    "    - Display the configuration when execution starts.\n",
    "    - Periodically print status manages to give a warm fuzzy feeling\n",
    "    \n",
    "    \n",
    "- Constantly using if verbose: ... is awkward and error prone. You may forget an if or something. We will convert to a call to a simple console logging function.\n",
    "    \n"
   ]
  },
  {
   "cell_type": "code",
   "execution_count": null,
   "metadata": {},
   "outputs": [],
   "source": [
    "def verbose_message(test_config, msg, value):\n",
    "    if test_config[\"verbose\"]:\n",
    "        if value is not None:\n",
    "            print(msg+' {}.',format(value))\n",
    "        else:\n",
    "            print(msg)"
   ]
  },
  {
   "cell_type": "code",
   "execution_count": null,
   "metadata": {},
   "outputs": [],
   "source": [
    "# Drive simulation\n",
    "def drive_simulation(test_config):\n",
    "\n",
    "    # I cut and pasted the code from original file.\n",
    "    # Carry out the trials\n",
    "    winning_non_switchers = 0\n",
    "    winning_switchers = 0\n",
    "\n",
    "    trials = test_config[\"trials\"]\n",
    "    update_frequency = test_config[\"update_frequency\"]\n",
    "\n",
    "    for i in range(trials):\n",
    "        # First, do a trial where the contestant never switches.\n",
    "        won = simulate(test_config, switch=False)\n",
    "        if won:\n",
    "            winning_non_switchers += 1\n",
    "\n",
    "        # Next, try one where the contestant switches.\n",
    "        won = simulate(test_config, switch=True)\n",
    "        if won:\n",
    "            winning_switchers += 1\n",
    "\n",
    "        # This is the code I wanted to add. We periodically report progress to give the\n",
    "        # to give the user confidence the program is running and an opportunity to stop\n",
    "        # and reconfigure.\n",
    "        if i % update_frequency == 0:\n",
    "            print(\"Running trail #\", i, \"out of\", trials,\"switching wins = \", winning_switchers, \\\n",
    "                  \"non-switching wins\", winning_non_switchers)\n",
    "\n",
    "    return winning_switchers,winning_non_switchers"
   ]
  },
  {
   "cell_type": "markdown",
   "metadata": {},
   "source": [
    "## Final Refactoring\n",
    "\n",
    "- Do not intermix command line parameters and simulation execution.\n",
    "    - Driving the simulation requires a config object.\n",
    "    - The config object comes from the program invoking the simulation.\n",
    "    - We provide a function to get and validate command line inputs, _if the control programs want command line inputs as the source.\n",
    "    \n",
    "\n",
    "- Printing is optional. The simulation returns results. The control program may use in any way it wants, and we provide a print function."
   ]
  },
  {
   "cell_type": "code",
   "execution_count": null,
   "metadata": {},
   "outputs": [],
   "source": [
    "def print_result(test_config, s_wins, n_wins):\n",
    "    s_prob = s_wins / test_config['trials']\n",
    "    n_prob = n_wins / test_config['trials']\n",
    "\n",
    "    print(\"\\n********************************\")\n",
    "    print(\"Simulation configuration: trials=\", test_config['trials'], \", doors=\", test_config['doors'])\n",
    "    print(\"Switch wins = \", s_wins, \"Switch win probability: \", s_prob)\n",
    "    print(\"Switch wins = \", n_wins, \"Switch win probability: \", n_prob)\n",
    "    print(\"\\n********************************\")\n",
    "\n",
    "\n",
    "def print_configuration(test_config):\n",
    "    print(\"Beginning Monty Hall Simulation.\")\n",
    "    print(\"No of trails = \", test_config['trials'])\n",
    "    print(\"No of doors = \", test_config['doors'])\n",
    "    print(\"Status update frequency = \", test_config['update_frequency'])\n",
    "    print(\"Verbose message = \", test_config['verbose'])"
   ]
  },
  {
   "cell_type": "code",
   "execution_count": null,
   "metadata": {},
   "outputs": [],
   "source": [
    "# Some code that would/could be called from a controlling program is below.\n",
    "\n",
    "# Controlling program decided not to use command line arguments.\n",
    "#config = get_input()\n",
    "test_config_1 = {\n",
    "    \"trials\" : 1000,\n",
    "    \"doors\" : 3,\n",
    "    \"verbose\" : False,\n",
    "    \"update_frequency\": 100\n",
    "}\n",
    "\n",
    "\n",
    "print_configuration(test_config_1)\n",
    "\n",
    "switch_wins, non_switch_wins = drive_simulation(test_config_1)\n",
    "\n",
    "print_result(test_config_1, switch_wins, non_switch_wins)"
   ]
  },
  {
   "cell_type": "markdown",
   "metadata": {},
   "source": [
    "## Simulating an Individual Game\n"
   ]
  },
  {
   "cell_type": "code",
   "execution_count": null,
   "metadata": {},
   "outputs": [],
   "source": [
    "def simulate(test_config, switch):\n",
    "    \"\"\"(int, bool): bool\n",
    "\n",
    "    Carry out the game for one contestant.  If 'switch' is True,\n",
    "    the contestant will switch their chosen door when offered the chance.\n",
    "    Returns a Boolean value telling whether the simulated contestant won.\n",
    "    \"\"\"\n",
    "\n",
    "    # Doors are numbered from 0 up to num_doors-1 (inclusive).\n",
    "    num_doors = test_config[\"doors\"]\n",
    "\n",
    "    # Randomly choose the door hiding the prize.\n",
    "    winning_door = random.randint(0, num_doors-1)\n",
    "\n",
    "    # The repeated if verbose: ... is annoying and error prone.\n",
    "    verbose_message(test_config, 'Prize is behind door', winning_door+1)\n",
    "\n",
    "    # The contestant picks a random door, too.\n",
    "    choice = random.randint(0, num_doors-1)\n",
    "    verbose_message(test_config, 'Contestant chooses door', choice + 1)\n",
    "\n",
    "    # The host opens all but two doors.\n",
    "    closed_doors = list(range(num_doors))\n",
    "    while len(closed_doors) > 2:\n",
    "        # Randomly choose a door to open.\n",
    "        door_to_remove = random.choice(closed_doors)\n",
    "\n",
    "        # The host will never open the winning door, or the door\n",
    "        # chosen by the contestant.\n",
    "        if door_to_remove == winning_door or door_to_remove == choice:\n",
    "            continue\n",
    "\n",
    "        # Remove the door from the list of closed doors.\n",
    "        closed_doors.remove(door_to_remove)\n",
    "        verbose_message(test_config,'Host opens door',door_to_remove)\n",
    "\n",
    "    # There are always two doors remaining.\n",
    "    assert len(closed_doors) == 2\n",
    "\n",
    "    # Does the contestant want to switch their choice?\n",
    "    if switch:\n",
    "        verbose_message(test_config, 'Contestant switches from door',choice+1)\n",
    "\n",
    "        # There are two closed doors left.  The contestant will never\n",
    "        # choose the same door, so we'll remove that door as a choice.\n",
    "        available_doors = list(closed_doors) # Make a copy of the list.\n",
    "        available_doors.remove(choice)\n",
    "\n",
    "        # Change choice to the only door available.\n",
    "        choice = available_doors.pop()\n",
    "        verbose_message(test_config,'to',choice+1)\n",
    "\n",
    "    # Did the contestant win?\n",
    "    won = (choice == winning_door)\n",
    "    if won:\n",
    "        verbose_message(test_config,'Contestant WON',None)\n",
    "    else:\n",
    "        verbose_message(test_config,'Contestant LOST',None)\n",
    "\n",
    "    return won"
   ]
  },
  {
   "cell_type": "markdown",
   "metadata": {},
   "source": [
    "## The Wizard is Back\n",
    "\n",
    "<img src=\"../images/L5_gandalf_1.jpeg\">\n",
    "\n",
    "- What was happening? A simple instance of cloud computing for numeric and data intensive applications.\n",
    "\n",
    "\n",
    "<img src=\"../images/L5_cloud_simulate.jpeg\">\n",
    "\n",
    "- I will try to set up a server and some permissions so that you can play with dispatching your simulation to the Amazon cloud, just so that you can say you have."
   ]
  },
  {
   "cell_type": "markdown",
   "metadata": {},
   "source": [
    "## Sadly, It is Homework Time\n",
    "\n",
    "### Overview\n",
    "\n",
    "- A simple algorithm for predicting stock prices.\n",
    "    - Based on Apples (AAPL) performance from 01-Jan-2016 to now\n",
    "    - What will the stock do in the next year? (252 trading days)\n",
    "    \n",
    "\n",
    "<img src=\"../images/L5_aapl_1.jpeg\">\n",
    "\n",
    "\n",
    "- This is a [random walk](https://en.wikipedia.org/wiki/Random_walk) -- \"A random walk is a mathematical object, known as a stochastic or random process, that describes a path that consists of a succession of random steps on some mathematical space.\"\n",
    "\n",
    "\n",
    "- The mathematical space is the stock price for AAPL.\n",
    "\n",
    "\n",
    "- The two parameters determing the walk are:\n",
    "    - $\\mu$: The \"drift.\"\n",
    "    - $\\sigma$: The \"volatility.\"\n",
    "    \n",
    "\n",
    "- A common model for computing the path from $\\mu$ and $\\sigma$ is [geometric Brownian motion](https://en.wikipedia.org/wiki/Geometric_Brownian_motion) (GBM).\n",
    "\n",
    "\\begin{equation}\n",
    "S_t = S_{t-1} * (1 + \\mu\\delta t + \\sigma\\phi \\sqrt{\\delta t})\n",
    "\\end{equation}\n",
    "\n",
    "- Where $\\delta t$ is the time step increment and $\\phi$ is a random variable normally distributed between (0,1) "
   ]
  },
  {
   "cell_type": "markdown",
   "metadata": {},
   "source": [
    "### Monte Carlo Simulation\n",
    "\n",
    "- One random walk is, well, random.\n",
    "\n",
    "\n",
    "- Monte Carlo simulation generates many random walks with the same parameters.\n",
    "\n",
    "\n",
    "- If we set\n",
    "    - $S_0 = 171.71$\n",
    "    - $\\mu = 0.00091626984$\n",
    "    - $\\sigma =0.42$\n",
    "    - Number of simulations = 1000\n",
    "\n",
    "\n",
    "- We get\n",
    "\n",
    "<img src=\"../images/L5_gbm_1.jpeg\">\n",
    "\n"
   ]
  },
  {
   "cell_type": "markdown",
   "metadata": {},
   "source": [
    "- This is kind of overwhelming but does provide some insights of risk/reward.\n",
    "\n",
    "\n",
    "- We can also start to summarize and analyze the overall behavior.\n",
    "\n",
    "<img src=\"../images/L5_gbm_2.jpeg\">\n"
   ]
  },
  {
   "cell_type": "markdown",
   "metadata": {},
   "source": [
    "### The Homework, and an Obvious Question\n",
    "\n",
    "- Question: \"Where do we get $\\mu$ and $\\sigma$?\n",
    "\n",
    "\n",
    "#### Homework -- Step 1\n",
    "\n",
    "- I will give you a set of [comma separated value](https://en.wikipedia.org/wiki/Comma-separated_values) files of the form:\n",
    "\n",
    "<img src=\"../images/L5_aapl_csv.jpeg\">\n",
    "\n",
    "\n",
    "- The file names will be of the form AAPL.csv, AMZN.csv, ... where the first part of the file name is the [ticker symbol.](https://en.wikipedia.org/wiki/Ticker_symbol)\n",
    "\n",
    "\n",
    "- You will implement a Python program that:\n",
    "    - Takes the ticker symbol as a command line parameter.\n",
    "    - Tests that the symbol is in a predefined list of valid symbols defined in your program.\n",
    "    - Reads the file into a data frame. I will give you this code.\n",
    "    - Computes the daily return, the average daily return ($\\mu$) and the volatility ($\\sigma$). You have to do this in your own code, and not use a library. This will test looping, operators, etc.\n",
    "    - Prints out the values.\n",
    "    - Plots the data. I will give you a function that does the plotting.\n",
    "    \n",
    "    \n",
    "#### Homework -- Step 2\n",
    "\n",
    "- You will write a program that accepts the initial stock price, $\\mu$, $\\sigma,$ the number of walks to execute and the initial stock price $S$ from the command line.\n",
    "\n",
    "\n",
    "- The program will run the Monte Carlo Simulation and plot the individual walks and histogram. I will provide the functions that do the plotting.\n",
    "\n",
    "\n",
    "\n",
    "#### Methodology\n",
    "\n",
    "- We will follow a very simple, very compressed [agile development process](https://en.wikipedia.org/wiki/Agile_software_development). I will explain in next lecture.\n",
    "\n",
    "\n",
    "- Sprint 1 is homework step 1. Due date is 08-Feb. This will enable\n",
    "    - Your doing a little thinking and web searching.\n",
    "    - Time for us to discuss on 01-Feb, which is a week before due date.\n",
    "    \n",
    "    \n",
    "- Sprint 2 starts 08-Feb and completes 15-Feb with the submission of HW part 2.\n",
    "    "
   ]
  },
  {
   "cell_type": "markdown",
   "metadata": {},
   "source": [
    "## Flows of Control -- Overview\n",
    "\n",
    "### Computer Hardware Instructions\n",
    "\n",
    "- The unit of execution in a computer is an _instruction._ There are three categories of instructions\n",
    "    1. Access or move bytes.\n",
    "    1. Operate on bytes (add, multiply, compare, ...)\n",
    "    1. Control-flow\n",
    "\n",
    "\n",
    "<img src=\"../images/cpu2.jpg\">\n",
    "\n",
    "\n",
    "- The power of a computer is that it can execute billions of _extremely simple_ instructions per second, e.g.\n",
    "    - Multiply two numbers.\n",
    "    - Compare two numbers.\n",
    "    - Move 8 bytes from one memory location to another.\n",
    "    - etc.\n",
    "    \n",
    "    \n",
    "- Number of instruction types\n",
    "    - Intel x86 (PCs, servers, Mac): $O(1000) = $ around 1,000 to 4,000.\n",
    "    - ARM (phones, mobile devices): $O(500) = $ around 100 to 500.\n",
    "    - These numbers are a little misleading because\n",
    "        - There are several different versions of similar operations, e.g\n",
    "            - x86 has 6 different instructions to move bytes from one location to another.\n",
    "            - X86 and ARM have about 10-12 different instructions for comparing and manipulating bits/bytes.\n",
    "        - Some are very highly-specialized and used only to optimize operating system, disk input/output, etc, e.g.\n",
    "            - 0F 01 DF: \"Invalidates the TLB mapping for the virtual page specified in RAX and the ASID specified in ECX.\"\n",
    "            - F2 0F 38 F0: \"Computes CRC value using the CRC-32C (Castagnoli) polynomial 0x11EDC6F41 (normal form 0x1EDC6F41). This is the polynomial used in iSCSI. In contrast to the more popular one used in Ethernet, its parity is even, and it can thus detect any error with an odd number of changed bits.\""
   ]
  },
  {
   "cell_type": "code",
   "execution_count": null,
   "metadata": {},
   "outputs": [],
   "source": []
  },
  {
   "cell_type": "markdown",
   "metadata": {},
   "source": [
    "### Assembly Language\n",
    "\n",
    "\"An assembly (or assembler) language, often abbreviated asm, is a low-level programming language for a computer, or other programmable device, in which there is a very strong (but often not one-to-one) correspondence between the language and the architecture's machine code instructions.\" (https://en.wikipedia.org/wiki/Assembly_language)\n",
    "\n",
    "\n",
    "Very highly specialized use cases, often to interact directly with hardware control functions.\n",
    "\n",
    "<img src=\"../images/L4_assembly_language.jpeg\">"
   ]
  },
  {
   "cell_type": "markdown",
   "metadata": {},
   "source": [
    "### Programming Statements\n",
    "\n",
    "- High-level, more intuitive languages like Python have _statements._\n",
    "\n",
    "\n",
    "- A [_compiler_](https://en.wikipedia.org/wiki/Compiler) or <a href=\"https://en.wikipedia.org/wiki/Interpreter_(computing)\"><i>interpreter</i></a> maps language statement to multiple assembler/HW statements that implement the statement.\n",
    "\n",
    "\n",
    "- Programming languages have _simple statements_ and _compound statements._\n",
    "\n",
    "```\n",
    "simple_stmt ::=  expression_stmt\n",
    "                 | assert_stmt\n",
    "                 | assignment_stmt\n",
    "                 | augmented_assignment_stmt\n",
    "                 | annotated_assignment_stmt\n",
    "                 | pass_stmt\n",
    "                 | del_stmt\n",
    "                 | return_stmt\n",
    "                 | yield_stmt\n",
    "                 | raise_stmt\n",
    "                 | break_stmt\n",
    "                 | continue_stmt\n",
    "                 | import_stmt\n",
    "                 | global_stmt\n",
    "                 | nonlocal_stmt\n",
    "                 \n",
    "compound_stmt ::=  if_stmt\n",
    "                   | while_stmt\n",
    "                   | for_stmt\n",
    "                   | try_stmt\n",
    "                   | with_stmt\n",
    "                   | funcdef\n",
    "                   | classdef\n",
    "                   | async_with_stmt\n",
    "                   | async_for_stmt\n",
    "                   | async_funcdef\n",
    "suite         ::=  stmt_list NEWLINE | NEWLINE INDENT statement+ DEDENT\n",
    "statement     ::=  stmt_list NEWLINE | compound_stmt\n",
    "stmt_list     ::=  simple_stmt (\";\" simple_stmt)* [\";\"]\n",
    "\n",
    "```\n"
   ]
  },
  {
   "cell_type": "markdown",
   "metadata": {},
   "source": [
    "### Statement Execution\n",
    "\n",
    "A program is\n",
    "- A set or group of statements.\n",
    "- A control-flow or order for execution of the statements.\n",
    "\n",
    "\n",
    "[flowchart](https://en.wikipedia.org/wiki/Flowchart): \"A flowchart is a type of diagram that represents an algorithm, workflow or process, showing the steps as boxes of various kinds, and their order by connecting them with arrows.\"\n",
    "\n",
    "_How to fix a lamp_\n",
    "<img src=\"../images/L4_fix_lamp.jpeg\">\n",
    "\n",
    "\n",
    "A flow chart is a useful way to learn programming.\n",
    "\n",
    "_Compute Fibonacci Numbers_\n",
    "\n",
    "<img src=\"https://www.rff.com/fibonacci-numbers.png\">"
   ]
  }
 ],
 "metadata": {
  "celltoolbar": "Raw Cell Format",
  "kernelspec": {
   "display_name": "Python 3",
   "language": "python",
   "name": "python3"
  },
  "language_info": {
   "codemirror_mode": {
    "name": "ipython",
    "version": 3
   },
   "file_extension": ".py",
   "mimetype": "text/x-python",
   "name": "python",
   "nbconvert_exporter": "python",
   "pygments_lexer": "ipython3",
   "version": "3.6.3"
  },
  "toc": {
   "nav_menu": {},
   "number_sections": true,
   "sideBar": true,
   "skip_h1_title": false,
   "title_cell": "Table of Contents",
   "title_sidebar": "Contents",
   "toc_cell": false,
   "toc_position": {},
   "toc_section_display": true,
   "toc_window_display": false
  }
 },
 "nbformat": 4,
 "nbformat_minor": 2
}
