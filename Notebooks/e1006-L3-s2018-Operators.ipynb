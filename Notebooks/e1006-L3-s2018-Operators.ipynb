{
 "cells": [
  {
   "cell_type": "markdown",
   "metadata": {},
   "source": [
    "<h1 style=\"display:none;\">\n",
    "<h1 style=\"display:none;\">\n",
    "\n",
    "# Introduction to Computing for Engineers and Computer Scientists<BR><BR>Built-In Types, Expressions, Operators, Testing, Control Flow\n"
   ]
  },
  {
   "cell_type": "markdown",
   "metadata": {},
   "source": [
    "## Logistics\n",
    "\n",
    "- I am meeting with the course assistants tomorrow. The CAs will post their office hours on Piazza in a day or two.\n",
    "\n",
    "\n",
    "- I delayed the due date for HW1 to 30-Jan because of the setup problems, and the fact that I have not coordinated with the CAs.\n",
    "\n",
    "\n",
    "- We seem to have two Piazza forums for the class. Please use the one linked from CourseWorks, which most of you seem to have been using. (piazza.com/columbia/spring2018/engie1006_001_2018_1introtocompforengappsci)\n"
   ]
  },
  {
   "cell_type": "markdown",
   "metadata": {},
   "source": [
    "## Questions\n",
    "\n",
    "### Limit on Numbers\n",
    "\n",
    "After the last lecture:\n",
    "\n",
    "- Student question\n",
    "    -\"Hey, Prof. You told us the biggest number in a computer is $2^{64}.$ \n",
    "    - The largest known prime number is  $2^{77,232,917} − 1$ (https://en.wikipedia.org/wiki/Largest_known_prime_number)\n",
    "    - Presumably they used a computer to figure this out, how did that work?\"\n",
    "\n",
    "\n",
    "- Prof Answer: \"From the Python 3 manual, 'The sys.maxint constant was removed, since there is no longer a limit to the value of integers.'\" \n",
    "\n",
    "\n",
    "- Student: \"Umm. How does that work?\"\n",
    "\n",
    "\n",
    "- Prof Answer: \n",
    "\n",
    "<img src=\"../images/L3_kid.jpeg\">\n"
   ]
  },
  {
   "cell_type": "markdown",
   "metadata": {},
   "source": [
    "#### Floating Point"
   ]
  },
  {
   "cell_type": "code",
   "execution_count": 49,
   "metadata": {},
   "outputs": [
    {
     "name": "stdout",
     "output_type": "stream",
     "text": [
      "The largest Python float possible on my system is  1.7976931348623157e+308\n",
      "The largest exponent for base 10 is   308\n",
      "Maximum number of digits of precision is  15\n"
     ]
    }
   ],
   "source": [
    "import sys\n",
    "print(\"The largest Python float possible on my system is \", sys.float_info.max)\n",
    "print(\"The largest exponent for base 10 is  \", sys.float_info.max_10_exp)\n",
    "print(\"Maximum number of digits of precision is \", sys.float_info.dig)\n"
   ]
  },
  {
   "cell_type": "markdown",
   "metadata": {},
   "source": [
    "\n",
    "<img src=\"../images/L3_IEEE_754.jpeg\">\n",
    "\n",
    "- 1.7976931348623157e+308 has has 308 decimal digits.\n",
    "\n",
    "\n",
    "- $2^{1023} \\approx 8.988465674312 \\times 10^{307} \\approx 0.8988465674312 \\times 10^{308}$\n",
    "\n",
    "\n",
    "- The 52-mantissa (in binary) is 1.111111 ... 111.\n",
    "    - Binary $1.111111111111111111111111$ = $1.99999994039535522461$ decimal.\n",
    "    - So, we get $(1.99999994039535522461 \\times 0.8988465674312) \\times 10^{308}  \\approx 1.797693081287 \\times 10^{308}$\n",
    "\n",
    "\n",
    "#### Integers\n",
    "\n",
    "- Since we have 64 bits, it seems the largest integer could be $2^{63}$ with 1 bit for sign.\n",
    "\n",
    "\n",
    "- This is pretty big, but ...\n",
    "    - \"The sys.maxint constant was removed, since there is no longer a limit to the value of integers.\" (https://docs.python.org/3/whatsnew/3.0.html) \n",
    "    - The largest known prime number is  $2^{77,232,917} − 1,$ which has 23,249,425 digits.\n",
    "\n",
    "\n",
    "- How does this work?\n",
    "    - Python, and other languages' libraries, do not use the built-in hardware for very large numbers.\n",
    "    - The libraries do it symbolically using software.\n",
    "\n",
    "\n",
    "- $2^{64} \\approx 1.844674407371\\times10^{19}$, which has 20 digits.\n",
    "\n",
    "\n",
    "- What is the sum of the following 25 digit numbers?\n",
    "<br><br>\n",
    "\\begin{equation}\n",
    "1234567890123456789012345 + 10987654321098765432109875\n",
    "\\end{equation}\n",
    "\n",
    "\n",
    "- You could do this with a pencil and piece of paper, by basically following a \"program\" you learned in school.\n",
    "\n",
    "\n",
    "- The computer treats very large integers as an array of digits and follows an algorithm similar to what you learned in school."
   ]
  },
  {
   "cell_type": "code",
   "execution_count": 2,
   "metadata": {},
   "outputs": [
    {
     "name": "stdout",
     "output_type": "stream",
     "text": [
      "dig1 =  [1, 2, 3, 4, 5, 6, 7, 8, 9, 0, 1, 2, 3, 4, 5, 6, 7, 8, 9, 0, 1, 2, 3, 4, 5]\n",
      "dig2 =  [1, 0, 9, 8, 7, 6, 5, 4, 3, 2, 1, 0, 9, 8, 7, 6, 5, 4, 3, 2, 1, 0, 9, 8, 7, 5]\n",
      "dig3 =  [8, 2, 3, 4]\n",
      "10 to  0  place digit for  [8, 2, 3, 4]  is  4\n",
      "10 to  3  place digit for  [8, 2, 3, 4]  is  8\n",
      "10 to  25  place digit for  [8, 2, 3, 4]  is  0\n",
      "Coverting  [1, 2, 3, 4, 5, 6, 7, 8, 9, 0, 1, 2, 3, 4, 5, 6, 7, 8, 9, 0, 1, 2, 3, 4, 5] to a num string is  1234567890123456789012345\n",
      "8234  +  1906  =  10140\n",
      "1234567890123456789012345  +  10987654321098765432109875  =  12222222211222222221122220\n"
     ]
    }
   ],
   "source": [
    "# This module supports addition of large, positive integers.\n",
    "# An example is\n",
    "# 1234567890123456789012345 + 10987654321098765432109875\n",
    "# Both operands are larger than sys.maxsize = 9223372036854775807,\n",
    "# which is the largest integer the system can represent in 64 bits.\n",
    "#\n",
    "# The module symbolically does the addition they way students\n",
    "# learn in in school. The integer input is a text string of digits.\n",
    "#\n",
    "# The module expands each operand to a list of digits, and then adds\n",
    "# one position at a time, with support for carry.\n",
    "#\n",
    "\n",
    "# Input is a string of the form \"109876\"\n",
    "# Output is an array of the form [1, 0, 9, 8, 7, 6]\n",
    "# NOTE: The function should, but does not check for bad input like\n",
    "# non-digits.\n",
    "#\n",
    "def num_str_to_digits(num):\n",
    "    # Hold the result.\n",
    "    digits = []\n",
    "    \n",
    "    # Loop through each character in the string.\n",
    "    for char in num:\n",
    "        # Convert the character in the position, e.g. '3'\n",
    "        # To the integer it represents, e.g. 3\n",
    "        # And append to the array\n",
    "        digits.append( int(char) )\n",
    "        \n",
    "    # return the result\n",
    "    return digits\n",
    "\n",
    "# Reverse of num_str_to_digits.\n",
    "# Takes an input of the form [1, 2, 3, 7]\n",
    "# Returns \"1237\"\n",
    "#\n",
    "def digits_to_num_str(d):\n",
    "    # map the str(x) function to each element in the list\n",
    "    # The map converts [1, 2, 3, 7] to [\"1\", \"2\", \"3\", \"7\"]\n",
    "    # Then return a string which is the elements \"joined\"\n",
    "    s = \"\".join(map(str,d))\n",
    "    return s\n",
    "\n",
    "# The input is an array of digits and a position.\n",
    "# The position is the 10^i digit in the list representation\n",
    "# of the number, e.g. if i is 3 and num is [1, 2, 3, 4, 5] the\n",
    "# result is 2. If i is 0, the result is 5.\n",
    "#\n",
    "# If the 10s position is higher than the numer of digits, return 0\n",
    "#\n",
    "def get_digit_from_list(num, i):\n",
    "    result = 0\n",
    "    \n",
    "    # Length of the list. Also means that the highest 10s position\n",
    "    # is 10**(len - 1)\n",
    "    #\n",
    "    length = len(num)\n",
    "    \n",
    "    # We need to start at the end. So, the zero position is -1,\n",
    "    # the 10s position is -2, ... We also need to check if the 10s\n",
    "    # position is to larger.\n",
    "    i = i + 1\n",
    "    if i > length:\n",
    "        result = 0\n",
    "    else:\n",
    "        result = num[-1 * i]\n",
    "        \n",
    "    # Return result.\n",
    "    return result\n",
    "\n",
    "\n",
    "# Perform symbolic addition.\n",
    "# Input is two lists of integers symbolically representing a number.\n",
    "# For example, [1, 2, 0, 9] represents \"1209\"\n",
    "# The result is a symbolic representation of the sum. For example\n",
    "# [1, 2, 3, 4] + [9, 1, 1, 1] is [1,0,3,4,5]\n",
    "#\n",
    "def add_num_arrays(n1, n2):\n",
    "    \n",
    "    # Get length of the longest number. Addition needs to\n",
    "    # process every decimal place.\n",
    "    max_len = max(len(n1), len(n2))\n",
    "    \n",
    "    # Placeholder for result.\n",
    "    result = []\n",
    "    \n",
    "    # Represents the 10s position we are adding, and starts at 0\n",
    "    i = 0\n",
    "    # Do we have to carry the 1 to the next position.\n",
    "    carry = 0\n",
    "    \n",
    "    # Loop and examine every digit.\n",
    "    while i < max_len:\n",
    "        \n",
    "        # Get the 10**i digit from each number.\n",
    "        d1 = get_digit_from_list(n1, i)\n",
    "        d2 = get_digit_from_list(n2, i)\n",
    "        #print(\"The two digits are \", d1, \", \", d2)\n",
    "        \n",
    "        # Next pass through the loop will examine 10**(i+1)\n",
    "        # if one of the numbers is big enough\n",
    "        i = i + 1\n",
    "        \n",
    "        # The result value for 10**i is the sum of the two\n",
    "        # digits plus anything carried.\n",
    "        new_digit = d1 + d2 + carry\n",
    "        \n",
    "        # If the digit is larger than 10, subtract 10 and carry 1\n",
    "        if new_digit >= 10:\n",
    "            carry = 1\n",
    "            new_digit = new_digit - 10\n",
    "        else:\n",
    "            carry = 0\n",
    "        \n",
    "        # Add the digit to the result at the beginning. We compute the\n",
    "        # result going right to left.\n",
    "        result.insert(0,new_digit)\n",
    "        \n",
    "    # When we have processed all digits, if we still have a carry,\n",
    "    # then we add a 1 at the beginning.\n",
    "    if carry == 1:\n",
    "        result.insert(0,1)\n",
    "        \n",
    "    return result\n",
    "\n",
    "\n",
    "# This code below would be in a separate file that we use to test the module above.\n",
    "# Just easiest to put here for now.\n",
    "#\n",
    "num1 = \"1234567890123456789012345\"\n",
    "num2 = \"10987654321098765432109875\"\n",
    "num3 = \"8234\"\n",
    "num4 = \"1906\"\n",
    "\n",
    "dig1 = None\n",
    "dig2 = None\n",
    "dig3 = None\n",
    "    \n",
    "def test_digits_to_num_str(d):\n",
    "    s = digits_to_num_str(d)\n",
    "    print(\"Coverting \", d, \"to a num string is \", s)\n",
    "    \n",
    "def test_string_to_array():\n",
    "    global dig1\n",
    "    global dig2\n",
    "    global dig3\n",
    "    dig1 = num_str_to_digits(num1)\n",
    "    print(\"dig1 = \", dig1)\n",
    "    dig2 = num_str_to_digits(num2)\n",
    "    print(\"dig2 = \", dig2)\n",
    "    dig3 = num_str_to_digits(num3)\n",
    "    print(\"dig3 = \", dig3)\n",
    "\n",
    "def test_get_digit_from_list():\n",
    "    exp = 0\n",
    "    print(\"10 to \", exp, \" place digit for \", dig3, \" is \", get_digit_from_list(dig3, exp))\n",
    "    exp = 3\n",
    "    print(\"10 to \", exp, \" place digit for \", dig3, \" is \", get_digit_from_list(dig3, exp))\n",
    "    exp = 25\n",
    "    print(\"10 to \", exp, \" place digit for \", dig3, \" is \", get_digit_from_list(dig3, exp))\n",
    "    \n",
    "test_string_to_array()\n",
    "test_get_digit_from_list()\n",
    "\n",
    "dig1 = num_str_to_digits(num1)\n",
    "dig2 = num_str_to_digits(num2)\n",
    "\n",
    "test_digits_to_num_str(dig1)\n",
    "\n",
    "dig3 = num_str_to_digits(num3)\n",
    "dig4 = num_str_to_digits(num4)\n",
    "\n",
    "r = add_num_arrays(dig3, dig4)\n",
    "r = digits_to_num_str(r)\n",
    "print (num3, \" + \", num4, \" = \", r)\n",
    "\n",
    "r = add_num_arrays(dig1, dig2)\n",
    "r = digits_to_num_str(r)\n",
    "print (num1, \" + \", num2, \" = \", r)\n",
    "\n"
   ]
  },
  {
   "cell_type": "markdown",
   "metadata": {},
   "source": [
    "#### Comments\n",
    "\n",
    "- We just implemented a simple _algorithm._\n",
    "\n",
    "\n",
    "- We also learned our first principle of software engineering $-$ [decomposition](https://en.wikipedia.org/wiki/Decomposition_(computer_science):\n",
    "    - Do not write one large program implementing all aspects of an algorithm.\n",
    "    - Break the algorithm into sub-algorithms, e.g. \"How do I get the 10<sup>i</sup> position digit.\n",
    "    - Implement and test each smaller algorithm.\n",
    "    - Combine the smaller pieces into a solution.\n",
    "    \n",
    "    \n",
    "- Decomposition\n",
    "    - Produces more reliable software by complying with [bounded rationality](https://en.wikipedia.org/wiki/Bounded_rationality)\n",
    "    - Improves productivity by enabling subteams to work in parallel on subproblems.\n",
    "    - Produces resuable code and modules that may apply to other solutions.\n",
    "    \n",
    "    \n",
    "- A complete solution would have to implement the additional integer operators\n",
    "    - $- $ is obvious\n",
    "    - $p \\times q,$ but multiplcation is just repetitive addition.\n",
    "    - $p \\div q,$ but division is just a form of multiplication.\n",
    "    - Boolean operators $ =, \\lt, \\le, \\gt, \\ge.$ How to do this should be clear. We just compare the individual digits and length instead of adding.\n",
    "    \n",
    "    \n",
    "- You can extend the approach to floating point numbers.\n",
    "\n",
    "\n",
    "- Libraries that perform these function have optimizations. The implementation above is simple and naive.\n",
    "\n",
    "\n",
    "- Python uses hardware representation for small enough integers, but automatically converts to array like representations for larger integers.\n",
    "\n",
    "\n",
    "- There are libraries that do infinite precision math for integers and floats, e.g. http://mpmath.org/\n",
    "\n",
    "\n",
    "- __Net:__ \n",
    "    - Programs can symbolically implement math in software for very large numbers.\n",
    "    - The only practical limit is the total number of available memory bytes for numbers.\n",
    "    - The approach is significantly slower than direct implementation in hardware. Simplistically, 1 + 3 = 3\n",
    "        - is one clock cycle if done in HW.\n",
    "        - Billions of clock cycles if done in SW.\n",
    "        \n",
    "        \n",
    "- I will explain HW arithmetic in a future lecture, but we have to learn more Python right now.\n",
    "        \n",
    "    "
   ]
  },
  {
   "cell_type": "markdown",
   "metadata": {},
   "source": [
    "## Python Built-In Types\n",
    "\n",
    "### Overview\n",
    "\n",
    "<img src=\"../images/ptypes.jpeg\">\n",
    "\n",
    "<br><br>\n"
   ]
  },
  {
   "cell_type": "markdown",
   "metadata": {},
   "source": [
    "### Numeric Types\n",
    "\n",
    "- Numeric types are straight forward and are what you expect.\n",
    "\n",
    "\n",
    "- There are a bunch of operators and functions, which we will cover later.\n",
    "\n",
    "\n",
    "- There is a very powerful built-in math library, and some even more powerful optional packages.\n",
    "\n",
    "\n",
    "- Some examples:"
   ]
  },
  {
   "cell_type": "code",
   "execution_count": 51,
   "metadata": {},
   "outputs": [
    {
     "name": "stdout",
     "output_type": "stream",
     "text": [
      "Some basic objects:\n",
      "x =  4\n",
      "y =  3.1416\n",
      "z =  (4+3.1416j)\n",
      "c =  (1+2j)\n",
      "\n",
      "Result of operations on objects.\n",
      "z + c \t =  (5+5.1416j)\n",
      "x + y \t =  7.1416\n",
      "x * c \t =  (4+8j)\n",
      "\n",
      "Result of some more operations on objects.\n",
      "The real part of z is  4.0\n",
      "The imaginary part of z  is  3.1416\n",
      "The integer part of y is  3\n",
      "I can also compute the ceiling of y, which is  4\n",
      "x / y =  1.2732365673542145\n",
      "x // y = 1.0\n"
     ]
    }
   ],
   "source": [
    "import math\n",
    "\n",
    "x = 4\n",
    "y = 3.1416\n",
    "z = complex(x,y)\n",
    "c = 1+2j\n",
    "\n",
    "print(\"Some basic objects:\")\n",
    "print(\"x = \", x)\n",
    "print(\"y = \", y)\n",
    "print(\"z = \", z)\n",
    "print(\"c = \", c)\n",
    "print(\"\\nResult of operations on objects.\")\n",
    "print(\"z + c \\t = \", z+c)\n",
    "print(\"x + y \\t = \", x + y)\n",
    "print(\"x * c \\t = \", x*c)\n",
    "print(\"\\nResult of some more operations on objects.\")\n",
    "print(\"The real part of z is \", z.real)\n",
    "print(\"The imaginary part of z  is \", z.imag)\n",
    "print(\"The integer part of y is \", int(y))\n",
    "print(\"I can also compute the ceiling of y, which is \", math.ceil(y))\n",
    "print(\"x / y = \", x / y)\n",
    "print(\"x // y =\", x //y)\n",
    "\n",
    "\n"
   ]
  },
  {
   "cell_type": "markdown",
   "metadata": {},
   "source": [
    "- Representing numberic types\n",
    "    - int/Integer has 4 representations in Python\n",
    "        - Decimal: \n",
    "            - Digits are 0,1,2,3,4,5,6,7,8,9\n",
    "            - Examples are: 0, 231, 3978\n",
    "        - [Hexadecimal](https://en.wikipedia.org/wiki/Hexadecimal):\n",
    "            - Digits are 0,1,2,3,4,5,6,7,8,9,A,B,C,D,E,F\n",
    "            - Examples:\n",
    "                - 0x23 =  (2 * 16) + 3 = 35\n",
    "                - 0xFA2 = (15 * (16 * 16) + (10 * 16) + 2  = 4002\n",
    "        - [Octal](https://en.wikipedia.org/wiki/Octal)\n",
    "            - Digits are 0,1,2,3,4,5,6,7\n",
    "            - Examples:\n",
    "                - 0o21 = (2 * 8) + 1 = 17\n",
    "                - 0o1001 = 513\n",
    "        - [Binary](https://en.wikipedia.org/wiki/Binary_number):\n",
    "            - Digits are 0,1\n",
    "            - Examples:\n",
    "                - 0b11 = (1 * 2) + 1 = 3\n",
    "                -0b1000 = 8\n",
    "    - A real number has two representations\n",
    "        - [Floating point decimal](https://en.wikipedia.org/wiki/Decimal_floating_point):\n",
    "            - Format is (decimal int).(decimal int)\n",
    "            - Examples:\n",
    "                - 3.1416\n",
    "                - 2.7813\n",
    "                - 1.1414\n",
    "        - [Exponential notation](https://en.wikipedia.org/wiki/Scientific_notation): Also known as scientific notation\n",
    "            - Format is (floating point)e(int)\n",
    "            - Examples:\n",
    "                -  21e3 = 21000\n",
    "                - 0.000213e3 = 0.213\n",
    "        - [Complex](https://en.wikipedia.org/wiki/Complex_number):\n",
    "            - Format is (floating point)+(floating point)j\n",
    "            - Examples:\n",
    "                -  2.1718+3.1416j = (2.1718+3.1416j)\n",
    "                - complex(3,21.3) = (3+21.3j)\n",
    "          \n",
    "          \n",
    "- Limits\n",
    "    - Numbers in the real world can be -infinity to infinity, and have infinite number of decimal places.\n",
    "    - The basic types (classes) in Python have upper and lower bounds.\n",
    "    - There are modules that support increased limits and precision.\n",
    "    \n",
    "<img src=\"../images/floatinfo.jpeg\">\n",
    "\n",
    "\n",
    "- Rounding errors\n",
    "    - In base 10, there is no decimal representation for irrational numbers, e.g. 1/3 or sqrt(2).\n",
    "    - Some numbers are irrational in base 2, which is what a computer uses, e.g. 0.1 <br>So, (0.1 + 0.1 + 0.1) = 0.30000000000000004, and does not equal 0.3\n",
    "    - This can break some fundamental laws of mathematics (algebra), e.g.\n",
    "        - math.sqrt(2) * math.sqrt(2) = 2.0000000000000004 and not 2.\n",
    "        -  0.3 - 0.1 - 0.1 - 0.1 = -2.7755575615628914e-17, not 0\n",
    "        - (a + b) + c may or may not equal a + (b + c)\n",
    "    - This is a behavior of ALL computers and programming languages.\n",
    "    - In Python, you can handle with round()\n",
    "        - 0.1 + 0.1 + 0.1 does not equal 0.3\n",
    "        - round(0.1 + 0.1 + 0.1) DOES equal 0.3\n",
    "        "
   ]
  },
  {
   "cell_type": "markdown",
   "metadata": {},
   "source": [
    "### Sequency Types\n",
    "\n",
    "#### Overview and Text Sequences\n",
    "\n",
    "<img src=\"../images/textsequence.jpeg\">\n",
    "\n",
    "The object type _str_, or text sequence, is an example of the basic sequence pattern\n",
    "- There is an object of type \"sequence.\" \n",
    "\n",
    "\n",
    "- In the example, the name of the object is _t_\n",
    "\n",
    "\n",
    "- The object _t_ is itself made up of an iterable sequence of objects. The name of each object is logically  _t[i]_, e.g.\n",
    "    - t[0]\n",
    "    - t[1]\n",
    "    - t[2]\n",
    "    - ... ...\n",
    "    \n",
    "\n",
    "- A text sequence/str is simply a sequence in which each t[i] is a \"text character.\"\n",
    "\n",
    "\n",
    "- Remember,\n",
    "    - In a computer, everything is a binary number.\n",
    "    - For text and characters, the _encoding_ determines the mapping from integer value to printable character value.\n",
    "    - [ASCII](https://en.wikipedia.org/wiki/ASCII) (American Standard Code for Information Interchange) used to be very common, but was \"American\" centric.\n",
    "        - An ASCII only encodes 127 characters, and comes from the teletype days.\n",
    "        - ASCII does support non-English characters.\n",
    "    - IBM and some other systems used [Extended Binary Coded Decimal Interchange Code (EBCIDIC)](https://en.wikipedia.org/wiki/EBCDIC) for a long time.  \n",
    "    - [UTF-8](https://en.wikipedia.org/wiki/UTF-8) is now the most common encoding.\n",
    "        - UTF-8 encodes 1,112,064 characters from [Unicode](https://en.wikipedia.org/wiki/Unicode).\n",
    "        - The first 127 numbers of ASCII and UTF-8 represent the same characters, that is UTF-8 is a superset of ASCII.\n",
    "    \n",
    "<img src=\"../images/encodinggrowth.jpeg\">\n",
    "\n",
    "_Some initial fun with encodings_\n",
    "<br><br>"
   ]
  },
  {
   "cell_type": "code",
   "execution_count": 52,
   "metadata": {},
   "outputs": [
    {
     "name": "stdout",
     "output_type": "stream",
     "text": [
      "UTF (unicode) character number 20516 is =  値\n",
      "There is no way to do this because ASCII is 1 byte and is 0 to 255\n",
      "ASCII is perfectly OK with 85 representing  U\n"
     ]
    }
   ],
   "source": [
    "print(\"UTF (unicode) character number 20516 is = \", chr(20516))\n",
    "print(\"There is no way to do this because ASCII is 1 byte and is 0 to 255\")\n",
    "print(\"ASCII is perfectly OK with 85 representing \", chr(85))"
   ]
  },
  {
   "cell_type": "markdown",
   "metadata": {},
   "source": [
    "<br>\n",
    "_Some function with text sequences (strings)_\n",
    "<br>"
   ]
  },
  {
   "cell_type": "code",
   "execution_count": 53,
   "metadata": {
    "scrolled": false
   },
   "outputs": [
    {
     "name": "stdout",
     "output_type": "stream",
     "text": [
      "\n",
      "\n",
      "mm =  A simple string\n",
      "mm as a byte sequence =  b'A simple string'\n",
      "\n",
      "\n",
      "bb as a byte array =  b'W\\tX Y'\n",
      "bb as a string =  W\tX Y\n",
      "bb as a UTF string =  W\tX Y\n",
      "\n",
      "\n",
      "Let's access parts of things.\n",
      "The fourth thing in mm is mm[3] which is  i\n",
      "bb as a string =  W\tX Y  and the fourth byte is  32\n",
      "bb as a string =  W\tX Y  and the second byte is  9\n",
      "bb[1] is the integer  9  which is the tab character.\n",
      "\n",
      "Now some fun with sequence of integers\n",
      "tt =  [87, 9, 88, 32, 89, 20516, 1023]\n",
      "Let's try converting tt to a string. str(tt) =  [87, 9, 88, 32, 89, 20516, 1023]\n",
      "I got a string representation of the list.\n",
      "How about a string (text sequence) which converted each int to a UTF-8 chr?\n",
      "The answer is ''.join(map(chr,tt)) W\tX Y値Ͽ \n",
      "and we will understand later.\n"
     ]
    }
   ],
   "source": [
    "mm = \"A simple string\"\n",
    "\n",
    "# An sequence of bytes, which must be 0 .. 255\n",
    "bb = bytes([87, 9, 88, 32, 89])\n",
    "# A sequence of integers.\n",
    "tt = [87, 9, 88, 32, 89, 20516, 1023]\n",
    "\n",
    "print(\"\\n\")\n",
    "print(\"mm = \", mm)\n",
    "print(\"mm as a byte sequence = \", bytes(mm,\"ascii\"))\n",
    "print(\"\\n\")\n",
    "print(\"bb as a byte array = \", bb)\n",
    "print('bb as a string = ', bb.decode(\"ascii\"))\n",
    "print('bb as a UTF string = ', bb.decode(\"utf8\"))\n",
    "print(\"\\n\")\n",
    "print(\"Let's access parts of things.\")\n",
    "print(\"The fourth thing in mm is mm[3] which is \", mm[3])\n",
    "print('bb as a string = ', bb.decode(\"ascii\"), \" and the fourth byte is \", bb[3])\n",
    "print('bb as a string = ', bb.decode(\"ascii\"), \" and the second byte is \", bb[1])\n",
    "print(\"bb[1] is the integer \", bb[1], \" which is the tab character.\" )\n",
    "\n",
    "print(\"\\nNow some fun with sequence of integers\")\n",
    "print(\"tt = \", tt)\n",
    "print(\"Let's try converting tt to a string. str(tt) = \", str(tt))\n",
    "print(\"I got a string representation of the list.\")\n",
    "print(\"How about a string (text sequence) which converted each int to a UTF-8 chr?\")\n",
    "print(\"The answer is ''.join(map(chr,tt))\", ''.join(map(chr,tt)), \"\\nand we will understand later.\")"
   ]
  },
  {
   "cell_type": "markdown",
   "metadata": {},
   "source": [
    "#### Mutable and Immutable\n",
    "\n",
    "\"In object-oriented and functional programming, an _immutable object_ (unchangeable object) is an object whose state cannot be modified after it is created. This is in contrast to a _mutable object_ (changeable object), which can be modified after it is created.\" (https://en.wikipedia.org/wiki/Immutable_object)\n",
    "\n",
    "- Most simple objects are immutable\n",
    "    - You cannot change the integer 10 to 11, 12.37 or \"Hello.\"\n",
    "    - In the same way you cannot change 217345 to 341167, you cannot change \"Hello\" to \"Halo.\"\n",
    "\n",
    "\n",
    "- You can\n",
    "    - Change what instance names reference.\n",
    "    - Make new instances using parts of immutable objects.\n",
    "    - etc.\n",
    "    \n",
    "\n",
    "- Mutability\n",
    "    - Is an important concept, and its importance will become clear in future lectures.\n",
    "    - We will not focus on the concept in the early lectures or projects, but you may occasionally hit find something that you think should work, but does not.\n",
    "\n"
   ]
  },
  {
   "cell_type": "code",
   "execution_count": 54,
   "metadata": {},
   "outputs": [
    {
     "name": "stdout",
     "output_type": "stream",
     "text": [
      "s =  Hello\n",
      "s2 =  Halo\n"
     ]
    }
   ],
   "source": [
    "s = \"Hello\"\n",
    "print (\"s = \", s)\n",
    "\n",
    "s2 = s[0] + \"a\" + s[3:5]\n",
    "print(\"s2 = \", s2)"
   ]
  },
  {
   "cell_type": "code",
   "execution_count": 55,
   "metadata": {
    "scrolled": true
   },
   "outputs": [
    {
     "ename": "TypeError",
     "evalue": "'str' object does not support item assignment",
     "output_type": "error",
     "traceback": [
      "\u001b[0;31m---------------------------------------------------------------------------\u001b[0m",
      "\u001b[0;31mTypeError\u001b[0m                                 Traceback (most recent call last)",
      "\u001b[0;32m<ipython-input-55-f1f3e2e8e54a>\u001b[0m in \u001b[0;36m<module>\u001b[0;34m()\u001b[0m\n\u001b[0;32m----> 1\u001b[0;31m \u001b[0ms\u001b[0m\u001b[0;34m[\u001b[0m\u001b[0;36m1\u001b[0m\u001b[0;34m]\u001b[0m\u001b[0;34m=\u001b[0m\u001b[0;34m'a'\u001b[0m\u001b[0;34m\u001b[0m\u001b[0m\n\u001b[0m",
      "\u001b[0;31mTypeError\u001b[0m: 'str' object does not support item assignment"
     ]
    }
   ],
   "source": [
    "s[1]='a'"
   ]
  },
  {
   "cell_type": "markdown",
   "metadata": {},
   "source": [
    "#### byte, bytearray, memoryview\n",
    "\n",
    "- _Byte_ is the most basic unit of computer memory.\n",
    "    - A byte is 8 bits (0/1 digits)\n",
    "    - Decimal 0 to 255.\n",
    "    - Binary 00000000 to 11111111\n",
    "    - Hexadecimal 00,01, ... 09,0A, ..., OF, 10, 11, ..., 1F, ... FF.\n",
    "        - A hex digit is 0 to F, which is 16 --> 4 bits.\n",
    "        - A byte is 8 bits, or two hex digits.\n",
    "        \n",
    "        \n",
    "- byte is immutable. byte_array _is_ mutable\n",
    "\n",
    "\n",
    "- We will worry about _memoryview_ later"
   ]
  },
  {
   "cell_type": "code",
   "execution_count": null,
   "metadata": {
    "scrolled": true
   },
   "outputs": [],
   "source": [
    "x = b'El ni\\xc3\\xb1o come camar\\xc3\\xb3n'\n",
    "print(\"x = \",x)\n",
    "print(\"\\nx.decode('utf-8)') = \",x.decode(\"utf-8\"))\n",
    "print(\"\\nx to int big endian = \", int.from_bytes(x,  byteorder='big'))\n",
    "print(\"\\nx to int big endian = \", int.from_bytes(x,  byteorder='little'))\n",
    "\n",
    "y = bytearray(x)\n",
    "print(\"\\ny = bytearray(c) produces y =\", y)\n",
    "print(\"\\nn ASCII is the integer \", ord('n'))\n",
    "y[5]=ord('n')\n",
    "y[6]=ord('o')\n",
    "y[7]=ord(' ')\n",
    "print(\"I can change a bytearray. y[5]= the into ASCIii n, y[6] to ASCII o and y[7] to ASCII <space>, \\nproduces y = \", y)\n",
    "print(\"\")"
   ]
  },
  {
   "cell_type": "markdown",
   "metadata": {},
   "source": [
    "- 'enye' requires two bytes\n",
    "    - I turned the first byte into 'n'\n",
    "    - And the second by to < space >\n",
    "- Why/when would you use _byte_, _bytearray_ and _memoryview?_\n",
    "    - Integer, float, string, ... are by far the most common. Most of our projects will use these basic types and the other sequence types (below).\n",
    "    - In many more advanced applications, you have to manipulate raw bytes, e.g.\n",
    "        - Image, audio, etc. processing.\n",
    "        - Cryptography\n",
    "        - Signal processing\n",
    "        \n",
    "        \n",
    "\n",
    "<img src=\"../images/jpeghex.jpeg\">"
   ]
  },
  {
   "cell_type": "markdown",
   "metadata": {},
   "source": [
    "#### Lists, Sets, Maps\n",
    "\n",
    "\"Lists are mutable sequences, typically used to store collections of homogeneous items (where the precise degree of similarity will vary by application).\" (https://docs.python.org/3/library/stdtypes.html#list)\n",
    "\n",
    "Many other languages use the term \"array\" for the language's similar concept.\n",
    "\n",
    "__A simple example__\n"
   ]
  },
  {
   "cell_type": "code",
   "execution_count": null,
   "metadata": {
    "scrolled": false
   },
   "outputs": [],
   "source": [
    "x = [1, 10, 3.1416+2.7318j, \"Hello\", b'El ni\\xc3\\xb1o come camar\\xc3\\xb3n']\n",
    "print(\"\\nWhat is 'similar' about the elements of \", x, \"?\")\n",
    "print(\"All are examples of built-in types used in the lecture\")"
   ]
  },
  {
   "cell_type": "markdown",
   "metadata": {},
   "source": [
    "__List are mutable__"
   ]
  },
  {
   "cell_type": "code",
   "execution_count": null,
   "metadata": {
    "scrolled": true
   },
   "outputs": [],
   "source": [
    "x = [1, 10, 3.1416+2.7318j, \"Hello\", b'El ni\\xc3\\xb1o come camar\\xc3\\xb3n']\n",
    "print(\"\\nx starts out as = \", x)\n",
    "x[1]=bytes(\"Canary\".encode(\"UTF-8\"))\n",
    "print(\"\\nx becomes = \", x)\n",
    "\n",
    "y = [\"foo\", 2e9]\n",
    "print(\"\\ny = \", y)\n",
    "\n",
    "y = x + y\n",
    "print(\"\\ny becomes = \", y)\n",
    "del(y[1])\n",
    "print(\"\\ny becomes = \", y)\n"
   ]
  },
  {
   "cell_type": "markdown",
   "metadata": {},
   "source": [
    "__Lists are fundamental of data, analytics and plotting__"
   ]
  },
  {
   "cell_type": "code",
   "execution_count": 4,
   "metadata": {
    "scrolled": true
   },
   "outputs": [
    {
     "name": "stdout",
     "output_type": "stream",
     "text": [
      "\n",
      "Vector a =  [1 3]\n",
      "Vector b =  [5 2]\n",
      "\n",
      "The inner product of a and b is =  11\n",
      "\n",
      "The sum of a + b is the vector  [6 5]\n"
     ]
    },
    {
     "data": {
      "image/png": "[encoded data removed]",
      "text/plain": [
       "<matplotlib.figure.Figure at 0x10c3844a8>"
      ]
     },
     "metadata": {},
     "output_type": "display_data"
    }
   ],
   "source": [
    "import numpy as np \n",
    "import matplotlib.pyplot as plt\n",
    "\n",
    "\n",
    "a = np.array([1,3]) \n",
    "print(\"\\nVector a = \", a)\n",
    "b = np.array([5,2])\n",
    "print(\"Vector b = \", b)\n",
    "\n",
    "print(\"\\nThe inner product of a and b is = \", np.inner(a,b))\n",
    "\n",
    "ad = np.add(a,b)\n",
    "print(\"\\nThe sum of a + b is the vector \", ad)\n",
    "\n",
    "ax = plt.axes()\n",
    "plt.axis([0, 7, 0, 7])\n",
    "l1 = ax.arrow(0,0,a[0],a[1], color='r', label=\"a\",head_width=0.2, head_length=0.2)\n",
    "l2 = ax.arrow(0,0, b[0],b[1], color='b', label=\"b\",head_width=0.2, head_length=0.2)\n",
    "l3 = ax.arrow(0,0,ad[0],ad[1], color='g', label=\"a+b\",head_width=0.2, head_length=0.2)\n",
    "l4 = ax.arrow(a[0],a[1],(ad[0]-a[0]),(ad[1]-a[1]),head_width=0.2, head_length=0.2,color='c',label=\"b starting from  a\")\n",
    "legend = ax.legend(handles=[l1,l2, l3, l4],loc='upper left')\n",
    "\n",
    "plt.show() "
   ]
  },
  {
   "cell_type": "markdown",
   "metadata": {},
   "source": [
    "### Homework 1, Part B\n",
    "\n",
    "- Due date, points and full description are on [CourseWorks](https://courseworks2.columbia.edu/courses/53496/assignments/134478)\n",
    "\n",
    "\n",
    "- Build a Jupyter notebook with the name \"< uni >_assignment_2\"\n",
    "    \n",
    "\n",
    "- Add the Python code from Assignment 1, Part A to a code cell in the Jupyter notebook.\n",
    "\n",
    "\n",
    "- Build your UNI\n",
    "    - Create a Code cell in the notebook. Use python statements like a=23 or b=\"foo\".\n",
    "    - Assign the names last_name, first_name, middle_name to the string values for your last, first and middle names.\n",
    "    - The prefix of your UNI is some combination of the first character of the name string. For example, my full name is \"Donald Francis Ferguson\" and my UNI prefix is \"dff\".\n",
    "    - The suffix of the UNI is a number. Assign the name uni_suffix to the integer number in your UNI. Mine would be the integer 9.\n",
    "    - Using modifications from the code in lecture 1 and 2, create a string reprentation of your UNI and print it.\n",
    "    - Uppercase letters are fine, e.g. \"DFF9\" is a correct submission.\n",
    "    \n",
    "- List\n",
    "    - Create a list that contains your first name, middle name, last name and UNI.\n",
    "    - Remove your middle name from the list.\n",
    "    - Move the UNI to the first element in the list.\n",
    "    \n",
    "    "
   ]
  },
  {
   "cell_type": "markdown",
   "metadata": {},
   "source": [
    "## Operators"
   ]
  },
  {
   "cell_type": "markdown",
   "metadata": {},
   "source": [
    "### Overview\n",
    "\n",
    "References:\n",
    "- Punch and Embody, section 1.7.\n",
    "- [tutorialspoint](https://www.tutorialspoint.com/python/python_basic_operators.htm) is also a good overview and tutorial.\n",
    "\n",
    "[Definitions:]() \"_Operators_ are special symbols in Python that carry out arithmetic or logical computation. The value(s) that the operator operates on is called the _operand(s)_.\n",
    "\n",
    "Example: 4 + 5 == 9 versus 4 + 5 = 9\n",
    "- 4 + 5 == 9\n",
    "    - Has three operands: 4,5,9\n",
    "    - Two operators: +, ==\n",
    "        - o1 + o2 produces the arithmetic (or other sum) of the operands.\n",
    "        - o1 == o2 produces True if o1 and o2 have the same value.\n",
    "        \n",
    "        \n",
    "- 4 + 5 = 9\n",
    "    - Has three operands: 4,5,9\n",
    "    - Two operators: +, =\n",
    "        - o1 + o2 produces the arithmetic (or other sum) of the operands.\n",
    "        - o1 = o2 sets the value of o1 to the value of o2\n"
   ]
  },
  {
   "cell_type": "code",
   "execution_count": null,
   "metadata": {},
   "outputs": [],
   "source": [
    "4 + 5"
   ]
  },
  {
   "cell_type": "code",
   "execution_count": null,
   "metadata": {},
   "outputs": [],
   "source": [
    "4 + 5 == 9"
   ]
  },
  {
   "cell_type": "code",
   "execution_count": null,
   "metadata": {},
   "outputs": [],
   "source": [
    "4 + 5 = 9"
   ]
  },
  {
   "cell_type": "markdown",
   "metadata": {},
   "source": [
    "- Why is 4 + 5 = 9 and error?\n",
    "    - 4 + 5 produces 9.\n",
    "    - You cannot change the value of 9, even if you are trying to change it to 9.\n",
    "\n",
    "\n",
    "- There are three kinds of operand\n",
    "    - Literal: 4, 3.12, \"Cat\", ...\n",
    "    - Identifier: Think variable (name), e.g. x, radius_str, circumference, ...\n",
    "    - Enclosure: Literals or identifier \"enclosed\" with (), [], {}, ...\n",
    "    \n",
    "    \n",
    "- Python supports the following categories/kinds of operators:\n",
    "    - Arithmetic Operators\n",
    "    - Comparison (Relational) Operators\n",
    "    - Assignment Operators\n",
    "    - Logical Operators\n",
    "    - Bitwise Operators\n",
    "    - Membership Operators\n",
    "    - Identity Operators\n",
    "    \n",
    "- _NOTE:_ Trying to follow the book. So, will cover Bitwise, Membership and Identity operators later.\n",
    "\n",
    "    "
   ]
  },
  {
   "cell_type": "markdown",
   "metadata": {},
   "source": [
    "###  Arithmetic Operators\n",
    "\n",
    "Arithmetic operators operate on numeric types: integer, float, complex.\n",
    "\n",
    "| <img src=\"../images/L3_operators_1.jpeg\" width=\"66%\"> | \n",
    "|:--:| \n",
    "| [__Arithmetic Operators__](https://www.tutorialspoint.com/python/python_basic_operators.htm) |   \n"
   ]
  },
  {
   "cell_type": "markdown",
   "metadata": {},
   "source": [
    "Examples:\n",
    "<img src=\"../images/L3_operators_2.jpeg\">"
   ]
  },
  {
   "cell_type": "markdown",
   "metadata": {},
   "source": [
    "Some of these operators also operate on more complex types:\n",
    "- The symbol is the same.\n",
    "- But the operator is different (context sensitive)\n",
    "\n",
    "<img src=\"../images/L3_operators_3.jpeg\">"
   ]
  },
  {
   "cell_type": "markdown",
   "metadata": {},
   "source": [
    "- In the case of o1 < operator > o2,\n",
    "    - o1 and o1 must be compatible with respect to the operator.\n",
    "    - The type of o1 and o2, and the operator determine the type of the result.\n",
    "\n",
    "<img src=\"../images/L3_operators_4.jpeg\">"
   ]
  },
  {
   "cell_type": "markdown",
   "metadata": {},
   "source": [
    "### Comparison Operators\n",
    "\n",
    "- The basic format is op1 < operator > o2 produces either True or False.\n",
    "\n",
    "| <img src=\"../images/L3_operators_5.jpeg\"> | \n",
    "|:--:| \n",
    "| [__Comparison Operators__](https://www.tutorialspoint.com/python/python_basic_operators.htm) |   \n"
   ]
  },
  {
   "cell_type": "markdown",
   "metadata": {},
   "source": [
    "- Comparison operators/expressions are most often used in control flow statements (covered soon).\n",
    "\n",
    "\n",
    "- But here is an example:\n"
   ]
  },
  {
   "cell_type": "code",
   "execution_count": null,
   "metadata": {},
   "outputs": [],
   "source": [
    "import math\n",
    "\n",
    "def is_prime(n):\n",
    "    \n",
    "    highest_candidate = math.floor(math.sqrt(n))\n",
    "    print(\"Trying to check if \", n, \" is prime.\")\n",
    "    print(\"Need to test integers from 2 ... \", highest_candidate)\n",
    "    \n",
    "    i = 2\n",
    "    divisors = None\n",
    "    \n",
    "    # Comparison operator\n",
    "    while (i <= highest_candidate):\n",
    "        remainder = n % i\n",
    "        \n",
    "        # Comparison operator.\n",
    "        if (remainder == 0):\n",
    "            #print(\"The integer \", i, \" divides \", n)\n",
    "            \n",
    "            # Do not ask.\n",
    "            if (divisors is None):\n",
    "                divisors = []\n",
    "                \n",
    "            divisors.append(i)\n",
    "            \n",
    "        i = i + 1\n",
    "        \n",
    "    return divisors\n",
    "   \n",
    "    \n",
    "print(\"The divisors of 32 less than sqrt(32) are\", is_prime(32))\n",
    "print(\"\\n\")\n",
    "print(\"The divisors of 61 less than sqrt(61) are\", is_prime(61))"
   ]
  },
  {
   "cell_type": "markdown",
   "metadata": {},
   "source": [
    "### Assignment Operators\n",
    "\n",
    "The form is o1 $operator$ o2, and sets o1 to the value produced by operator and o2.\n",
    "\n",
    "| <img src=\"../images/L3_assignment_operators.jpeg\"> | \n",
    "|:--:| \n",
    "| [__Assignment Operators__](https://www.tutorialspoint.com/python/python_basic_operators.htm) |  "
   ]
  },
  {
   "cell_type": "markdown",
   "metadata": {},
   "source": [
    "- These ones drive me crazy and I never use them.\n",
    "\n",
    "<img src=\"../images/L3_assignment_operators_2.jpeg\">"
   ]
  },
  {
   "cell_type": "markdown",
   "metadata": {},
   "source": [
    "### Logical Operators\n",
    "\n",
    "| <img src=\"../images/L3_logical_operators.jpeg\"> | \n",
    "|:--:| \n",
    "| [__Logical Operators__](https://www.tutorialspoint.com/python/python_basic_operators.htm) |  "
   ]
  },
  {
   "cell_type": "markdown",
   "metadata": {},
   "source": [
    "<img src=\"../images/L3_logical_operators_2.jpeg\">"
   ]
  },
  {
   "cell_type": "markdown",
   "metadata": {},
   "source": []
  },
  {
   "cell_type": "markdown",
   "metadata": {},
   "source": [
    "### Summary\n",
    "\n",
    "The easiest thing to do is just play with the operators."
   ]
  },
  {
   "cell_type": "markdown",
   "metadata": {},
   "source": [
    "## Testing and Errors\n",
    "\n",
    "### Overview\n",
    "\n",
    "Punch and Embody, section 1.9, 1.10, 1.11\n",
    "\n",
    "\n",
    "__Rule 5:__ Test you code, often and thoroughly. (Section 1.9.1, p. 72)\n",
    "\n",
    "\n",
    "Not particularly helpful. \"Thank you, CPT Obvious.\"\n",
    "\n",
    "<img src=\"../images/L3_captain_obvious.jpg\">\n"
   ]
  },
  {
   "cell_type": "markdown",
   "metadata": {},
   "source": [
    "### Errors\n",
    "\n",
    "You will encounter three broad classes of errors.\n",
    "1. Syntax: There is a grammar error and Python will not run your program at all.\n",
    "2. Runtime: Your program is syntactically correct, and starts to run but fails.\n",
    "3. Correctness: Your program runs to completion but produces an incorrect answer.\n",
    "\n",
    "__Syntax Error__\n",
    "\n",
    "The IDE typically flags these for you and will not try to run the program.\n",
    "\n",
    "<img src=\"../images/L3_syntax_error.jpeg\">\n",
    "\n",
    "__Runtime Error__\n",
    "\n",
    "The program is syntactically correct, but variable values get into states that cause errors.\n",
    "1. Incompatible types for operations.\n",
    "1. Unassigned name.\n",
    "1. Divide by 0.\n",
    "1. etc.\n"
   ]
  },
  {
   "cell_type": "markdown",
   "metadata": {},
   "source": [
    "<img src=\"../images/L3_runtime_errors.jpeg\">"
   ]
  },
  {
   "cell_type": "markdown",
   "metadata": {},
   "source": [
    "__An Interesting Digression__\n",
    "\n",
    "1. Let $a$ and $b$ be equal, non-zero quantities<br><br>\n",
    "$a=b$\n",
    "<br><br>\n",
    "2. Multiply both sides by $a$<br><br>\n",
    "$a^2 = ab$\n",
    "<br><br>\n",
    "3. Subtract $b^2$ from both sides<br><br>\n",
    "$a^2 - b^2 = ab - b^2$\n",
    "<br><br>\n",
    "4. Do some factorization<br><br>\n",
    "$(a + b)(a - b) = b(a - b)$\n",
    "<br><br>\n",
    "5. Divide both sides by a common value, and observe\n",
    "\\begin{equation*}\n",
    "\\frac{(a + b)(a - b)}{(a - b)} = \\frac{b(a - b)}{(a - b)}\n",
    "\\end{equation*}\n",
    "<br><br>\n",
    "1. Thus,<br><br>\n",
    "$a + b = b$\n",
    "<br><br>\n",
    "1. Since (from 1) $a = b,$ we get\n",
    "<br><br>\n",
    "$(a + b = a) \\implies ((a + a) = a) \\implies (2 x a = a) \\implies (2 = 1)$ \n",
    "\n",
    "\n",
    "Computers will not make this mistake."
   ]
  },
  {
   "cell_type": "code",
   "execution_count": 1,
   "metadata": {},
   "outputs": [
    {
     "data": {
      "text/plain": [
       "True"
      ]
     },
     "execution_count": 1,
     "metadata": {},
     "output_type": "execute_result"
    }
   ],
   "source": [
    "a = 1\n",
    "b = a\n",
    "\n",
    "(a == b)"
   ]
  },
  {
   "cell_type": "code",
   "execution_count": 2,
   "metadata": {},
   "outputs": [
    {
     "data": {
      "text/plain": [
       "True"
      ]
     },
     "execution_count": 2,
     "metadata": {},
     "output_type": "execute_result"
    }
   ],
   "source": [
    "a**2 == a * b"
   ]
  },
  {
   "cell_type": "code",
   "execution_count": 3,
   "metadata": {},
   "outputs": [
    {
     "data": {
      "text/plain": [
       "True"
      ]
     },
     "execution_count": 3,
     "metadata": {},
     "output_type": "execute_result"
    }
   ],
   "source": [
    "a**2 - b**2 == a*b - b**2"
   ]
  },
  {
   "cell_type": "code",
   "execution_count": 4,
   "metadata": {},
   "outputs": [
    {
     "data": {
      "text/plain": [
       "True"
      ]
     },
     "execution_count": 4,
     "metadata": {},
     "output_type": "execute_result"
    }
   ],
   "source": [
    "(a + b) * (a - b) == b * (a - b)"
   ]
  },
  {
   "cell_type": "code",
   "execution_count": 5,
   "metadata": {
    "scrolled": true
   },
   "outputs": [
    {
     "ename": "ZeroDivisionError",
     "evalue": "division by zero",
     "output_type": "error",
     "traceback": [
      "\u001b[0;31m---------------------------------------------------------------------------\u001b[0m",
      "\u001b[0;31mZeroDivisionError\u001b[0m                         Traceback (most recent call last)",
      "\u001b[0;32m<ipython-input-5-bd14dce8c6c1>\u001b[0m in \u001b[0;36m<module>\u001b[0;34m()\u001b[0m\n\u001b[0;32m----> 1\u001b[0;31m \u001b[0;34m(\u001b[0m\u001b[0ma\u001b[0m \u001b[0;34m+\u001b[0m \u001b[0mb\u001b[0m\u001b[0;34m)\u001b[0m\u001b[0;34m*\u001b[0m\u001b[0;34m(\u001b[0m\u001b[0ma\u001b[0m\u001b[0;34m-\u001b[0m\u001b[0mb\u001b[0m\u001b[0;34m)\u001b[0m\u001b[0;34m/\u001b[0m\u001b[0;34m(\u001b[0m\u001b[0ma\u001b[0m\u001b[0;34m-\u001b[0m\u001b[0mb\u001b[0m\u001b[0;34m)\u001b[0m\u001b[0;34m\u001b[0m\u001b[0m\n\u001b[0m",
      "\u001b[0;31mZeroDivisionError\u001b[0m: division by zero"
     ]
    }
   ],
   "source": [
    "(a + b)*(a-b)/(a-b)\n"
   ]
  },
  {
   "cell_type": "markdown",
   "metadata": {},
   "source": [
    "\n",
    "This formulation is pretty easy to spot, but there are much, much trickier versions that make it hard to spot divide by 0.\n",
    "\n"
   ]
  },
  {
   "cell_type": "markdown",
   "metadata": {},
   "source": [
    "__Correctness Errors__\n",
    "\n",
    "- Correctness errors are by far the most difficult to resolve.\n",
    "\n",
    "\n",
    "- The program executes but produces an incorrect result.\n",
    "\n",
    "\n",
    "- There are countless causes. Some examples,\n",
    "    - The algorithm is incorrect.\n",
    "    - Mathematical formula looks correct, but parentheses and operator precedence are wrong.\n",
    "    - Incorrect assumptions: Input is in kilograms but program uses pounds and ounces.\n",
    "    - Various forms of overflow, e.g. the programmer assumed that a counter or value would never wrap around to 0. \n",
    "    \n",
    "\n",
    "_Mars Climate Orbiter_\n",
    "\n",
    "\"The Mars Climate Orbiter (formerly the Mars Surveyor '98 Orbiter) was a 338-kilogram (745 lb) robotic space probe launched by NASA on December 11, 1998 to study the Martian climate, Martian atmosphere, and surface changes and to act as the communications relay in the Mars Surveyor '98 program for Mars Polar Lander. However, on September 23, 1999, communication with the spacecraft was lost as the spacecraft went into orbital insertion, due to ground-based computer software which produced output in non-SI units of pound (force)-seconds (lbf·s) instead of the SI units of newton-seconds (N·s) specified in the contract between NASA and Lockheed. The spacecraft encountered Mars on a trajectory that brought it too close to the planet, causing it to pass through the upper atmosphere and disintegrate.\" (https://en.wikipedia.org/wiki/Mars_Climate_Orbiter#Cause_of_failure)\n",
    "\n",
    "\n",
    "\n",
    "_Therac 25_\n",
    "\n",
    "\"Between June 1985 and January 1987, a computer-controlled radiation therapy machine, called the Therac-25, massively overdosed six people. These accidents have been described as the worst in the 35-year history of medical accelators.\n",
    "\n",
    "...\n",
    "\n",
    "On the Therac-25, the part of the computer program that is often referred to as the \"house-keeper task\" continuously checked to see whether the turntable was correctly positioned. A zero on the counter indicated to the technician that the turntable was in the correct position. Any value other than zero meant that it wasn't, and that treatment couldn't begin. The computer would then make the necessary corrections and the counter would reset itself to zero.\n",
    "\n",
    "But the highest value the counter could register was 255. If the program reached 256 checks, the counter automatically clicked back to zero, the same way that a car odometer turns over to zero after you've driven more than 99,999.99 kilometres. For that split second, the Therac-25 believed it was safe to proceed when, in fact, it wasn't. If the technician hit the \"set\" button to begin treatment at that precise moment, the turntable would be in the wrong position and the patient would be struck by a raw beam.\"\n",
    "    \n",
    "\n",
    "    "
   ]
  },
  {
   "cell_type": "markdown",
   "metadata": {},
   "source": [
    "### Testing and Software Quality Assurance\n",
    "\n",
    "#### The Concept\n",
    "\n",
    "\"Software quality assurance (SQA) consists of a means of monitoring the software engineering processes and methods used to ensure quality. The methods by which this is accomplished are many and varied, and may include ensuring conformance to one or more standards, such as ISO 9000 or a model such as CMMI.\n",
    "\n",
    "SQA encompasses the entire software development process, which includes processes such as requirements definition, software design, coding, source code control, code reviews, software configuration management, testing, release management, and product integration. SQA is organized into goals, commitments, abilities, activities, measurements, and verifications.\" (https://en.wikipedia.org/wiki/Software_quality_assurance)\n",
    "\n",
    "- This is a massively complex topic in Computer Science.\n",
    "\n",
    "\n",
    "- We do not have time to cover in any detail.\n",
    "\n",
    "\n",
    "- We will, however, think about the concepts and some general guidelines.\n",
    "\n",
    "\n",
    "- My predominant rule of thumb is __follow__ [__Gall's Law__](https://en.wikipedia.org/wiki/John_Gall_(author)\n",
    "\n",
    "\"A complex system that works is invariably found to have evolved from a simple system that worked. A complex system designed from scratch never works and cannot be patched up to make it work. You have to start over with a working simple system. – John Gall (1975)"
   ]
  },
  {
   "cell_type": "markdown",
   "metadata": {},
   "source": [
    "#### An Example\n",
    "\n",
    "Remember the 0-1 Knapsack Problem? The exact solution code is ...\n"
   ]
  },
  {
   "cell_type": "code",
   "execution_count": null,
   "metadata": {},
   "outputs": [],
   "source": [
    "from itertools import combinations\n",
    "import time\n",
    "\n",
    "def anycomb(items):\n",
    "    ' return combinations of any length from the items '\n",
    "    return ( comb\n",
    "             for r in range(1, len(items)+1)\n",
    "             for comb in combinations(items, r)\n",
    "             )\n",
    " \n",
    "def totalvalue(comb):\n",
    "    ' Totalise a particular combination of items'\n",
    "    totwt = totval = 0\n",
    "    for item, wt, val in comb:\n",
    "        totwt  += wt\n",
    "        totval += val\n",
    "    return (totval, -totwt) if totwt <= 500 else (0, 0)\n",
    "\n",
    "# Program/algorithm example input data. Real solution would get\n",
    "# data from user input, file, etc.\n",
    "items = (\n",
    "    (\"map\", 9, 150), (\"compass\", 13, 35), (\"water\", 153, 200), (\"sandwich\", 50, 160),\n",
    "    (\"glucose\", 15, 60), (\"tin\", 68, 45), (\"banana\", 27, 60), (\"apple\", 39, 40),\n",
    "   (\"cheese\", 23, 30), (\"beer\", 52, 10), (\"suntan cream\", 11, 70), (\"camera\", 32, 30),\n",
    "    (\"t-shirt\", 24, 15), (\"trousers\", 48, 10), (\"umbrella\", 73, 40),\n",
    "    (\"waterproof trousers\", 42, 70), (\"waterproof overclothes\", 43, 75),\n",
    "    (\"note-case\", 22, 80), (\"sunglasses\", 7, 20), (\"towel\", 18, 12),\n",
    "    (\"socks\", 4, 50), (\"book\", 30, 10), (\"tent\", 50, 50), (\"matches\", 5,20),\n",
    "    (\"boots\", 30, 30), (\"flare\", 10, 25), (\"mirror\", 50, 50)\n",
    "    )\n",
    "\n",
    "start = time.time()\n",
    "print (\"Time = \", start)    \n",
    "bagged = max( anycomb(items), key=totalvalue) # max val or min wt if values equal\n",
    "done = time.time()\n",
    "elapsed=done-start\n",
    "print(\"Done time =\", done, \" elapsed = \", elapsed )\n",
    "print(\"Bagged the following items\\n  \" +\n",
    "      '\\n  '.join(sorted(item for item,_,_ in bagged)))\n",
    "val, wt = totalvalue(bagged)\n",
    "print(\"for a total value of %i and a total weight of %i\" % (val, -wt))"
   ]
  },
  {
   "cell_type": "markdown",
   "metadata": {},
   "source": [
    "- I would not write this program all at once.\n",
    "\n",
    "\n",
    "- I would start by writing two smaller programs to [unit test](https://en.wikipedia.org/wiki/Unit_testing) the smaller functional units:\n",
    "    - anycomb function.\n",
    "    - totalvalue function.\n",
    "    \n",
    "_Unit test anycomb:_"
   ]
  },
  {
   "cell_type": "code",
   "execution_count": null,
   "metadata": {},
   "outputs": [],
   "source": [
    "from itertools import combinations\n",
    "import time\n",
    "\n",
    "def anycomb(items):\n",
    "    ' return combinations of any length from the items '\n",
    "    return ( comb\n",
    "             for r in range(1, len(items)+1)\n",
    "             for comb in combinations(items, r)\n",
    "             )\n",
    "\n",
    "test_items = (\n",
    "    (\"map\", 9, 150), (\"compass\", 13, 35), (\"water\", 153, 200))\n",
    "\n",
    "result = anycomb(test_items)\n",
    "\n",
    "print(\"Result = \")\n",
    "print(*result, sep='\\n')"
   ]
  },
  {
   "cell_type": "markdown",
   "metadata": {},
   "source": [
    "This is correct. I can manually verify for small input sets.\n",
    "\n",
    "Obviously, I would test more than once and with tricky combinations.\n"
   ]
  },
  {
   "cell_type": "markdown",
   "metadata": {},
   "source": [
    "_Unit test totalvalue:_ BTW, not sure why the developer chose to return -total_weight."
   ]
  },
  {
   "cell_type": "code",
   "execution_count": null,
   "metadata": {},
   "outputs": [],
   "source": [
    "def totalvalue(comb):\n",
    "    ' Totalise a particular combination of items'\n",
    "    totwt = totval = 0\n",
    "    for item, wt, val in comb:\n",
    "        totwt  += wt\n",
    "        totval += val\n",
    "    return (totval, -totwt) if totwt <= 500 else (0, 0)\n",
    "\n",
    "test1 = (('map', 9, 150), ('water', 153, 200))\n",
    "\n",
    "print(\"totalvalue test 1 = \", totalvalue(test1))"
   ]
  },
  {
   "cell_type": "markdown",
   "metadata": {},
   "source": [
    "Finally, make sure you code checks for erroneous input.\n"
   ]
  },
  {
   "cell_type": "code",
   "execution_count": null,
   "metadata": {},
   "outputs": [],
   "source": [
    "test2=(('map', -900, 150), ('water', 1100, 200))\n",
    "print(\"totalvalue test 2 = \", totalvalue(test2))"
   ]
  },
  {
   "cell_type": "markdown",
   "metadata": {},
   "source": [
    "This appears to be a reasonable answer, despite the fact that\n",
    "- The maximum weight allowed is 500\n",
    "- Water weighs 1100\n",
    "\n",
    "Fools will inevitably enter bad data or do something wrong.\n",
    "\n",
    "_\"It is impossible to make anything foolproof because fools are so ingenious.\"_ Corollary to Murphy's Law.\n",
    "\n",
    "This may be true, but you need to try.\n",
    "\n",
    "BTW, there is also Smith's Law. __\"Murphy was an optimist.\"__\n"
   ]
  },
  {
   "cell_type": "code",
   "execution_count": null,
   "metadata": {},
   "outputs": [],
   "source": []
  }
 ],
 "metadata": {
  "kernelspec": {
   "display_name": "Python 3",
   "language": "python",
   "name": "python3"
  },
  "language_info": {
   "codemirror_mode": {
    "name": "ipython",
    "version": 3
   },
   "file_extension": ".py",
   "mimetype": "text/x-python",
   "name": "python",
   "nbconvert_exporter": "python",
   "pygments_lexer": "ipython3",
   "version": "3.6.3"
  },
  "toc": {
   "nav_menu": {},
   "number_sections": true,
   "sideBar": true,
   "skip_h1_title": false,
   "title_cell": "Table of Contents",
   "title_sidebar": "Contents",
   "toc_cell": false,
   "toc_position": {
    "height": "calc(100% - 180px)",
    "left": "10px",
    "top": "150px",
    "width": "286px"
   },
   "toc_section_display": true,
   "toc_window_display": false
  }
 },
 "nbformat": 4,
 "nbformat_minor": 2
}
