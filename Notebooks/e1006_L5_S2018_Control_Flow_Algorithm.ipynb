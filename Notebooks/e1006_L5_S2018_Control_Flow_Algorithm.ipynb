{
 "cells": [
  {
   "cell_type": "markdown",
   "metadata": {
    "slideshow": {
     "slide_type": "slide"
    }
   },
   "source": [
    "<h1 style=\"display:none;\">\n",
    "<h1 style=\"display:none;\">\n",
    "<h1 style=\"display:none;\">\n",
    "<h1 style=\"display:none;\">\n",
    "\n",
    "# Introduction to Computing for Engineers and Computer Scientists<BR><BR>Continue Control Flow and Functions, <br>Testing/IDE, Algorithms, HW2"
   ]
  },
  {
   "cell_type": "markdown",
   "metadata": {},
   "source": [
    "## Control Flow -- Continued\n",
    "\n",
    "### elif and Nest-If\n",
    "\n",
    "- A simple example/test.\n"
   ]
  },
  {
   "cell_type": "code",
   "execution_count": 4,
   "metadata": {},
   "outputs": [],
   "source": [
    "\n",
    "def test_elif(x, y, z):\n",
    "    if x == 1:\n",
    "        print(\"X = 1. Ran 1st if\")\n",
    "    elif y == 1:\n",
    "        print(\"Y = 1. Ran 1st elif\")\n",
    "    elif z == 1:\n",
    "        print(\"Z = 1. Ran second elif\")\n",
    "    else:\n",
    "        print(\"None of X, Y, Z = 1.\")\n",
    "        "
   ]
  },
  {
   "cell_type": "code",
   "execution_count": 5,
   "metadata": {},
   "outputs": [
    {
     "name": "stdout",
     "output_type": "stream",
     "text": [
      "X = 1. Ran 1st if\n"
     ]
    }
   ],
   "source": [
    "test_elif(1,1,1)"
   ]
  },
  {
   "cell_type": "code",
   "execution_count": 6,
   "metadata": {},
   "outputs": [
    {
     "name": "stdout",
     "output_type": "stream",
     "text": [
      "Y = 1. Ran 1st elif\n"
     ]
    }
   ],
   "source": [
    "test_elif(0,1,1)"
   ]
  },
  {
   "cell_type": "code",
   "execution_count": 8,
   "metadata": {},
   "outputs": [
    {
     "name": "stdout",
     "output_type": "stream",
     "text": [
      "Z = 1. Ran second elif\n"
     ]
    }
   ],
   "source": [
    "test_elif(0,0,1)"
   ]
  },
  {
   "cell_type": "code",
   "execution_count": 9,
   "metadata": {},
   "outputs": [
    {
     "name": "stdout",
     "output_type": "stream",
     "text": [
      "None of X, Y, Z = 1.\n"
     ]
    }
   ],
   "source": [
    "test_elif(0,0,0)"
   ]
  },
  {
   "cell_type": "markdown",
   "metadata": {},
   "source": [
    "\n",
    "- This is simply syntax to simplify"
   ]
  },
  {
   "cell_type": "code",
   "execution_count": 22,
   "metadata": {},
   "outputs": [],
   "source": [
    "def test_nested_if(a, b, c, x, y, z):\n",
    "    s = None\n",
    "    \n",
    "    if a == 1:\n",
    "        s=\"a = 1. Ran 1st if\"\n",
    "    else:\n",
    "        if b == 1:\n",
    "            s=\"b = 1. Ran 2nd if\"\n",
    "        else:\n",
    "            if c == 1:\n",
    "                s=\"c = 1. Ran 3rd if\"\n",
    "            else:\n",
    "                if x == 1:\n",
    "                    s=\"x = 1. Ran 4th if.\"\n",
    "                else:\n",
    "                    if y == 1:\n",
    "                        s=\"Y = 1. Ran 5th if\"\n",
    "                    else:\n",
    "                        if z == 1:\n",
    "                            s=\"Z = 1. Ran 6th if\"\n",
    "                        else:\n",
    "                           s=\"None of X, Y, Z = 1.\"\n",
    "                        \n",
    "    return s\n",
    "            \n",
    "            "
   ]
  },
  {
   "cell_type": "code",
   "execution_count": 24,
   "metadata": {},
   "outputs": [
    {
     "name": "stdout",
     "output_type": "stream",
     "text": [
      "The test returned  Y = 1. Ran 5th if\n"
     ]
    }
   ],
   "source": [
    "r= test_nested_if(0,0,0,0,1,1)\n",
    "print(\"The test returned \", r)"
   ]
  },
  {
   "cell_type": "markdown",
   "metadata": {},
   "source": [
    "\n",
    "\n",
    "- Nested if tests can get a little confusing and \"icky.\"\n",
    "\n",
    "| <img src=\"../images/L5_nesting_bad.jpeg\"> | \n",
    "|:--: | \n",
    "| __Nesting Gone Horribly Wrong__ |\n",
    "\n",
    "\n",
    "- elif helps produce better code in some circumstances, but nesting with if, elif, else, while, for, ... can get out of hand. Code becomes\n",
    "    - Error prone.\n",
    "    - Difficult to test and debug.\n",
    "    - Difficult to maintain, evolve, modify.\n"
   ]
  },
  {
   "cell_type": "markdown",
   "metadata": {},
   "source": [
    "- There is no generally accepted, generally applicable best practice.\n",
    "\n",
    "\n",
    "- One approach: _Early Return_\n"
   ]
  },
  {
   "cell_type": "code",
   "execution_count": 26,
   "metadata": {},
   "outputs": [],
   "source": [
    "def test_nested_if_return(a, b, c, x, y, z):\n",
    "    \n",
    "    if a == 1:\n",
    "        s=\"a = 1. Ran 1st if.\"\n",
    "        return s\n",
    "    \n",
    "    if b == 1:\n",
    "        s=\"a = 1. Ran 2nd if.\"\n",
    "        return s\n",
    "    \n",
    "    if c == 1:\n",
    "        s=\"c = 1. ran 3rd if.\"\n",
    "        return s\n",
    "    \n",
    "    if x == 1:\n",
    "        s=\"x = 1. ran 4th if.\"\n",
    "        return s\n",
    "    \n",
    "    if y == 1:\n",
    "        s = \"y = 1. ran 5th if.\"\n",
    "        return s\n",
    "    \n",
    "    if z == 1:\n",
    "        s=\"z = 1. ran 6th if.\"\n",
    "        return\n",
    "    \n",
    "    # If the code got here, nothing was = 1\n",
    "    s=\"None of the inputs was 1.\"\n",
    "    \n",
    "    return s\n",
    "        "
   ]
  },
  {
   "cell_type": "code",
   "execution_count": 27,
   "metadata": {},
   "outputs": [
    {
     "name": "stdout",
     "output_type": "stream",
     "text": [
      "test_nested_if_return returned  y = 1. ran 5th if.\n"
     ]
    }
   ],
   "source": [
    "r = test_nested_if_return(0,0,0,0,1,1)\n",
    "print(\"test_nested_if_return returned \",r)"
   ]
  },
  {
   "cell_type": "code",
   "execution_count": 28,
   "metadata": {},
   "outputs": [
    {
     "name": "stdout",
     "output_type": "stream",
     "text": [
      "test_nested_if_return returned  None of the inputs was 1.\n"
     ]
    }
   ],
   "source": [
    "r = test_nested_if_return(0,0,0,0,0,0)\n",
    "print(\"test_nested_if_return returned \",r)"
   ]
  },
  {
   "cell_type": "markdown",
   "metadata": {},
   "source": [
    "- Early return is more clear and easy to follow. \n",
    "\n",
    "\n",
    "- A function having multiple _return_ statements can also create problems, especially when trying to set a _break point_ on return for debugging. \n",
    "\n",
    "_Single Return:_\n",
    "\n",
    "| <img src=\"../images/L5_breakpoint_1.jpeg\"> | \n",
    "|:--: | \n",
    "| __Setting Breakpoint with Single Return__ |\n",
    "\n",
    "\n"
   ]
  },
  {
   "cell_type": "markdown",
   "metadata": {},
   "source": [
    "_Multiple Return Statements:_\n",
    "\n",
    "| <img src=\"../images/L5_breakpoint_2.jpeg\"> | \n",
    "|:--: | \n",
    "| __Setting Breakpoint with Single Return__ |"
   ]
  },
  {
   "cell_type": "markdown",
   "metadata": {},
   "source": [
    "<span style=\"color: red;\">What is this \"breakpoint of which you speak?\"</span>\n",
    "\n",
    "Wait a bit.\n",
    "\n",
    "\n",
    "- A final option is a \"done\" flag."
   ]
  },
  {
   "cell_type": "code",
   "execution_count": 29,
   "metadata": {},
   "outputs": [],
   "source": [
    "def test_nested_if_flag(a, b, c, x, y, z):\n",
    "    \n",
    "    done = False\n",
    "    if (a == 1) and (not done):\n",
    "        s=\"a = 1. Ran 1st if.\"\n",
    "        done = True\n",
    "    \n",
    "    if (b == 1) and (not done):\n",
    "        s=\"a = 1. Ran 2nd if.\"\n",
    "        done = True\n",
    "    \n",
    "    if (c == 1) and (not done):\n",
    "        s=\"c = 1. ran 3rd if.\"\n",
    "        done = True\n",
    "    \n",
    "    if (x == 1) and (not done):\n",
    "        s=\"x = 1. ran 4th if.\"\n",
    "        done = True\n",
    "    \n",
    "    if (y == 1) and (not done):\n",
    "        s = \"y = 1. ran 5th if.\"\n",
    "        done = True\n",
    "    \n",
    "    if (z == 1) and (not done):\n",
    "        s=\"z = 1. ran 6th if.\"\n",
    "        done = True\n",
    "    \n",
    "    # If the code got here, nothing was = 1\n",
    "    if not done:\n",
    "        s=\"None of the inputs was 1.\"\n",
    "    \n",
    "    return s"
   ]
  },
  {
   "cell_type": "code",
   "execution_count": 31,
   "metadata": {},
   "outputs": [
    {
     "name": "stdout",
     "output_type": "stream",
     "text": [
      "test_nested_if_return returned  y = 1. ran 5th if.\n"
     ]
    }
   ],
   "source": [
    "r = test_nested_if_flag(0,0,0,0,1,0)\n",
    "print(\"test_nested_if_return returned \",r)"
   ]
  },
  {
   "cell_type": "markdown",
   "metadata": {},
   "source": [
    "\n",
    "__Summary__:\n",
    "- There are other options.\n",
    "- There is no single best approach.\n",
    "- Use common sense.\n"
   ]
  },
  {
   "cell_type": "markdown",
   "metadata": {},
   "source": [
    "### Continue and Break\n",
    "\n",
    "An example"
   ]
  },
  {
   "cell_type": "code",
   "execution_count": 7,
   "metadata": {},
   "outputs": [],
   "source": [
    "import math\n",
    "\n",
    "def get_first_prime_factor(q):\n",
    "    max_to_try = math.sqrt(q)\n",
    "    test_divisor = 1\n",
    "    first_factor = None\n",
    "\n",
    "    print(\"I need to test up to \", max_to_try)\n",
    "    \n",
    "    while (test_divisor < max_to_try):\n",
    "        test_divisor += 1\n",
    "        \n",
    "        print (\"testing ...\", test_divisor)\n",
    "        \n",
    "        # I only need to test 2. I do not need to test other\n",
    "        # even numbers. So, I will go to back to the beginning\n",
    "        # of the loop and run next iteration.\n",
    "        if (test_divisor > 2) and ((test_divisor % 2) == 0):\n",
    "            print(\"test_divisor is even and not 2. Skipping.\")\n",
    "            continue\n",
    "            \n",
    "        remainder = q % test_divisor\n",
    "        \n",
    "        # I found a divisor. Remember the number to return\n",
    "        # later. Also, I can stop executing the loop.\n",
    "        if (remainder == 0):\n",
    "            first_factor = test_divisor\n",
    "            break\n",
    "\n",
    "    return first_factor\n",
    "    "
   ]
  },
  {
   "cell_type": "code",
   "execution_count": 9,
   "metadata": {},
   "outputs": [
    {
     "name": "stdout",
     "output_type": "stream",
     "text": [
      "I need to test up to  24.269322199023193\n",
      "testing ... 2\n",
      "testing ... 3\n",
      "testing ... 4\n",
      "test_divisor is even and not 2. Skipping.\n",
      "testing ... 5\n",
      "testing ... 6\n",
      "test_divisor is even and not 2. Skipping.\n",
      "testing ... 7\n",
      "testing ... 8\n",
      "test_divisor is even and not 2. Skipping.\n",
      "testing ... 9\n",
      "testing ... 10\n",
      "test_divisor is even and not 2. Skipping.\n",
      "testing ... 11\n",
      "testing ... 12\n",
      "test_divisor is even and not 2. Skipping.\n",
      "testing ... 13\n",
      "testing ... 14\n",
      "test_divisor is even and not 2. Skipping.\n",
      "testing ... 15\n",
      "testing ... 16\n",
      "test_divisor is even and not 2. Skipping.\n",
      "testing ... 17\n",
      "testing ... 18\n",
      "test_divisor is even and not 2. Skipping.\n",
      "testing ... 19\n",
      "First prime factor of  589 is  19\n"
     ]
    }
   ],
   "source": [
    "t = 589\n",
    "r = get_first_prime_factor(t)\n",
    "print(\"First prime factor of \", t, \"is \", r)"
   ]
  },
  {
   "cell_type": "markdown",
   "metadata": {},
   "source": [
    "- __break statement:__ \"The break statement, like in C, breaks out of the innermost enclosing for or while loop.\" (https://docs.python.org/3/tutorial/controlflow.html)\n",
    "\n"
   ]
  },
  {
   "cell_type": "code",
   "execution_count": 13,
   "metadata": {},
   "outputs": [
    {
     "name": "stdout",
     "output_type": "stream",
     "text": [
      "(i,j) = ( 1 , 1 )\n",
      "Breaking the inner loop.\n",
      "(i,j) = ( 2 , 1 )\n",
      "(i,j) = ( 2 , 2 )\n",
      "Breaking the inner loop.\n",
      "(i,j) = ( 3 , 1 )\n",
      "(i,j) = ( 3 , 2 )\n",
      "(i,j) = ( 3 , 3 )\n",
      "Breaking the inner loop.\n",
      "(i,j) = ( 4 , 1 )\n",
      "(i,j) = ( 4 , 2 )\n",
      "(i,j) = ( 4 , 3 )\n",
      "(i,j) = ( 4 , 4 )\n",
      "Breaking the inner loop.\n"
     ]
    }
   ],
   "source": [
    "for i in range(1,5):\n",
    "    for j in range(1,5):\n",
    "        print(\"(i,j) = (\", i, \",\", j,\")\")\n",
    "        if i == j:\n",
    "            print(\"Breaking the inner loop.\")\n",
    "            break\n",
    "            "
   ]
  },
  {
   "cell_type": "markdown",
   "metadata": {},
   "source": [
    "- __for-else, while-else:__ \"Loop statements may have an else clause; it is executed when the loop terminates through exhaustion of the list (with for) or when the condition becomes false (with while), but not when the loop is terminated by a break statement.\" (https://docs.python.org/3/tutorial/controlflow.html#break-and-continue-statements-and-else-clauses-on-loops)\n",
    "\n"
   ]
  },
  {
   "cell_type": "code",
   "execution_count": 17,
   "metadata": {},
   "outputs": [
    {
     "name": "stdout",
     "output_type": "stream",
     "text": [
      "is_rainbow_color(green) =  True\n",
      "is_rainbow_color(teal) =  False\n"
     ]
    }
   ],
   "source": [
    "rainbow_colors = [\"red\", \"orange\", \"yellow\", \"green\", \"blue\", \"indigo\",  \"violet\"]\n",
    "\n",
    "def is_rainbow_color(color):\n",
    "    result = \"Seriously dude?\"\n",
    "    for c in rainbow_colors:\n",
    "        if c == color:\n",
    "            result = True\n",
    "            break\n",
    "    else:\n",
    "        # This statement executes only if the break does not execute.\n",
    "        result = False\n",
    "        \n",
    "    return result\n",
    "            \n",
    "print(\"is_rainbow_color(green) = \", is_rainbow_color(\"green\"))\n",
    "print(\"is_rainbow_color(teal) = \", is_rainbow_color(\"teal\"))\n"
   ]
  },
  {
   "cell_type": "code",
   "execution_count": 2,
   "metadata": {},
   "outputs": [],
   "source": [
    "def prompt_for_integer(prompt, l_bound, u_bound, patience):\n",
    "    i = 0\n",
    "    result = None\n",
    "    \n",
    "    while (i < patience):\n",
    "        s = input(prompt + \":\")\n",
    "        if not s.isdigit():\n",
    "            print(\"You must enter an integer.\")\n",
    "            continue\n",
    "        else:\n",
    "            t = int(s)\n",
    "            if (t >= l_bound) and (t <= u_bound):\n",
    "                result = t\n",
    "                print(\"Accepted input = \", result)\n",
    "                break\n",
    "            else:\n",
    "                print(\"The allowed range is \", l_bound, \",\", u_bound)\n",
    "                \n",
    "        i = i + 1\n",
    "    else:\n",
    "        print(\"Sorry. I do not have all day.\")\n",
    "        \n",
    "    return result\n",
    "                      "
   ]
  },
  {
   "cell_type": "code",
   "execution_count": 3,
   "metadata": {},
   "outputs": [
    {
     "name": "stdout",
     "output_type": "stream",
     "text": [
      "Enter Professor Ferguson's IQ::51\n",
      "The allowed range is  0 , 50\n",
      "Enter Professor Ferguson's IQ::49\n",
      "Accepted input =  49\n"
     ]
    },
    {
     "data": {
      "text/plain": [
       "49"
      ]
     },
     "execution_count": 3,
     "metadata": {},
     "output_type": "execute_result"
    }
   ],
   "source": [
    "prompt_for_integer(\"Enter Professor Ferguson's IQ:\", 0, 50, 3)"
   ]
  },
  {
   "cell_type": "code",
   "execution_count": 4,
   "metadata": {
    "scrolled": true
   },
   "outputs": [
    {
     "name": "stdout",
     "output_type": "stream",
     "text": [
      "Enter Professor Ferguson's IQ::51\n",
      "The allowed range is  0 , 50\n",
      "Enter Professor Ferguson's IQ::52\n",
      "The allowed range is  0 , 50\n",
      "Enter Professor Ferguson's IQ::53\n",
      "The allowed range is  0 , 50\n",
      "Sorry. I do not have all day.\n"
     ]
    }
   ],
   "source": [
    "prompt_for_integer(\"Enter Professor Ferguson's IQ:\", 0, 50, 3)"
   ]
  },
  {
   "cell_type": "markdown",
   "metadata": {},
   "source": [
    "## The Monty Hall Problem\n",
    "\n",
    "### Mind Blown?\n",
    "\n",
    "__Your not alone:__\n",
    "\n",
    "\"Many readers of vos Savant's column refused to believe switching is beneficial despite her explanation. After the problem appeared in Parade, approximately 10,000 readers, including nearly 1,000 with PhDs, wrote to the magazine, most of them claiming vos Savant was wrong (Tierney 1991). Even when given explanations, simulations, and formal mathematical proofs, many people still do not accept that switching is the best strategy (vos Savant 1991a). Paul Erdős, one of the most prolific mathematicians in history, remained unconvinced until he was shown a computer simulation demonstrating the predicted result (Vazsonyi 1999).\" (https://en.wikipedia.org/wiki/Monty_Hall_problem)\n",
    "\n",
    "_After a 3 day Facebook argument with my brothers._\n",
    "\n",
    "<img src=\"../images/L5_monty_family.jpeg\" width=\"75%\">"
   ]
  },
  {
   "cell_type": "markdown",
   "metadata": {},
   "source": [
    "### Getting Started\n",
    "\n",
    "The two most important 1st steps solving any programming problem.\n",
    "\n",
    "<img src=\"../images/L5_monty_google.jpeg\">\n",
    "\n",
    "<img src=\"../images/L5_help_me.jpeg\">"
   ]
  },
  {
   "cell_type": "markdown",
   "metadata": {},
   "source": [
    "### And The Web Says ...\n",
    "\n",
    "http://fiftyexamples.readthedocs.io/en/latest/monty-hall.html\n",
    "\n"
   ]
  },
  {
   "cell_type": "code",
   "execution_count": 6,
   "metadata": {},
   "outputs": [],
   "source": [
    "#!/usr/bin/env python3\n",
    "\n",
    "\"\"\"Simulate the Monty Hall problem.\n",
    "\n",
    "\"\"\"\n",
    "\n",
    "import argparse, random\n",
    "\n",
    "def simulate(num_doors, switch, verbose):\n",
    "    \"\"\"(int, bool): bool\n",
    "\n",
    "    Carry out the game for one contestant.  If 'switch' is True,\n",
    "    the contestant will switch their chosen door when offered the chance.\n",
    "    Returns a Boolean value telling whether the simulated contestant won.\n",
    "    \"\"\"\n",
    "\n",
    "    # Doors are numbered from 0 up to num_doors-1 (inclusive).\n",
    "\n",
    "    # Randomly choose the door hiding the prize.\n",
    "    winning_door = random.randint(0, num_doors-1)\n",
    "    if verbose:\n",
    "        print('Prize is behind door {}'.format(winning_door+1))\n",
    "\n",
    "    # The contestant picks a random door, too.\n",
    "    choice = random.randint(0, num_doors-1)\n",
    "    if verbose:\n",
    "        print('Contestant chooses door {}'.format(choice+1))\n",
    "\n",
    "    # The host opens all but two doors.\n",
    "    closed_doors = list(range(num_doors))\n",
    "    while len(closed_doors) > 2:\n",
    "        # Randomly choose a door to open.\n",
    "        door_to_remove = random.choice(closed_doors)\n",
    "\n",
    "        # The host will never open the winning door, or the door\n",
    "        # chosen by the contestant.\n",
    "        if door_to_remove == winning_door or door_to_remove == choice:\n",
    "            continue\n",
    "\n",
    "        # Remove the door from the list of closed doors.\n",
    "        closed_doors.remove(door_to_remove)\n",
    "        if verbose:\n",
    "            print('Host opens door {}'.format(door_to_remove+1))\n",
    "\n",
    "    # There are always two doors remaining.\n",
    "    assert len(closed_doors) == 2\n",
    "\n",
    "    # Does the contestant want to switch their choice?\n",
    "    if switch:\n",
    "        if verbose:\n",
    "            print('Contestant switches from door {} '.format(choice+1), end='')\n",
    "\n",
    "        # There are two closed doors left.  The contestant will never\n",
    "        # choose the same door, so we'll remove that door as a choice.\n",
    "        available_doors = list(closed_doors) # Make a copy of the list.\n",
    "        available_doors.remove(choice)\n",
    "\n",
    "        # Change choice to the only door available.\n",
    "        choice = available_doors.pop()\n",
    "        if verbose:\n",
    "            print('to {}'.format(choice+1))\n",
    "\n",
    "    # Did the contestant win?\n",
    "    won = (choice == winning_door)\n",
    "    if verbose:\n",
    "        if won:\n",
    "            print('Contestant WON', end='\\n\\n')\n",
    "        else:\n",
    "            print('Contestant LOST', end='\\n\\n')\n",
    "    return won\n",
    "\n",
    "\n",
    "def main():\n",
    "    # Get command-line arguments\n",
    "    parser = argparse.ArgumentParser(\n",
    "        description='simulate the Monty Hall problem')\n",
    "    parser.add_argument('--doors', default=3, type=int, metavar='int',\n",
    "                        help='number of doors offered to the contestant')\n",
    "    parser.add_argument('--trials', default=10000, type=int, metavar='int',\n",
    "                        help='number of trials to perform')\n",
    "    parser.add_argument('--verbose', default=False, action='store_true',\n",
    "                        help='display the results of each trial')\n",
    "    args = parser.parse_args()\n",
    "\n",
    "    print('Simulating {} trials...'.format(args.trials))\n",
    "\n",
    "    # Carry out the trials\n",
    "    winning_non_switchers = 0\n",
    "    winning_switchers = 0\n",
    "    for i in range(args.trials):\n",
    "        # First, do a trial where the contestant never switches.\n",
    "        won = simulate(args.doors, switch=False, verbose=args.verbose)\n",
    "        if won:\n",
    "            winning_non_switchers += 1\n",
    "\n",
    "        # Next, try one where the contestant switches.\n",
    "        won = simulate(args.doors, switch=True, verbose=args.verbose)\n",
    "        if won:\n",
    "            winning_switchers += 1\n",
    "\n",
    "    print('    Switching won {0:5} times out of {1} ({2}% of the time)'.format(\n",
    "            winning_switchers, args.trials,\n",
    "            (winning_switchers / args.trials * 100 ) ))\n",
    "    print('Not switching won {0:5} times out of {1} ({2}% of the time)'.format(\n",
    "            winning_non_switchers, args.trials,\n",
    "            (winning_non_switchers / args.trials * 100 ) ))\n",
    "\n",
    "\n",
    "##if __name__ == '__main__':\n",
    "##    main()"
   ]
  },
  {
   "cell_type": "markdown",
   "metadata": {},
   "source": [
    "### Sample Execution\n",
    "\n",
    "| <img src=\"../images/L5_executable.jpeg\"> | \n",
    "|:--: | \n",
    "| __Command Line Executable__ |\n",
    "\n",
    "- Notice a couple of things:\n",
    "    - I quit the Python interpreter.\n",
    "    - Then I ran the Monty Hall Python program as if it were an operating system command or executable.\n",
    "    \n",
    "    \n",
    "- This approach executed the program as a [_shell script._](https://en.wikipedia.org/wiki/Shell_script) \"A shell script is a computer program designed to be run by the Unix shell, a command-line interpreter.[1] The various dialects of shell scripts are considered to be scripting languages. Typical operations performed by shell scripts include file manipulation, program execution, and printing text. A script which sets up the environment, runs the program, and does any necessary cleanup, logging, etc. is called a wrapper.\"\n",
    "\n",
    "\n",
    "- Python is a [_scripting language._](https://en.wikipedia.org/wiki/Scripting_language) \"A scripting or script language is a programming language that supports scripts: programs written for a special run-time environment that automate the execution of tasks that could alternatively be executed one-by-one by a human operator. Scripting languages are often interpreted (rather than compiled). Primitives are usually the elementary tasks or API calls, and the language allows them to be combined into more complex programs.\" \n",
    "\n",
    "\n",
    "- Complex engineering and scientific problems (and in many other domains) are often multiple steps that interact with multiple systems and data sources. Python scripting is a common approach for\n",
    "    - Implementing the base steps in the process.\n",
    "    - Controlling the overall, multi-step execution.\n",
    "    \n",
    "    \n",
    "\"Scientific Computing Is More Than Number Crunching: Many computational scientists work with their own numerical software development and realize that much of the work is not only writing computationally intensive number-crunching loops.  Very often programming is about shuffling data in and out of different tools, converting one data format to another, extracting numerical data from a text, and administering numerical experiments involving a large number of data files and directories.  Such tasks are much faster to accomplish in a language like Python than in Fortran, C, C++, C#, or Java.\" _Python Scripting for Computational Science,_ Hans Petter Langtangen, ISBN: 978-3642093159.\n",
    "\n",
    "| <img src=\"../images/L5_data_science_workflow.jpg\"> | \n",
    "|:--: | \n",
    "| [__Data Science Workflow__](https://cacm.acm.org/blogs/blog-cacm/169199-data-science-workflow-overview-and-challenges/fulltext) |\n",
    "\n"
   ]
  },
  {
   "cell_type": "markdown",
   "metadata": {},
   "source": [
    "### Introduction to Shell Scripts\n",
    "\n",
    "There is not a lot of magic:\n",
    "\n",
    "- #!/usr/bin/env python3 informs the operating system what language interpreter to run the shell script.\n",
    "\n",
    "\n",
    "- On a UNIX based system (Linux, Mac, ...), you make the program executable with \"chmod u+x\" There is a similar approach on Windows.\n",
    "\n",
    "\n",
    "- Run the program in a command/terminal window.\n",
    "\n",
    "| <img src=\"../images/L5_shell_execution_2.jpeg\"> | \n",
    "|:--: | \n",
    "| __Data Science Workflow__ |\n",
    "\n",
    "\n",
    "- That was a little underwhelming, but here is the program (will not run in a Jupyter Notebook).\n"
   ]
  },
  {
   "cell_type": "code",
   "execution_count": null,
   "metadata": {},
   "outputs": [],
   "source": [
    "#!/usr/bin/env python3\n",
    "\n",
    "import os\n",
    "\n",
    "print(\"\\n********* Running a Python program as a Shell Script ********\")\n",
    "print(\"Using os.system to execute 'pwd'\")\n",
    "os.system('pwd')\n",
    "print(\"That was not all that impressive.\")\n",
    "print(\"Let's try ls -a\")\n",
    "os.system('ls -a')\n",
    "print(\"Equally unimpressive.\")\n",
    "print(\"How about reboot? Just kidding.\")\n",
    "print(\"********* Ending a Python program as a Shell Script ********\\n\")"
   ]
  },
  {
   "cell_type": "markdown",
   "metadata": {},
   "source": [
    "- Maybe this is more impressive\n",
    "\n",
    "| <img src=\"../images/L5_ssh_execution.jpeg\"> | \n",
    "|:--: | \n",
    "| __Remote Program Execution__ |"
   ]
  },
  {
   "cell_type": "markdown",
   "metadata": {},
   "source": [
    "- OK. If you understood what just happened,\n",
    "    - You would forgive me for my boneheaded explanation of boolean _and._\n",
    "    - You would be going \"Ooh\" and \"Aah.\"\n",
    "    - This was Gandalf stuff. Seriously.\n",
    "    \n",
    "    \n",
    "| <img src=\"../images/L4_ssh_overview.jpeg\"> | \n",
    "|:--: | \n",
    "| __Remote Program Execution__ |    \n",
    "    \n",
    "- I have a Linux server running in the Amazon Web Services data center in Virgina. I just\n",
    "    - Securely uploaded the first_shell_script.py to the remote Linux server.\n",
    "    - Made the file executable using a secure command over the Internet.\n",
    "    - Executed the script on the remote system.\n",
    "    \n",
    "    \n",
    "- You would not learn this stuff even at Hogwarts.\n",
    "\n",
    "\n",
    "- I will try to set up an environment in which you can use the technology and get some experience.\n"
   ]
  },
  {
   "cell_type": "markdown",
   "metadata": {},
   "source": [
    "### Back to Monty Hall\n",
    "\n",
    "- Why did we go through all of that? I was explaining the following statements in the program\n",
    "```\n",
    "#!/usr/bin/env python3\n",
    "```\n",
    "\n",
    "and\n",
    "\n",
    "```\n",
    "parser.add_argument('--doors', default=3, type=int, metavar='int',\n",
    "                        help='number of doors offered to the contestant')\n",
    "```"
   ]
  },
  {
   "cell_type": "markdown",
   "metadata": {},
   "source": [
    "## Flows of Control -- Overview\n",
    "\n",
    "### Computer Hardware Instructions\n",
    "\n",
    "- The unit of execution in a computer is an _instruction._ There are three categories of instructions\n",
    "    1. Access or move bytes.\n",
    "    1. Operate on bytes (add, multiply, compare, ...)\n",
    "    1. Control-flow\n",
    "\n",
    "\n",
    "<img src=\"../images/cpu2.jpg\">\n",
    "\n",
    "\n",
    "- The power of a computer is that it can execute billions of _extremely simple_ instructions per second, e.g.\n",
    "    - Multiply two numbers.\n",
    "    - Compare two numbers.\n",
    "    - Move 8 bytes from one memory location to another.\n",
    "    - etc.\n",
    "    \n",
    "    \n",
    "- Number of instruction types\n",
    "    - Intel x86 (PCs, servers, Mac): $O(1000) = $ around 1,000 to 4,000.\n",
    "    - ARM (phones, mobile devices): $O(500) = $ around 100 to 500.\n",
    "    - These numbers are a little misleading because\n",
    "        - There are several different versions of similar operations, e.g\n",
    "            - x86 has 6 different instructions to move bytes from one location to another.\n",
    "            - X86 and ARM have about 10-12 different instructions for comparing and manipulating bits/bytes.\n",
    "        - Some are very highly-specialized and used only to optimize operating system, disk input/output, etc, e.g.\n",
    "            - 0F 01 DF: \"Invalidates the TLB mapping for the virtual page specified in RAX and the ASID specified in ECX.\"\n",
    "            - F2 0F 38 F0: \"Computes CRC value using the CRC-32C (Castagnoli) polynomial 0x11EDC6F41 (normal form 0x1EDC6F41). This is the polynomial used in iSCSI. In contrast to the more popular one used in Ethernet, its parity is even, and it can thus detect any error with an odd number of changed bits.\""
   ]
  },
  {
   "cell_type": "code",
   "execution_count": null,
   "metadata": {},
   "outputs": [],
   "source": []
  },
  {
   "cell_type": "markdown",
   "metadata": {},
   "source": [
    "### Assembly Language\n",
    "\n",
    "\"An assembly (or assembler) language, often abbreviated asm, is a low-level programming language for a computer, or other programmable device, in which there is a very strong (but often not one-to-one) correspondence between the language and the architecture's machine code instructions.\" (https://en.wikipedia.org/wiki/Assembly_language)\n",
    "\n",
    "\n",
    "Very highly specialized use cases, often to interact directly with hardware control functions.\n",
    "\n",
    "<img src=\"../images/L4_assembly_language.jpeg\">"
   ]
  },
  {
   "cell_type": "markdown",
   "metadata": {},
   "source": [
    "### Programming Statements\n",
    "\n",
    "- High-level, more intuitive languages like Python have _statements._\n",
    "\n",
    "\n",
    "- A [_compiler_](https://en.wikipedia.org/wiki/Compiler) or <a href=\"https://en.wikipedia.org/wiki/Interpreter_(computing)\"><i>interpreter</i></a> maps language statement to multiple assembler/HW statements that implement the statement.\n",
    "\n",
    "\n",
    "- Programming languages have _simple statements_ and _compound statements._\n",
    "\n",
    "```\n",
    "simple_stmt ::=  expression_stmt\n",
    "                 | assert_stmt\n",
    "                 | assignment_stmt\n",
    "                 | augmented_assignment_stmt\n",
    "                 | annotated_assignment_stmt\n",
    "                 | pass_stmt\n",
    "                 | del_stmt\n",
    "                 | return_stmt\n",
    "                 | yield_stmt\n",
    "                 | raise_stmt\n",
    "                 | break_stmt\n",
    "                 | continue_stmt\n",
    "                 | import_stmt\n",
    "                 | global_stmt\n",
    "                 | nonlocal_stmt\n",
    "                 \n",
    "compound_stmt ::=  if_stmt\n",
    "                   | while_stmt\n",
    "                   | for_stmt\n",
    "                   | try_stmt\n",
    "                   | with_stmt\n",
    "                   | funcdef\n",
    "                   | classdef\n",
    "                   | async_with_stmt\n",
    "                   | async_for_stmt\n",
    "                   | async_funcdef\n",
    "suite         ::=  stmt_list NEWLINE | NEWLINE INDENT statement+ DEDENT\n",
    "statement     ::=  stmt_list NEWLINE | compound_stmt\n",
    "stmt_list     ::=  simple_stmt (\";\" simple_stmt)* [\";\"]\n",
    "\n",
    "```\n"
   ]
  },
  {
   "cell_type": "markdown",
   "metadata": {},
   "source": [
    "### Statement Execution\n",
    "\n",
    "A program is\n",
    "- A set or group of statements.\n",
    "- A control-flow or order for execution of the statements.\n",
    "\n",
    "\n",
    "[flowchart](https://en.wikipedia.org/wiki/Flowchart): \"A flowchart is a type of diagram that represents an algorithm, workflow or process, showing the steps as boxes of various kinds, and their order by connecting them with arrows.\"\n",
    "\n",
    "_How to fix a lamp_\n",
    "<img src=\"../images/L4_fix_lamp.jpeg\">\n",
    "\n",
    "\n",
    "A flow chart is a useful way to learn programming.\n",
    "\n",
    "_Compute Fibonacci Numbers_\n",
    "\n",
    "<img src=\"https://www.rff.com/fibonacci-numbers.png\">"
   ]
  }
 ],
 "metadata": {
  "celltoolbar": "Raw Cell Format",
  "kernelspec": {
   "display_name": "Python 3",
   "language": "python",
   "name": "python3"
  },
  "language_info": {
   "codemirror_mode": {
    "name": "ipython",
    "version": 3
   },
   "file_extension": ".py",
   "mimetype": "text/x-python",
   "name": "python",
   "nbconvert_exporter": "python",
   "pygments_lexer": "ipython3",
   "version": "3.6.3"
  },
  "toc": {
   "nav_menu": {},
   "number_sections": true,
   "sideBar": true,
   "skip_h1_title": false,
   "title_cell": "Table of Contents",
   "title_sidebar": "Contents",
   "toc_cell": false,
   "toc_position": {},
   "toc_section_display": true,
   "toc_window_display": false
  }
 },
 "nbformat": 4,
 "nbformat_minor": 2
}
