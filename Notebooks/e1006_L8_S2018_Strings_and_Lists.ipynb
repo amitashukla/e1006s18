{
 "cells": [
  {
   "cell_type": "markdown",
   "metadata": {
    "slideshow": {
     "slide_type": "slide"
    }
   },
   "source": [
    "<h1 style=\"display:none;\">\n",
    "<h1 style=\"display:none;\">\n",
    "<h1 style=\"display:none;\">\n",
    "<h1 style=\"display:none;\">\n",
    "<h1 style=\"display:none;\">\n",
    "<h1 style=\"display:none;\">\n",
    "<h1 style=\"display:none;\">\n",
    "\n",
    "# Introduction to Computing for Engineers and Computer Scientists<BR><BR>Chapter 4: Strings (and Lists)"
   ]
  },
  {
   "cell_type": "markdown",
   "metadata": {},
   "source": [
    "## Survey Feedback\n",
    "\n",
    "### Textbook\n",
    "\n",
    "__I want the course to be more structured, focused on Python and follow the textbook.__\n",
    "\n",
    "| <img src=\"../images/poll3.jpeg\"> |\n",
    "| : ---: |\n",
    "| __Feedback III__ |"
   ]
  },
  {
   "cell_type": "markdown",
   "metadata": {},
   "source": [
    "- Strong consensus to have more structure and align with textbook.\n",
    "\n",
    "\n",
    "- I have to find the middle way between\n",
    "    - The students' preferred approach.\n",
    "    - My professional responsibility to follow the most effective approach that my experience leads me to use.\n",
    "    \n",
    "    \n",
    "- I will figure this out somehow."
   ]
  },
  {
   "cell_type": "markdown",
   "metadata": {},
   "source": [
    "### Course Overall and Lectures\n",
    "\n",
    "__Please rate your satisfaction with the course and direction, the amount you are learning and course effectiveness.__\n",
    "\n",
    "| <img src=\"../images/poll1.jpeg\"> |\n",
    "| : ---: |\n",
    "| __Feedback I__ |\n",
    "\n",
    "__Please rate the style, effectiveness and usefulness of lectures.__\n",
    "\n",
    "| <img src=\"../images/poll2.jpeg\"> |\n",
    "| : ---: |\n",
    "| __Feedback II__ |"
   ]
  },
  {
   "cell_type": "markdown",
   "metadata": {},
   "source": [
    "- General feedback\n",
    "    - I - \"Course overall\" mean is 3.3 out of 5\n",
    "    - II - \"Lectures\" means is 3.2 out of 5\n",
    "    \n",
    "    \n",
    "- For comparison, of the previous 10 course I taught, the scores we approximately 4.2<br>\n",
    "The courses were CS courses and not general requirements.\n",
    "\n",
    "\n",
    "- This is not a popularity contest but the I clearly need to do better and some different things."
   ]
  },
  {
   "cell_type": "markdown",
   "metadata": {},
   "source": [
    "## Questions\n",
    "\n",
    "### From Class?\n",
    "\n",
    "### From Piazza"
   ]
  },
  {
   "cell_type": "markdown",
   "metadata": {},
   "source": [
    "#### plt.plot() Function\n",
    "\n",
    "__Simple Example__"
   ]
  },
  {
   "cell_type": "code",
   "execution_count": 50,
   "metadata": {},
   "outputs": [
    {
     "data": {
      "image/png": "[encoded data removed]",
      "text/plain": [
       "<matplotlib.figure.Figure at 0x10d584978>"
      ]
     },
     "metadata": {},
     "output_type": "display_data"
    }
   ],
   "source": [
    "# matplotlib is a module that contains and exposes multiple functions.\n",
    "# pyplot is a function in the module https://matplotlib.org/api/pyplot_api.html\n",
    "import matplotlib.pyplot as plt\n",
    "\n",
    "# Lists to hold f(x) for integers.\n",
    "# The functions are f(x) = x, f(x)**2, f(x)**3\n",
    "l = []\n",
    "l2 = []\n",
    "l3 = []\n",
    "\n",
    "# Generate the data points.\n",
    "for i in range(0,5):\n",
    "    l.append(i)\n",
    "    l2.append(i*i)\n",
    "    l3.append(i*i*i)\n",
    "    \n",
    "# Add the graphs to the diagram, e.g. plot the data.\n",
    "plt.plot(l)\n",
    "plt.plot(l2)\n",
    "plt.plot(l3)\n",
    "\n",
    "# Add labels for axes and legends for plots.\n",
    "plt.xlabel(\"x\")\n",
    "plt.ylabel(\"f(x)\")\n",
    "plt.legend([\"f(x)=x\",\"f(x)=x*x\",\"f(x)=x**3\"])\n",
    "\n",
    "# Show the diagram.\n",
    "plt.show()"
   ]
  },
  {
   "cell_type": "markdown",
   "metadata": {},
   "source": [
    "#### Playing [Moneyball](https://en.wikipedia.org/wiki/Moneyball)\n",
    "\n",
    "- I need to build a baseball team.\n",
    "\n",
    "\n",
    "- Should I try to acquire players that hit a lot of home runs?\n",
    "\n",
    "\n",
    "- How does a team's homerun total relate to number of wins in a season?\n",
    "\n",
    "##### Setup and Acquiring Data"
   ]
  },
  {
   "cell_type": "code",
   "execution_count": 1,
   "metadata": {},
   "outputs": [],
   "source": [
    "import numpy as np\n",
    "import matplotlib.pyplot as plt\n",
    "import statistics as st\n",
    "import seaborn as sns\n",
    "import pandas as pd\n",
    "import pymysql\n",
    "from pandas import DataFrame, Series\n",
    "%matplotlib inline\n",
    "import dbhelper"
   ]
  },
  {
   "cell_type": "code",
   "execution_count": 2,
   "metadata": {},
   "outputs": [],
   "source": [
    "# Querying Database for all seasons where a team played 150 or more games and is still active today. \n",
    "# I get the data from a database but I could have and you would have used spreadsheets (CSVs)\n",
    "query = '''select * from Teams \n",
    "inner join TeamsFranchises\n",
    "on Teams.franchID = TeamsFranchises.franchID\n",
    "where Teams.G >= 150 and TeamsFranchises.active = 'Y';\n",
    "'''\n",
    "\n",
    "# Creating dataframe from query.\n",
    "Teams = dbhelper.run_query_to_d(query)"
   ]
  },
  {
   "cell_type": "markdown",
   "metadata": {},
   "source": [
    "##### Various Plots -- Histogram\n",
    "\n",
    "- First example was a line plot.\n",
    "\n",
    "\n",
    "- We can also do histograms."
   ]
  },
  {
   "cell_type": "code",
   "execution_count": 7,
   "metadata": {},
   "outputs": [
    {
     "name": "stdout",
     "output_type": "stream",
     "text": [
      "Get a general feeling for the distribution of number of wins/season.\n"
     ]
    },
    {
     "data": {
      "image/png": "[encoded data removed]",
      "text/plain": [
       "<matplotlib.figure.Figure at 0x1a184d9e80>"
      ]
     },
     "metadata": {},
     "output_type": "display_data"
    }
   ],
   "source": [
    "print(\"Get a general feeling for the distribution of number of wins/season.\")\n",
    "teams_df = df = pd.DataFrame(Teams)\n",
    "# Plotting distribution of wins\n",
    "plt.hist(df['W'])\n",
    "plt.xlabel('Wins')\n",
    "plt.ylabel('Histogram')\n",
    "plt.title('Distribution of Wins')\n",
    "plt.show()\n"
   ]
  },
  {
   "cell_type": "markdown",
   "metadata": {},
   "source": [
    "##### Looking Directly at the Data\n",
    "\n",
    "- All information about the 10 most winning teams in history."
   ]
  },
  {
   "cell_type": "code",
   "execution_count": 5,
   "metadata": {
    "scrolled": false
   },
   "outputs": [
    {
     "name": "stdout",
     "output_type": "stream",
     "text": [
      "Data for top 10 winning teams in basebal history.\n"
     ]
    },
    {
     "data": {
      "text/html": [
       "<div>\n",
       "<style>\n",
       "    .dataframe thead tr:only-child th {\n",
       "        text-align: right;\n",
       "    }\n",
       "\n",
       "    .dataframe thead th {\n",
       "        text-align: left;\n",
       "    }\n",
       "\n",
       "    .dataframe tbody tr th {\n",
       "        vertical-align: top;\n",
       "    }\n",
       "</style>\n",
       "<table border=\"1\" class=\"dataframe\">\n",
       "  <thead>\n",
       "    <tr style=\"text-align: right;\">\n",
       "      <th></th>\n",
       "      <th>2B</th>\n",
       "      <th>3B</th>\n",
       "      <th>AB</th>\n",
       "      <th>BB</th>\n",
       "      <th>BBA</th>\n",
       "      <th>BPF</th>\n",
       "      <th>CG</th>\n",
       "      <th>CS</th>\n",
       "      <th>DP</th>\n",
       "      <th>DivWin</th>\n",
       "      <th>...</th>\n",
       "      <th>franchID</th>\n",
       "      <th>franchName</th>\n",
       "      <th>lgID</th>\n",
       "      <th>name</th>\n",
       "      <th>park</th>\n",
       "      <th>teamID</th>\n",
       "      <th>teamIDBR</th>\n",
       "      <th>teamIDlahman45</th>\n",
       "      <th>teamIDretro</th>\n",
       "      <th>yearID</th>\n",
       "    </tr>\n",
       "  </thead>\n",
       "  <tbody>\n",
       "    <tr>\n",
       "      <th>58</th>\n",
       "      <td>181</td>\n",
       "      <td>71</td>\n",
       "      <td>5018</td>\n",
       "      <td>448</td>\n",
       "      <td>446</td>\n",
       "      <td>106</td>\n",
       "      <td>125</td>\n",
       "      <td></td>\n",
       "      <td>100</td>\n",
       "      <td></td>\n",
       "      <td>...</td>\n",
       "      <td>CHC</td>\n",
       "      <td>Chicago Cubs</td>\n",
       "      <td>NL</td>\n",
       "      <td>Chicago Cubs</td>\n",
       "      <td>West Side Park II</td>\n",
       "      <td>CHN</td>\n",
       "      <td>CHC</td>\n",
       "      <td>CHN</td>\n",
       "      <td>CHN</td>\n",
       "      <td>1906</td>\n",
       "    </tr>\n",
       "    <tr>\n",
       "      <th>1831</th>\n",
       "      <td>310</td>\n",
       "      <td>38</td>\n",
       "      <td>5680</td>\n",
       "      <td>614</td>\n",
       "      <td>465</td>\n",
       "      <td>94</td>\n",
       "      <td>8</td>\n",
       "      <td>42</td>\n",
       "      <td>137</td>\n",
       "      <td>Y</td>\n",
       "      <td>...</td>\n",
       "      <td>SEA</td>\n",
       "      <td>Seattle Mariners</td>\n",
       "      <td>AL</td>\n",
       "      <td>Seattle Mariners</td>\n",
       "      <td>Safeco Field</td>\n",
       "      <td>SEA</td>\n",
       "      <td>SEA</td>\n",
       "      <td>SEA</td>\n",
       "      <td>SEA</td>\n",
       "      <td>2001</td>\n",
       "    </tr>\n",
       "    <tr>\n",
       "      <th>1735</th>\n",
       "      <td>290</td>\n",
       "      <td>31</td>\n",
       "      <td>5643</td>\n",
       "      <td>653</td>\n",
       "      <td>466</td>\n",
       "      <td>97</td>\n",
       "      <td>22</td>\n",
       "      <td>63</td>\n",
       "      <td>146</td>\n",
       "      <td>Y</td>\n",
       "      <td>...</td>\n",
       "      <td>NYY</td>\n",
       "      <td>New York Yankees</td>\n",
       "      <td>AL</td>\n",
       "      <td>New York Yankees</td>\n",
       "      <td>Yankee Stadium II</td>\n",
       "      <td>NYA</td>\n",
       "      <td>NYY</td>\n",
       "      <td>NYA</td>\n",
       "      <td>NYA</td>\n",
       "      <td>1998</td>\n",
       "    </tr>\n",
       "    <tr>\n",
       "      <th>787</th>\n",
       "      <td>188</td>\n",
       "      <td>39</td>\n",
       "      <td>5222</td>\n",
       "      <td>637</td>\n",
       "      <td>486</td>\n",
       "      <td>102</td>\n",
       "      <td>77</td>\n",
       "      <td>33</td>\n",
       "      <td>148</td>\n",
       "      <td></td>\n",
       "      <td>...</td>\n",
       "      <td>CLE</td>\n",
       "      <td>Cleveland Indians</td>\n",
       "      <td>AL</td>\n",
       "      <td>Cleveland Indians</td>\n",
       "      <td>Cleveland Stadium</td>\n",
       "      <td>CLE</td>\n",
       "      <td>CLE</td>\n",
       "      <td>CLE</td>\n",
       "      <td>CLE</td>\n",
       "      <td>1954</td>\n",
       "    </tr>\n",
       "    <tr>\n",
       "      <th>365</th>\n",
       "      <td>291</td>\n",
       "      <td>103</td>\n",
       "      <td>5347</td>\n",
       "      <td>635</td>\n",
       "      <td>409</td>\n",
       "      <td>98</td>\n",
       "      <td>82</td>\n",
       "      <td>64</td>\n",
       "      <td>123</td>\n",
       "      <td></td>\n",
       "      <td>...</td>\n",
       "      <td>NYY</td>\n",
       "      <td>New York Yankees</td>\n",
       "      <td>AL</td>\n",
       "      <td>New York Yankees</td>\n",
       "      <td>Yankee Stadium I</td>\n",
       "      <td>NYA</td>\n",
       "      <td>NYY</td>\n",
       "      <td>NYA</td>\n",
       "      <td>NYA</td>\n",
       "      <td>1927</td>\n",
       "    </tr>\n",
       "    <tr>\n",
       "      <th>112</th>\n",
       "      <td>218</td>\n",
       "      <td>92</td>\n",
       "      <td>5129</td>\n",
       "      <td>479</td>\n",
       "      <td>320</td>\n",
       "      <td>105</td>\n",
       "      <td>93</td>\n",
       "      <td></td>\n",
       "      <td>100</td>\n",
       "      <td></td>\n",
       "      <td>...</td>\n",
       "      <td>PIT</td>\n",
       "      <td>Pittsburgh Pirates</td>\n",
       "      <td>NL</td>\n",
       "      <td>Pittsburgh Pirates</td>\n",
       "      <td>Exposition Park/Forbes Field</td>\n",
       "      <td>PIT</td>\n",
       "      <td>PIT</td>\n",
       "      <td>PIT</td>\n",
       "      <td>PIT</td>\n",
       "      <td>1909</td>\n",
       "    </tr>\n",
       "    <tr>\n",
       "      <th>905</th>\n",
       "      <td>194</td>\n",
       "      <td>40</td>\n",
       "      <td>5559</td>\n",
       "      <td>543</td>\n",
       "      <td>542</td>\n",
       "      <td>95</td>\n",
       "      <td>47</td>\n",
       "      <td>18</td>\n",
       "      <td>180</td>\n",
       "      <td></td>\n",
       "      <td>...</td>\n",
       "      <td>NYY</td>\n",
       "      <td>New York Yankees</td>\n",
       "      <td>AL</td>\n",
       "      <td>New York Yankees</td>\n",
       "      <td>Yankee Stadium I</td>\n",
       "      <td>NYA</td>\n",
       "      <td>NYY</td>\n",
       "      <td>NYA</td>\n",
       "      <td>NYA</td>\n",
       "      <td>1961</td>\n",
       "    </tr>\n",
       "    <tr>\n",
       "      <th>1052</th>\n",
       "      <td>234</td>\n",
       "      <td>29</td>\n",
       "      <td>5518</td>\n",
       "      <td>634</td>\n",
       "      <td>498</td>\n",
       "      <td>101</td>\n",
       "      <td>50</td>\n",
       "      <td>45</td>\n",
       "      <td>145</td>\n",
       "      <td>Y</td>\n",
       "      <td>...</td>\n",
       "      <td>BAL</td>\n",
       "      <td>Baltimore Orioles</td>\n",
       "      <td>AL</td>\n",
       "      <td>Baltimore Orioles</td>\n",
       "      <td>Memorial Stadium</td>\n",
       "      <td>BAL</td>\n",
       "      <td>BAL</td>\n",
       "      <td>BAL</td>\n",
       "      <td>BAL</td>\n",
       "      <td>1969</td>\n",
       "    </tr>\n",
       "    <tr>\n",
       "      <th>1201</th>\n",
       "      <td>278</td>\n",
       "      <td>37</td>\n",
       "      <td>5581</td>\n",
       "      <td>691</td>\n",
       "      <td>487</td>\n",
       "      <td>102</td>\n",
       "      <td>22</td>\n",
       "      <td>36</td>\n",
       "      <td>173</td>\n",
       "      <td>Y</td>\n",
       "      <td>...</td>\n",
       "      <td>CIN</td>\n",
       "      <td>Cincinnati Reds</td>\n",
       "      <td>NL</td>\n",
       "      <td>Cincinnati Reds</td>\n",
       "      <td>Riverfront Stadium</td>\n",
       "      <td>CIN</td>\n",
       "      <td>CIN</td>\n",
       "      <td>CIN</td>\n",
       "      <td>CIN</td>\n",
       "      <td>1975</td>\n",
       "    </tr>\n",
       "    <tr>\n",
       "      <th>1076</th>\n",
       "      <td>213</td>\n",
       "      <td>25</td>\n",
       "      <td>5545</td>\n",
       "      <td>717</td>\n",
       "      <td>469</td>\n",
       "      <td>101</td>\n",
       "      <td>60</td>\n",
       "      <td>39</td>\n",
       "      <td>148</td>\n",
       "      <td>Y</td>\n",
       "      <td>...</td>\n",
       "      <td>BAL</td>\n",
       "      <td>Baltimore Orioles</td>\n",
       "      <td>AL</td>\n",
       "      <td>Baltimore Orioles</td>\n",
       "      <td>Memorial Stadium</td>\n",
       "      <td>BAL</td>\n",
       "      <td>BAL</td>\n",
       "      <td>BAL</td>\n",
       "      <td>BAL</td>\n",
       "      <td>1970</td>\n",
       "    </tr>\n",
       "  </tbody>\n",
       "</table>\n",
       "<p>10 rows × 52 columns</p>\n",
       "</div>"
      ],
      "text/plain": [
       "       2B   3B    AB   BB  BBA  BPF   CG  CS   DP DivWin   ...    franchID  \\\n",
       "58    181   71  5018  448  446  106  125      100          ...         CHC   \n",
       "1831  310   38  5680  614  465   94    8  42  137      Y   ...         SEA   \n",
       "1735  290   31  5643  653  466   97   22  63  146      Y   ...         NYY   \n",
       "787   188   39  5222  637  486  102   77  33  148          ...         CLE   \n",
       "365   291  103  5347  635  409   98   82  64  123          ...         NYY   \n",
       "112   218   92  5129  479  320  105   93      100          ...         PIT   \n",
       "905   194   40  5559  543  542   95   47  18  180          ...         NYY   \n",
       "1052  234   29  5518  634  498  101   50  45  145      Y   ...         BAL   \n",
       "1201  278   37  5581  691  487  102   22  36  173      Y   ...         CIN   \n",
       "1076  213   25  5545  717  469  101   60  39  148      Y   ...         BAL   \n",
       "\n",
       "              franchName  lgID                name  \\\n",
       "58          Chicago Cubs    NL        Chicago Cubs   \n",
       "1831    Seattle Mariners    AL    Seattle Mariners   \n",
       "1735    New York Yankees    AL    New York Yankees   \n",
       "787    Cleveland Indians    AL   Cleveland Indians   \n",
       "365     New York Yankees    AL    New York Yankees   \n",
       "112   Pittsburgh Pirates    NL  Pittsburgh Pirates   \n",
       "905     New York Yankees    AL    New York Yankees   \n",
       "1052   Baltimore Orioles    AL   Baltimore Orioles   \n",
       "1201     Cincinnati Reds    NL     Cincinnati Reds   \n",
       "1076   Baltimore Orioles    AL   Baltimore Orioles   \n",
       "\n",
       "                              park teamID  teamIDBR  teamIDlahman45  \\\n",
       "58               West Side Park II    CHN       CHC             CHN   \n",
       "1831                  Safeco Field    SEA       SEA             SEA   \n",
       "1735             Yankee Stadium II    NYA       NYY             NYA   \n",
       "787              Cleveland Stadium    CLE       CLE             CLE   \n",
       "365               Yankee Stadium I    NYA       NYY             NYA   \n",
       "112   Exposition Park/Forbes Field    PIT       PIT             PIT   \n",
       "905               Yankee Stadium I    NYA       NYY             NYA   \n",
       "1052              Memorial Stadium    BAL       BAL             BAL   \n",
       "1201            Riverfront Stadium    CIN       CIN             CIN   \n",
       "1076              Memorial Stadium    BAL       BAL             BAL   \n",
       "\n",
       "     teamIDretro  yearID  \n",
       "58           CHN    1906  \n",
       "1831         SEA    2001  \n",
       "1735         NYA    1998  \n",
       "787          CLE    1954  \n",
       "365          NYA    1927  \n",
       "112          PIT    1909  \n",
       "905          NYA    1961  \n",
       "1052         BAL    1969  \n",
       "1201         CIN    1975  \n",
       "1076         BAL    1970  \n",
       "\n",
       "[10 rows x 52 columns]"
      ]
     },
     "execution_count": 5,
     "metadata": {},
     "output_type": "execute_result"
    }
   ],
   "source": [
    "df2 = df.sort_values(by=['W'], ascending=False)\n",
    "print(\"Data for top 10 winning teams in basebal history.\")\n",
    "df2.head(10)"
   ]
  },
  {
   "cell_type": "markdown",
   "metadata": {},
   "source": [
    "- That was a little too much. How about a subset of the columns?"
   ]
  },
  {
   "cell_type": "code",
   "execution_count": 8,
   "metadata": {},
   "outputs": [
    {
     "data": {
      "text/html": [
       "<div>\n",
       "<style>\n",
       "    .dataframe thead tr:only-child th {\n",
       "        text-align: right;\n",
       "    }\n",
       "\n",
       "    .dataframe thead th {\n",
       "        text-align: left;\n",
       "    }\n",
       "\n",
       "    .dataframe tbody tr th {\n",
       "        vertical-align: top;\n",
       "    }\n",
       "</style>\n",
       "<table border=\"1\" class=\"dataframe\">\n",
       "  <thead>\n",
       "    <tr style=\"text-align: right;\">\n",
       "      <th></th>\n",
       "      <th>teamID</th>\n",
       "      <th>name</th>\n",
       "      <th>yearID</th>\n",
       "      <th>W</th>\n",
       "      <th>HR</th>\n",
       "      <th>R</th>\n",
       "    </tr>\n",
       "  </thead>\n",
       "  <tbody>\n",
       "    <tr>\n",
       "      <th>58</th>\n",
       "      <td>CHN</td>\n",
       "      <td>Chicago Cubs</td>\n",
       "      <td>1906</td>\n",
       "      <td>116</td>\n",
       "      <td>20</td>\n",
       "      <td>705</td>\n",
       "    </tr>\n",
       "    <tr>\n",
       "      <th>1831</th>\n",
       "      <td>SEA</td>\n",
       "      <td>Seattle Mariners</td>\n",
       "      <td>2001</td>\n",
       "      <td>116</td>\n",
       "      <td>169</td>\n",
       "      <td>927</td>\n",
       "    </tr>\n",
       "    <tr>\n",
       "      <th>1735</th>\n",
       "      <td>NYA</td>\n",
       "      <td>New York Yankees</td>\n",
       "      <td>1998</td>\n",
       "      <td>114</td>\n",
       "      <td>207</td>\n",
       "      <td>965</td>\n",
       "    </tr>\n",
       "    <tr>\n",
       "      <th>787</th>\n",
       "      <td>CLE</td>\n",
       "      <td>Cleveland Indians</td>\n",
       "      <td>1954</td>\n",
       "      <td>111</td>\n",
       "      <td>156</td>\n",
       "      <td>746</td>\n",
       "    </tr>\n",
       "    <tr>\n",
       "      <th>365</th>\n",
       "      <td>NYA</td>\n",
       "      <td>New York Yankees</td>\n",
       "      <td>1927</td>\n",
       "      <td>110</td>\n",
       "      <td>158</td>\n",
       "      <td>975</td>\n",
       "    </tr>\n",
       "    <tr>\n",
       "      <th>112</th>\n",
       "      <td>PIT</td>\n",
       "      <td>Pittsburgh Pirates</td>\n",
       "      <td>1909</td>\n",
       "      <td>110</td>\n",
       "      <td>25</td>\n",
       "      <td>699</td>\n",
       "    </tr>\n",
       "    <tr>\n",
       "      <th>905</th>\n",
       "      <td>NYA</td>\n",
       "      <td>New York Yankees</td>\n",
       "      <td>1961</td>\n",
       "      <td>109</td>\n",
       "      <td>240</td>\n",
       "      <td>827</td>\n",
       "    </tr>\n",
       "    <tr>\n",
       "      <th>1052</th>\n",
       "      <td>BAL</td>\n",
       "      <td>Baltimore Orioles</td>\n",
       "      <td>1969</td>\n",
       "      <td>109</td>\n",
       "      <td>175</td>\n",
       "      <td>779</td>\n",
       "    </tr>\n",
       "    <tr>\n",
       "      <th>1201</th>\n",
       "      <td>CIN</td>\n",
       "      <td>Cincinnati Reds</td>\n",
       "      <td>1975</td>\n",
       "      <td>108</td>\n",
       "      <td>124</td>\n",
       "      <td>840</td>\n",
       "    </tr>\n",
       "    <tr>\n",
       "      <th>1076</th>\n",
       "      <td>BAL</td>\n",
       "      <td>Baltimore Orioles</td>\n",
       "      <td>1970</td>\n",
       "      <td>108</td>\n",
       "      <td>179</td>\n",
       "      <td>792</td>\n",
       "    </tr>\n",
       "  </tbody>\n",
       "</table>\n",
       "</div>"
      ],
      "text/plain": [
       "     teamID                name  yearID    W   HR    R\n",
       "58      CHN        Chicago Cubs    1906  116   20  705\n",
       "1831    SEA    Seattle Mariners    2001  116  169  927\n",
       "1735    NYA    New York Yankees    1998  114  207  965\n",
       "787     CLE   Cleveland Indians    1954  111  156  746\n",
       "365     NYA    New York Yankees    1927  110  158  975\n",
       "112     PIT  Pittsburgh Pirates    1909  110   25  699\n",
       "905     NYA    New York Yankees    1961  109  240  827\n",
       "1052    BAL   Baltimore Orioles    1969  109  175  779\n",
       "1201    CIN     Cincinnati Reds    1975  108  124  840\n",
       "1076    BAL   Baltimore Orioles    1970  108  179  792"
      ]
     },
     "execution_count": 8,
     "metadata": {},
     "output_type": "execute_result"
    }
   ],
   "source": [
    "df3 = df2[['teamID', 'name', 'yearID', 'W', 'HR', 'R']]\n",
    "df3.head(10)"
   ]
  },
  {
   "cell_type": "markdown",
   "metadata": {},
   "source": [
    "##### Various Diagrams -- Scatter Plot\n",
    "\n",
    "- Cannot tell much from the top 10 teams. Need to look at more data.\n",
    "\n",
    "\n",
    "- Scatter plot (HR,W) to see if there appears to be any correlation."
   ]
  },
  {
   "cell_type": "code",
   "execution_count": 9,
   "metadata": {},
   "outputs": [
    {
     "data": {
      "image/png": "[encoded data removed]",
      "text/plain": [
       "<matplotlib.figure.Figure at 0x1a182a4898>"
      ]
     },
     "metadata": {},
     "output_type": "display_data"
    }
   ],
   "source": [
    "df3 = df2[['teamID', 'yearID', 'W', 'HR', 'R']]\n",
    "df3=df3.head(200)\n",
    "plt.xlabel('HRs')\n",
    "plt.ylabel('Wins')\n",
    "plt.title('Top 200 winning seasons by HR.')\n",
    "plt.scatter(df3['HR'],df3['W'])\n",
    "plt.show()"
   ]
  },
  {
   "cell_type": "markdown",
   "metadata": {},
   "source": [
    "- Not much correlation. Let's check."
   ]
  },
  {
   "cell_type": "code",
   "execution_count": 10,
   "metadata": {},
   "outputs": [
    {
     "data": {
      "text/html": [
       "<div>\n",
       "<style>\n",
       "    .dataframe thead tr:only-child th {\n",
       "        text-align: right;\n",
       "    }\n",
       "\n",
       "    .dataframe thead th {\n",
       "        text-align: left;\n",
       "    }\n",
       "\n",
       "    .dataframe tbody tr th {\n",
       "        vertical-align: top;\n",
       "    }\n",
       "</style>\n",
       "<table border=\"1\" class=\"dataframe\">\n",
       "  <thead>\n",
       "    <tr style=\"text-align: right;\">\n",
       "      <th></th>\n",
       "      <th>yearID</th>\n",
       "      <th>W</th>\n",
       "      <th>HR</th>\n",
       "      <th>R</th>\n",
       "    </tr>\n",
       "  </thead>\n",
       "  <tbody>\n",
       "    <tr>\n",
       "      <th>yearID</th>\n",
       "      <td>1.000000</td>\n",
       "      <td>-0.206981</td>\n",
       "      <td>0.774094</td>\n",
       "      <td>0.078001</td>\n",
       "    </tr>\n",
       "    <tr>\n",
       "      <th>W</th>\n",
       "      <td>-0.206981</td>\n",
       "      <td>1.000000</td>\n",
       "      <td>-0.089829</td>\n",
       "      <td>0.128339</td>\n",
       "    </tr>\n",
       "    <tr>\n",
       "      <th>HR</th>\n",
       "      <td>0.774094</td>\n",
       "      <td>-0.089829</td>\n",
       "      <td>1.000000</td>\n",
       "      <td>0.441314</td>\n",
       "    </tr>\n",
       "    <tr>\n",
       "      <th>R</th>\n",
       "      <td>0.078001</td>\n",
       "      <td>0.128339</td>\n",
       "      <td>0.441314</td>\n",
       "      <td>1.000000</td>\n",
       "    </tr>\n",
       "  </tbody>\n",
       "</table>\n",
       "</div>"
      ],
      "text/plain": [
       "          yearID         W        HR         R\n",
       "yearID  1.000000 -0.206981  0.774094  0.078001\n",
       "W      -0.206981  1.000000 -0.089829  0.128339\n",
       "HR      0.774094 -0.089829  1.000000  0.441314\n",
       "R       0.078001  0.128339  0.441314  1.000000"
      ]
     },
     "execution_count": 10,
     "metadata": {},
     "output_type": "execute_result"
    }
   ],
   "source": [
    "df4 = df3.corr('pearson')\n",
    "df4"
   ]
  },
  {
   "cell_type": "markdown",
   "metadata": {},
   "source": [
    "- Observations\n",
    "    - Wins and HRs are negatively correlated?\n",
    "    - Surprisingly, or not, HRs and Year is positively correlated $\\Rightarrow$ HRs are increasing over the years.\n",
    "    - More analysis necessary before I can build a winning team."
   ]
  },
  {
   "cell_type": "markdown",
   "metadata": {},
   "source": [
    "## Working with Strings\n",
    "\n",
    "### Overview\n",
    "\n",
    "- A string is indicated between ' ' or \" \"\n",
    "\n",
    "\n",
    "- Triple quotes preserve both the vertical and horizontal formatting of the string. Allows you to type tables, paragraphs, whatever and preserve the formatting.\n",
    "\n",
    "\n",
    "- \\ indicates a non-printable character. The two most common ones are\n",
    "    - \\n is carriage return, linefeed (CRLF)\n",
    "    - \\t is tab"
   ]
  },
  {
   "cell_type": "code",
   "execution_count": 3,
   "metadata": {},
   "outputs": [
    {
     "name": "stdout",
     "output_type": "stream",
     "text": [
      "a =  This is a string.\n",
      "b =  This is also a string\n",
      "c =  \n",
      "This is a string that preserves formatting.\n",
      "\n",
      "Blank line\n",
      "\n",
      "    Indent\n",
      "A line with three CRLF\n",
      "\n",
      "\n",
      "Follow by another line.\n",
      "\n",
      "Text followed by tab.\tText after tab\n"
     ]
    }
   ],
   "source": [
    "a = \"This is a string.\"\n",
    "b = 'This is also a string'\n",
    "c = '''\n",
    "This is a string that preserves formatting.\n",
    "\n",
    "Blank line\n",
    "\n",
    "    Indent'''\n",
    "\n",
    "print(\"a = \", a)\n",
    "print(\"b = \", b)\n",
    "print(\"c = \", c)\n",
    "\n",
    "\n",
    "print(\"A line with three CRLF\\n\\n\\nFollowed by another line.\")\n",
    "print(\"\")\n",
    "print(\"Text followed by tab.\\tText after tab\")"
   ]
  },
  {
   "cell_type": "markdown",
   "metadata": {},
   "source": [
    "### Representation\n",
    "\n",
    "- Every character is \"mapped\" (associated) with an integer\n",
    "\n",
    "\n",
    "- UTF-8, subset of Unicode, is such a mapping\n",
    "\n",
    "\n",
    "- Functions\n",
    "    - The function _ord()_ takes a character and returns its UTF-8 integer value, \n",
    "    - _chr()_ takes an integer and returns the UTF-8 character.\n"
   ]
  },
  {
   "cell_type": "code",
   "execution_count": 7,
   "metadata": {},
   "outputs": [
    {
     "name": "stdout",
     "output_type": "stream",
     "text": [
      "The ordinal value of H is  72\n",
      "The ordinal value of \t is  9\n",
      "The ordinal value of \n",
      " is  10\n"
     ]
    }
   ],
   "source": [
    "def show_ord(c):\n",
    "    print(\"The ordinal value of\",c,\"is \", ord(c),\".\")\n",
    "    \n",
    "show_ord(\"H\")\n",
    "show_ord(\"\\t\")\n",
    "show_ord(\"\\n\")"
   ]
  },
  {
   "cell_type": "code",
   "execution_count": 35,
   "metadata": {},
   "outputs": [
    {
     "name": "stdout",
     "output_type": "stream",
     "text": [
      "The character for ordinal value 72 is  H \b.\n",
      "The character for ordinal value 9 is  \t \b.\n",
      "The character for ordinal value 240 is  ð \b.\n",
      "The character for ordinal value 3740 is  ຜ \b.\n",
      "The character for ordinal value 20144 is  亰 \b.\n",
      "Following the textbook makes me 😱\n",
      "Did you notice the <backspace> in the show_char function \b\b \b\b.\n"
     ]
    }
   ],
   "source": [
    "def show_char(n):\n",
    "    print(\"The character for ordinal value\",n,\"is \", chr(n),\"\\b.\")\n",
    "    \n",
    "    \n",
    "show_char(72)\n",
    "show_char(9)\n",
    "show_char(0x00f0)\n",
    "show_char(0x0E9C) # LATIN SMALL LETTER ETH\n",
    "show_char(0x4EB0) # No idea\n",
    "\n",
    "print(\"Following the textbook makes me \" + chr(0x1f631))\n",
    "\n",
    "print(\"Did you notice the <backspace> in the show_char function \\b\\b \\b\\b.\")\n",
    "\n"
   ]
  },
  {
   "cell_type": "markdown",
   "metadata": {},
   "source": [
    "- The character mappings are online, e.g.\n",
    "    - [Emojis](http://unicode.org/emoji/charts-5.0/emoji-list.html)\n",
    "    - [CJK](https://www.key-shortcut.com/en/writing-systems/%E6%96%87%E5%AD%97-chinese-cjk/cjk-characters-1/)\n",
    "    - [Arabic](https://www.key-shortcut.com/en/writing-systems/%EF%BA%95%EF%BA%8F%D8%A2-arabic-alphabet/)\n",
    "    \n",
    "   \n",
    "- That's \"ممتاز\""
   ]
  },
  {
   "cell_type": "markdown",
   "metadata": {},
   "source": [
    "### Single and Double Quotes\n",
    "\n",
    "- Cannot mix at beginning and end of strings\n"
   ]
  },
  {
   "cell_type": "code",
   "execution_count": 36,
   "metadata": {},
   "outputs": [
    {
     "ename": "SyntaxError",
     "evalue": "EOL while scanning string literal (<ipython-input-36-7cb655a0dfdc>, line 1)",
     "output_type": "error",
     "traceback": [
      "\u001b[0;36m  File \u001b[0;32m\"<ipython-input-36-7cb655a0dfdc>\"\u001b[0;36m, line \u001b[0;32m1\u001b[0m\n\u001b[0;31m    s = 'Bad idea\"\u001b[0m\n\u001b[0m                  ^\u001b[0m\n\u001b[0;31mSyntaxError\u001b[0m\u001b[0;31m:\u001b[0m EOL while scanning string literal\n"
     ]
    }
   ],
   "source": [
    "s = 'Bad idea\"\n"
   ]
  },
  {
   "cell_type": "markdown",
   "metadata": {},
   "source": [
    "- Can use inside of each other, e.g. ' in \"\" and \" in ''\n"
   ]
  },
  {
   "cell_type": "code",
   "execution_count": 42,
   "metadata": {},
   "outputs": [
    {
     "name": "stdout",
     "output_type": "stream",
     "text": [
      "Use double quotes on the outside and single quote for things like Don's lecture.\n",
      "\n",
      "And vice versa if you want to say Don said, \"Do not mix quotes\" because it is an error.\n",
      "\n",
      "You can alse use the magic <backslash> becase \\ is <backslash>, ' is <single quote> \n",
      "\tand \" is <double quote> in all strings.\n",
      "\n"
     ]
    }
   ],
   "source": [
    "print(\"Use double quotes on the outside and single quote for things like Don's lecture.\\n\")\n",
    "print('And vice versa if you want to say Don said, \"Do not mix quotes\" because it is an error.\\n')\n",
    "print(\"You can alse use the magic <backslash> becase \\\\ is <backslash>, \\' is <single quote> \") \n",
    "print(\"\\tand \\\" is <double quote> in all strings.\\n\")"
   ]
  },
  {
   "cell_type": "markdown",
   "metadata": {},
   "source": [
    "### Strings are Sequences\n",
    "\n",
    "- some_string[i] returns the i-th character in the string.\n",
    "\n",
    "\n",
    "- Strings are sequences $\\Rightarrow$ len() returns a string's length.\n",
    " \n",
    "| <img src=\"../images/figure-4-1.jpeg\"> |\n",
    "| :---: |\n",
    "| __Punch and Embody, Figure 4.1__ |\n",
    " "
   ]
  },
  {
   "cell_type": "code",
   "execution_count": 19,
   "metadata": {},
   "outputs": [
    {
     "name": "stdout",
     "output_type": "stream",
     "text": [
      "The length of  Hello World! is 12\n",
      "test_s[0] = 'H'.\n",
      "test_s[1] = 'e'.\n",
      "test_s[2] = 'l'.\n",
      "test_s[3] = 'l'.\n",
      "test_s[4] = 'o'.\n",
      "test_s[5] = ' '.\n",
      "test_s[6] = 'W'.\n",
      "test_s[7] = 'o'.\n",
      "test_s[8] = 'r'.\n",
      "test_s[9] = 'l'.\n",
      "test_s[10] = 'd'.\n",
      "test_s[11] = '!'.\n"
     ]
    }
   ],
   "source": [
    "test_s = \"Hello World!\"\n",
    "len_s = len(test_s)\n",
    "print(\"The length of \",test_s,\"is\", len_s)\n",
    "\n",
    "for i in range(0,(len_s)):\n",
    "    print(\"test_s[\" + str(i) + \"] = '\" + test_s[i] + \"'.\")"
   ]
  },
  {
   "cell_type": "code",
   "execution_count": 21,
   "metadata": {},
   "outputs": [
    {
     "name": "stdout",
     "output_type": "stream",
     "text": [
      "How about backwards?\n",
      "test_s[-1] = '!'.\n",
      "test_s[-2] = 'd'.\n",
      "test_s[-3] = 'l'.\n",
      "test_s[-4] = 'r'.\n",
      "test_s[-5] = 'o'.\n",
      "test_s[-6] = 'W'.\n",
      "test_s[-7] = ' '.\n",
      "test_s[-8] = 'o'.\n",
      "test_s[-9] = 'l'.\n",
      "test_s[-10] = 'l'.\n",
      "test_s[-11] = 'e'.\n",
      "test_s[-12] = 'H'.\n"
     ]
    }
   ],
   "source": [
    "print(\"How about backwards?\")\n",
    "\n",
    "for i in range(-1,-1*(len_s+1),-1):\n",
    "    print(\"test_s[\" + str(i) + \"] = '\" + test_s[i] + \"'.\")"
   ]
  },
  {
   "cell_type": "markdown",
   "metadata": {},
   "source": [
    "- Tell me more about that range thingy.\n",
    "\n",
    "\n",
    "- [range()](https://docs.python.org/3/library/functions.html#func-range)\n",
    "    - range(stop)\n",
    "    - range(start, stop[, step])\n",
    "\n",
    "\n",
    "- Rather than being a function, range is actually an immutable sequence type, as documented in Ranges and Sequence Types — list, tuple, range."
   ]
  },
  {
   "cell_type": "code",
   "execution_count": 36,
   "metadata": {},
   "outputs": [
    {
     "name": "stdout",
     "output_type": "stream",
     "text": [
      "range(5)=  0 1 2 3 4\n",
      "\n",
      "This one is a little odd. The range is 0 to 125 but the step is i**i, or squares.\n",
      "range(0,125,i*i)=  0 1 2 3 4 0 16 32 48 64 80 96 112\n",
      "\n",
      "\n",
      "Get ready for blastoff!\n",
      "Guidance is internal.\n",
      "T-Minus 10\n",
      "9\n",
      "Ignition sequence starts.\n",
      "7\n",
      "T-Minus 6\n",
      "5\n",
      "Ignition.\n",
      "3\n",
      "2\n",
      "1\n",
      "Lift Off!\n",
      "\n",
      "We have lift off!\n",
      "The clock has started.\n",
      "\n",
      "We have cleared the tower!\n"
     ]
    }
   ],
   "source": [
    "s = \"\"\n",
    "for i in range(5):\n",
    "    s = s + \" \" + str(i)\n",
    "print(\"range(5)= \" + s)\n",
    "\n",
    "s2 = \"\"\n",
    "for i in range(0,125,i*i):\n",
    "    s = s + \" \" + str(i)\n",
    "    \n",
    "print(\"\\nThis one is a little odd. The range is 0 to 125 but the step is i**i, or squares.\")\n",
    "print(\"range(0,125,i*i)= \" + s)\n",
    "\n",
    "print()\n",
    "print(\"\\nGet ready for blastoff!\")\n",
    "print(\"Guidance is internal.\")\n",
    "for cucumber in range(10,-5,-1):\n",
    "    if cucumber == 10 or cucumber == 6:\n",
    "        print(\"T-Minus\",cucumber)\n",
    "    elif cucumber == 8:\n",
    "        print(\"Ignition sequence starts.\")\n",
    "    elif cucumber == 4:\n",
    "        print(\"Ignition.\")\n",
    "    elif cucumber == 0:\n",
    "        print(\"Lift Off!\")\n",
    "    elif cucumber == -2:\n",
    "        print(\"We have lift off!\")\n",
    "        print(\"The clock has started.\")\n",
    "    elif cucumber == -4:\n",
    "        print(\"We have cleared the tower!\")\n",
    "    elif cucumber > 0:\n",
    "        print(str(cucumber))\n",
    "    elif cucumber < 0:\n",
    "        print(\"\")\n",
    "        "
   ]
  },
  {
   "cell_type": "markdown",
   "metadata": {},
   "source": [
    "### It Slices, It Dices\n"
   ]
  },
  {
   "cell_type": "markdown",
   "metadata": {},
   "source": [
    "- Slicing, the [Veg-0-Matic](https://en.wikipedia.org/wiki/Veg-O-Matic) of string operations.\n",
    "\n",
    "\n",
    "- Slicing is the ability to select a subsequence of the overall sequence\n",
    "    - Uses the syntax [start : finish], where:\n",
    "        - start is the index of where we start the subsequence\n",
    "        - finish is the index of one after where we end the subsequence\n",
    "        - if either start or finish are not provided, it defaults to the beginning of the sequence for start and the end of the sequence for finish.\n",
    "   \n",
    "   \n",
    "- Slicing uses what is called a half-open range\n",
    "    - The first index is included in the sequence\n",
    "    - The last index is one after what is included\n"
   ]
  },
  {
   "cell_type": "code",
   "execution_count": 45,
   "metadata": {},
   "outputs": [
    {
     "name": "stdout",
     "output_type": "stream",
     "text": [
      "test_s[0:2] = He\n",
      "The half open rule is because test_s[1] = e while test_s[2] = l\n",
      "test_s[3:] = lo World!\n",
      "test_s[:4] = Hell\n"
     ]
    }
   ],
   "source": [
    "test_s = \"Hello World!\"\n",
    "print(\"test_s[0:2] = \" + test_s[0:2])\n",
    "print(\"The half open rule is because test_s[1] = \" + test_s[1] + \" while test_s[2] = \" + test_s[2])\n",
    "print(\"test_s[3:] = \" + test_s[3:])\n",
    "print(\"test_s[:4] = \" + test_s[:4])"
   ]
  },
  {
   "cell_type": "markdown",
   "metadata": {},
   "source": [
    "|  |\n",
    "| :---: |\n",
    "| <img src=\"../images/figure-4-2.jpeg\"> |\n",
    "| __Punch and Embody, Figure 4.2__ |\n",
    "| <img src=\"../images/figure-4-3.jpeg\"> |\n",
    "| __Punch and Embody, Figure 4.3__ |\n",
    "| <img src=\"../images/figure-4-4.jpeg\"> |\n",
    "| __Punch and Embody, Figure 4.4__ |\n",
    "| <img src=\"../images/figure-4-5.jpeg\"> |\n",
    "| __Punch and Embody, Figure 4.5__ |"
   ]
  },
  {
   "cell_type": "markdown",
   "metadata": {},
   "source": [
    "- But wait! If you order today, there is more!\n",
    "\n",
    "\n",
    "- Slicing also takes three arguments: [start:finish:countBy]. Defaults are:\n",
    "    - start is beginning\n",
    "    - finish is end\n",
    "    - countBy is 1\n",
    "\n",
    "| <img src=\"../images/figure-4-6.jpeg\"> |\n",
    "| :---: |\n",
    "| __Punch and Enbody, figure 4.6__ |"
   ]
  },
  {
   "cell_type": "code",
   "execution_count": 51,
   "metadata": {},
   "outputs": [
    {
     "name": "stdout",
     "output_type": "stream",
     "text": [
      "The even numbers in '123456789' are 2468\n",
      "The multiple of 4 in '123456789' are 48\n",
      "How about multiples of 3 in '123456789', but backwards? And =  963\n"
     ]
    }
   ],
   "source": [
    "test_s = \"123456789\"\n",
    "print(\"The even numbers in '\" + test_s + \"' are \" + test_s[1::2])\n",
    "print(\"The multiple of 4 in '\" + test_s + \"' are \" + test_s[3::4])\n",
    "print(\"How about multiples of 3 in '\" + test_s + \"', but backwards? And = \", test_s[-1::-3])"
   ]
  },
  {
   "cell_type": "markdown",
   "metadata": {},
   "source": [
    "### String Operators\n",
    "\n",
    "- Strings are sequences, ergo they are iterable.\n",
    "\n"
   ]
  },
  {
   "cell_type": "code",
   "execution_count": 58,
   "metadata": {},
   "outputs": [
    {
     "name": "stdout",
     "output_type": "stream",
     "text": [
      "Iteration.\n",
      "The general concept.\n",
      "Iterating through ['red', 1, 'green', 11, 'blue', 3.1416]\n",
      "red\n",
      "1\n",
      "green\n",
      "11\n",
      "blue\n",
      "3.1416\n",
      "\n",
      "Also works for 'Hello World!\n",
      "H\n",
      "e\n",
      "l\n",
      "l\n",
      "o\n",
      " \n",
      "W\n",
      "o\n",
      "r\n",
      "l\n",
      "d\n",
      "!\n"
     ]
    }
   ],
   "source": [
    "print(\"Iteration.\")\n",
    "print(\"The general concept.\")\n",
    "test_s1 = [\"red\", 1, \"green\", 11, \"blue\", 3.1416]\n",
    "print(\"Iterating through \" + str(test_s1))\n",
    "for thingy in test_s1:\n",
    "    print(thingy)\n",
    "    \n",
    "print(\"\\nAlso works for 'Hello World!\")\n",
    "for lemon in \"Hello World!\":\n",
    "    print(lemon)\n",
    "    "
   ]
  },
  {
   "cell_type": "markdown",
   "metadata": {},
   "source": [
    "### Operators\n",
    "\n",
    "- If you remember, I used the term _overloaded operator._ \n",
    "    - $+, *, \\lt, \\le, =, \\ge, \\gt,$ _!=_ work for numbers\n",
    "    - And also work for sequences, including strings.\n",
    "    \n",
    "    \n",
    "- You have seen me use $+,$ but will do so again and also use $*.$ And you can combine into expressions."
   ]
  },
  {
   "cell_type": "code",
   "execution_count": 63,
   "metadata": {},
   "outputs": [
    {
     "name": "stdout",
     "output_type": "stream",
     "text": [
      "test_s is  spam spam spam\n",
      "\n",
      "And you can multiple this.\n",
      "spam spam spam beans spam spam spam spam \n"
     ]
    }
   ],
   "source": [
    "test_s = \"\"\n",
    "for i in range(0,3):\n",
    "    test_s = test_s + \" spam\"\n",
    "print(\"test_s is \" + test_s)\n",
    "\n",
    "print(\"\\nAnd you can multiple this.\")\n",
    "test_s = \"spam \" * 3 + \"beans \" + \"spam \" * 4\n",
    "print(test_s)"
   ]
  },
  {
   "cell_type": "markdown",
   "metadata": {},
   "source": [
    "Directly from Punch and Enbody.\n",
    "\n",
    "- Python 3 uses the Unicode mapping for characters. Allows for representing non-English characters.\n",
    "\n",
    "\n",
    "- UTF-8, subset of Unicode, takes the English letters, numbers and punctuation marks and maps them to an integer.\n",
    "\n",
    "\n",
    "- Single character comparisons are based on that number.\n",
    "\n",
    "\n",
    "- It makes sense to compare within a sequence (lower case, upper case, digits). \n",
    "    - 'a' < 'b'    True\n",
    "    - 'A' < 'B'    True\n",
    "    - '1' < '9'    True\n",
    "\n",
    "\n",
    "- Can be weird outside of the sequence\n",
    "    - 'a' < 'A'    False\n",
    "    - 'a' < '0'    False\n",
    "    \n",
    "    \n",
    "- Whole strings: Compare the first element of each string\n",
    "    - if they are equal, move on to the next character in each\n",
    "    - if they are not equal, the relationship between those to characters are the relationship between the string\n",
    "    - if one ends up being shorter (but equal), the shorter is smaller\n"
   ]
  },
  {
   "cell_type": "code",
   "execution_count": 64,
   "metadata": {},
   "outputs": [
    {
     "name": "stdout",
     "output_type": "stream",
     "text": [
      "True\n"
     ]
    }
   ],
   "source": [
    "print('a' < 'b')"
   ]
  },
  {
   "cell_type": "code",
   "execution_count": 65,
   "metadata": {},
   "outputs": [
    {
     "name": "stdout",
     "output_type": "stream",
     "text": [
      "True\n"
     ]
    }
   ],
   "source": [
    "print('a' <= 'aa')"
   ]
  },
  {
   "cell_type": "code",
   "execution_count": 66,
   "metadata": {},
   "outputs": [
    {
     "name": "stdout",
     "output_type": "stream",
     "text": [
      "True\n"
     ]
    }
   ],
   "source": [
    "print('aardvark' <= 'aardwolf')"
   ]
  },
  {
   "cell_type": "code",
   "execution_count": 67,
   "metadata": {},
   "outputs": [
    {
     "name": "stdout",
     "output_type": "stream",
     "text": [
      "False\n"
     ]
    }
   ],
   "source": [
    "print('aardvark' == 'aardwolf')"
   ]
  },
  {
   "cell_type": "code",
   "execution_count": 69,
   "metadata": {},
   "outputs": [
    {
     "name": "stdout",
     "output_type": "stream",
     "text": [
      "test_s =  aardvark\n",
      "test_s2 =  aardvark\n"
     ]
    }
   ],
   "source": [
    "test_s = 'aardvark'\n",
    "test_s2 = 'a'*2 + 'rdvark'\n",
    "print(\"test_s = \", test_s)\n",
    "print(\"test_s2 = \", test_s2)"
   ]
  },
  {
   "cell_type": "code",
   "execution_count": 70,
   "metadata": {},
   "outputs": [
    {
     "data": {
      "text/plain": [
       "True"
      ]
     },
     "execution_count": 70,
     "metadata": {},
     "output_type": "execute_result"
    }
   ],
   "source": [
    "test_s == test_s2"
   ]
  },
  {
   "cell_type": "markdown",
   "metadata": {},
   "source": [
    "### Mutability\n",
    "\n",
    "- You cannot change a string.\n"
   ]
  },
  {
   "cell_type": "code",
   "execution_count": 72,
   "metadata": {},
   "outputs": [
    {
     "ename": "TypeError",
     "evalue": "'str' object does not support item assignment",
     "output_type": "error",
     "traceback": [
      "\u001b[0;31m---------------------------------------------------------------------------\u001b[0m",
      "\u001b[0;31mTypeError\u001b[0m                                 Traceback (most recent call last)",
      "\u001b[0;32m<ipython-input-72-8f46d829cd8e>\u001b[0m in \u001b[0;36m<module>\u001b[0;34m()\u001b[0m\n\u001b[1;32m      1\u001b[0m \u001b[0ms\u001b[0m \u001b[0;34m=\u001b[0m \u001b[0;34m\"spam\"\u001b[0m\u001b[0;34m\u001b[0m\u001b[0m\n\u001b[0;32m----> 2\u001b[0;31m \u001b[0ms\u001b[0m\u001b[0;34m[\u001b[0m\u001b[0;36m1\u001b[0m\u001b[0;34m]\u001b[0m \u001b[0;34m=\u001b[0m \u001b[0;34m'@'\u001b[0m\u001b[0;34m\u001b[0m\u001b[0m\n\u001b[0m",
      "\u001b[0;31mTypeError\u001b[0m: 'str' object does not support item assignment"
     ]
    }
   ],
   "source": [
    "s = \"spam\"\n",
    "s[1] = '@'\n"
   ]
  },
  {
   "cell_type": "markdown",
   "metadata": {},
   "source": [
    "- But, you can make new ones.\n"
   ]
  },
  {
   "cell_type": "code",
   "execution_count": 75,
   "metadata": {},
   "outputs": [
    {
     "data": {
      "text/plain": [
       "'sp@m'"
      ]
     },
     "execution_count": 75,
     "metadata": {},
     "output_type": "execute_result"
    }
   ],
   "source": [
    "s = \"spam\"\n",
    "s = s[:2] + '@' + s[-1:]\n",
    "s"
   ]
  },
  {
   "cell_type": "markdown",
   "metadata": {},
   "source": [
    "### Functions and Methods\n",
    "\n",
    "#### The Concept\n",
    "\n",
    "- Function\n",
    "    - A function is a program that performs some operation. Its details are hidden (encapsulated), only it's interface provided.\n",
    "    - A function takes some number of inputs (arguments) and returns a value based on the arguments and the function's operation.\n",
    "    \n",
    "\n",
    "- Method: A method is a variation on a function\n",
    "    - like a function, it represents a program\n",
    "    - like a function, it has input arguments and an output\n",
    "    - Unlike a function, it is applied in the context of a particular object. \n",
    "    - This is indicated by the _dot notation_ invocation\n",
    "\n",
    "__A function/method is a program? Really?__\n",
    "<img src=\"../images/head_shake.jpg\">"
   ]
  },
  {
   "cell_type": "markdown",
   "metadata": {},
   "source": [
    "- _Dot notation:_ In general, dot notation looks like:\n",
    "    - object.method(…)\n",
    "    - It means that the object in front of the dot is calling a method that is associated with that object's type.\n",
    "    - The method's that can be called are tied to the type of the object calling it. Each type has different methods.\n",
    "    \n",
    "\n",
    "- One way to sort of think of it is ```o.m(x,y)``` is like saying ```m(o,x,y),``` only the function is specific to ```o``` and there is no ```m()``` there is only ```o.m()``` \n",
    "\n",
    "\n"
   ]
  },
  {
   "cell_type": "code",
   "execution_count": 79,
   "metadata": {},
   "outputs": [
    {
     "name": "stdout",
     "output_type": "stream",
     "text": [
      "s2 =  HELLO WORLD!\n",
      "s =  Hello World!\n",
      "\n",
      "s3 =  España\n",
      "s4 =  ESPAÑA\n",
      "\n",
      "s5 =  ممتاز\n",
      "s6 =  ممتاز\n",
      "Because Arabic does not have upper and lower case.\n"
     ]
    }
   ],
   "source": [
    "s = \"Hello World!\"\n",
    "s2 = s.upper()\n",
    "print(\"s2 = \",s2)\n",
    "print(\"s = \",s)\n",
    "print(\"\")\n",
    "s3 = \"España\"\n",
    "s4 = \"España\".upper()\n",
    "print(\"s3 = \", s3)\n",
    "print(\"s4 = \", s4)\n",
    "print(\"\")\n",
    "s5 = \"ممتاز\"\n",
    "s6 = s5.upper()\n",
    "print(\"s5 = \", s5)\n",
    "print(\"s6 = \", s6)\n",
    "print(\"Because Arabic does not have upper and lower case.\")"
   ]
  },
  {
   "cell_type": "markdown",
   "metadata": {},
   "source": [
    "#### The Methods\n",
    "\n",
    "| <img src=\"../images/table-4-2.jpeg\"> |\n",
    "| :---: |\n",
    "| __Punch and Enbody, 4.2__ |"
   ]
  },
  {
   "cell_type": "markdown",
   "metadata": {},
   "source": [
    "- What of all of these functions do?\n",
    "\n",
    "\n",
    "- Since we are following the textbook and structure, if I were not a nice person that would make an excellent, but staggeringly boring HW3.\n",
    "\n",
    "\n",
    "- Some examples."
   ]
  },
  {
   "cell_type": "code",
   "execution_count": 80,
   "metadata": {},
   "outputs": [
    {
     "data": {
      "text/plain": [
       "False"
      ]
     },
     "execution_count": 80,
     "metadata": {},
     "output_type": "execute_result"
    }
   ],
   "source": [
    "\"is not a tile\".istitle()"
   ]
  },
  {
   "cell_type": "code",
   "execution_count": 82,
   "metadata": {},
   "outputs": [
    {
     "data": {
      "text/plain": [
       "True"
      ]
     },
     "execution_count": 82,
     "metadata": {},
     "output_type": "execute_result"
    }
   ],
   "source": [
    "\"Is A Title\".istitle()"
   ]
  },
  {
   "cell_type": "code",
   "execution_count": 88,
   "metadata": {},
   "outputs": [
    {
     "name": "stdout",
     "output_type": "stream",
     "text": [
      "0040 has type <class 'str'>\n",
      "Why would you do this?\n",
      "Sometimes data structures require char representations of numbers (don't ask)\n",
      "\n",
      "1234 is not a valid zip code\n",
      "01234 is a valid zip code.\n"
     ]
    }
   ],
   "source": [
    "s = str(40).zfill(4)\n",
    "print(s, \"has type\", type(s))\n",
    "print(\"Why would you do this?\")\n",
    "print(\"Sometimes data structures require char representations of numbers (don't ask)\")\n",
    "print(\"\")\n",
    "print(1234, \"is not a valid zip code\")\n",
    "print(str(1234).zfill(5), \"is a valid zip code.\")"
   ]
  },
  {
   "cell_type": "markdown",
   "metadata": {},
   "source": [
    "- How do I figure out what functions do? How do I figure out what functions are available."
   ]
  },
  {
   "cell_type": "code",
   "execution_count": 91,
   "metadata": {},
   "outputs": [
    {
     "name": "stdout",
     "output_type": "stream",
     "text": [
      "Dear Google,\n",
      "\n",
      "I hope this query finds you in good health. I have the following questions, and I hope you can help.\n",
      "1. What does this \"translate()\" method on a string do?\n",
      "2. How do I tell if a string is numeric?\n",
      "\n",
      "Thank you, and eagerly awaiting your reply.\n",
      "\n"
     ]
    }
   ],
   "source": [
    "s = '''Dear Google,\n",
    "\n",
    "I hope this query finds you in good health. I have the following questions, and I hope you can help.\n",
    "1. What does this \"translate()\" method on a string do?\n",
    "2. How do I tell if a string is numeric?\n",
    "\n",
    "Thank you, and eagerly awaiting your reply.\n",
    "'''\n",
    "\n",
    "print(s)"
   ]
  },
  {
   "cell_type": "markdown",
   "metadata": {},
   "source": [
    "- Or ask on Piazza, read the book or go to https://docs.python.org/3/library/stdtypes.html#string-methods"
   ]
  },
  {
   "cell_type": "markdown",
   "metadata": {},
   "source": [
    "### Formatting\n",
    "\n",
    "- You will see things like\n"
   ]
  },
  {
   "cell_type": "code",
   "execution_count": 96,
   "metadata": {},
   "outputs": [
    {
     "name": "stdout",
     "output_type": "stream",
     "text": [
      "Sorry. I meant to say 'Great idea!'\n",
      "Sorry. I did not mean to make this 😋 face. I meant to make this one 😈!\n"
     ]
    }
   ],
   "source": [
    "s = \"Sorry. I meant to say {}\"\n",
    "\n",
    "s1 = s.format(\"'Great idea!'\")\n",
    "print(s1)\n",
    "\n",
    "s2 = \"Sorry. I did not mean to make this {} face. I meant to make this one {}!\"\n",
    "s3 = s2.format(chr(0x1f60b),chr(0x1f608))\n",
    "print(s3)"
   ]
  },
  {
   "cell_type": "markdown",
   "metadata": {},
   "source": [
    "- We will cover another time.\n"
   ]
  },
  {
   "cell_type": "markdown",
   "metadata": {},
   "source": [
    "### Some Algorithms"
   ]
  },
  {
   "cell_type": "markdown",
   "metadata": {},
   "source": [
    "#### Is a Palindrome?\n",
    "\n",
    "- \"A [palindrome](https://en.wikipedia.org/wiki/Palindrome) is a word, phrase, number, or other sequence of characters which reads the same backward as forward, such as madam or 'taco cat' or racecar.\"\n",
    "\n",
    "\n",
    "- Implement a program to check if a word is a palindrome.\n",
    "\n",
    "\n",
    "- We will make a couple of assumptions\n",
    "    - Case does not matter\n",
    "    - Punctuation is ignored\n",
    "\n"
   ]
  },
  {
   "cell_type": "code",
   "execution_count": 98,
   "metadata": {},
   "outputs": [
    {
     "name": "stdout",
     "output_type": "stream",
     "text": [
      "Input a string:a'bba\n",
      "The original string is:  a'bba\n",
      " the modified string is: abba\n",
      " the reversal is:        abba\n",
      " String is a palindrome\n"
     ]
    }
   ],
   "source": [
    "# Copyright 2017, 2013, 2011 Pearson Education, Inc., W.F. Punch & R.J.Enbody\n",
    "# Palindrome tester\n",
    "import string\n",
    "\n",
    "original_str = input('Input a string:')\n",
    "modified_str = original_str.lower()\n",
    "\n",
    "bad_chars = string.whitespace + string.punctuation\n",
    "\n",
    "for char in modified_str:\n",
    "    if char in bad_chars:  # remove bad characters\n",
    "        modified_str = modified_str.replace(char,'')\n",
    "        \n",
    "if modified_str == modified_str[::-1]: # it is a palindrome\n",
    "    print(\\\n",
    "'The original string is:  {}\\n\\\n",
    " the modified string is: {}\\n\\\n",
    " the reversal is:        {}\\n\\\n",
    " String is a palindrome'.format(original_str, modified_str, modified_str[::-1]))\n",
    "else:\n",
    "    print(\\\n",
    "'The original string is:  {}\\n\\\n",
    " the modified string is: {}\\n\\\n",
    " the reversal is:        {}\\n\\\n",
    " String is not a palindrome'.format(original_str,modified_str,modified_str[::-1]))"
   ]
  },
  {
   "cell_type": "code",
   "execution_count": 104,
   "metadata": {},
   "outputs": [
    {
     "name": "stdout",
     "output_type": "stream",
     "text": [
      "Whitespace characters are  \t\n",
      "\r",
      "\u000b",
      "\f",
      "\n",
      "Where are they? They're there. They're whitespace fool.\n",
      "Their ord values are:\n",
      "32\n",
      "9\n",
      "10\n",
      "13\n",
      "11\n",
      "12\n",
      "\\Punctuation characters are: !\"#$%&'()*+,-./:;<=>?@[\\]^_`{|}~\n"
     ]
    }
   ],
   "source": [
    "print(\"Whitespace characters are \" + string.whitespace)\n",
    "print(\"Where are they? They're there. They're whitespace fool.\")\n",
    "print(\"Their ord values are:\")\n",
    "for c in string.whitespace:\n",
    "    print(ord(c))\n",
    "    \n",
    "print(\"\\nPunctuation characters are: \" + string.punctuation)"
   ]
  },
  {
   "cell_type": "markdown",
   "metadata": {},
   "source": [
    "## Homework 3\n",
    "\n",
    "- Will pull together\n",
    "    - Functions.\n",
    "    - String and methods.\n",
    "    - Iteration, decisions.\n",
    "    - Algorithms and decomposition.\n",
    "    \n",
    "    \n",
    "- And give you some experience building a very, very simple 3-tier web application.\n",
    "\n",
    "| <img src=\"../images/3-tier.png\"> |\n",
    "| :---: |\n",
    "| __3-Tier Application__ |\n",
    "\n",
    "\n",
    "- The three tiers\n",
    "    - The database tier will be a simple, read-only file. (Reading files is in the textbook. I checked).\n",
    "    - The middle tier (web application server) will be Python code running in [Flask](http://flask.pocoo.org/). (Web applications are in the textbook. I checked).\n",
    "    - The user interface will be HTML running in a browser. (HTML is in the textbook. I checked).\n",
    "    \n",
    "    \n",
    "- You want me to rely on the textbook. _Challenge accepted._\n",
    "\n",
    "\n",
    "- The web application will\n",
    "    - Accept a word input.\n",
    "    - Suggest corrections, e.g. \"Did you mean ...\"\n",
    "    "
   ]
  },
  {
   "cell_type": "markdown",
   "metadata": {},
   "source": [
    "## Interactive versus Script\n",
    "\n",
    "##### Simplest Solution"
   ]
  },
  {
   "cell_type": "code",
   "execution_count": 16,
   "metadata": {},
   "outputs": [
    {
     "name": "stdout",
     "output_type": "stream",
     "text": [
      "Testing.\n"
     ]
    },
    {
     "name": "stderr",
     "output_type": "stream",
     "text": [
      "usage: ipykernel_launcher.py [-h] [--arg1 int]\n",
      "ipykernel_launcher.py: error: unrecognized arguments: -f /Users/donaldferguson/Library/Jupyter/runtime/kernel-c061a760-2bd2-42f8-b8e8-b089dbaed348.json\n"
     ]
    },
    {
     "ename": "SystemExit",
     "evalue": "2",
     "output_type": "error",
     "traceback": [
      "An exception has occurred, use %tb to see the full traceback.\n",
      "\u001b[0;31mSystemExit\u001b[0m\u001b[0;31m:\u001b[0m 2\n"
     ]
    },
    {
     "name": "stderr",
     "output_type": "stream",
     "text": [
      "/Users/donaldferguson/anaconda3/lib/python3.6/site-packages/IPython/core/interactiveshell.py:2918: UserWarning: To exit: use 'exit', 'quit', or Ctrl-D.\n",
      "  warn(\"To exit: use 'exit', 'quit', or Ctrl-D.\", stacklevel=1)\n"
     ]
    }
   ],
   "source": [
    "#!/usr/bin/env python3\n",
    "\n",
    "import argparse\n",
    "\n",
    "# Default is that the program is not interactive.\n",
    "# Change from the prompt or a Jupyter cell if is interactive.\n",
    "interactive = False\n",
    "\n",
    "\n",
    "def get_args():\n",
    "\n",
    "    result = None\n",
    "\n",
    "    if not interactive:\n",
    "        parser = argparse.ArgumentParser(\n",
    "            description='Simulate flexible command line arguments.')\n",
    "        parser.add_argument('--arg1', default=12, type=int, metavar='int',\n",
    "                            help='Argument 1')\n",
    "        args = parser.parse_args()\n",
    "        result = args.arg1\n",
    "    else:\n",
    "        result = int(input(\"Enter value for arg1: \"))\n",
    "\n",
    "    return result\n",
    "\n",
    "\n",
    "def simulating_simulation(arg):\n",
    "    print(\"Simulating receiving arguments in a simulation. arg = \", arg)\n",
    "\n",
    "\n",
    "def run_test():\n",
    "    print(\"Testing.\")\n",
    "    test_result = get_args()\n",
    "    print(\"Test result = \", test_result)\n",
    "    print(\"Can call all of the other code with args now.\")\n",
    "    simulating_simulation(test_result)\n",
    "\n",
    "\n",
    "run_test()"
   ]
  },
  {
   "cell_type": "code",
   "execution_count": 17,
   "metadata": {},
   "outputs": [
    {
     "name": "stdout",
     "output_type": "stream",
     "text": [
      "Change interactive to True and try again.\n",
      "Testing.\n",
      "Enter value for arg1: 2\n",
      "Test result =  2\n",
      "Can call all of the other code with args now.\n",
      "Simulating receiving arguments in a simulation. arg =  2\n"
     ]
    }
   ],
   "source": [
    "print(\"Change interactive to True and try again.\")\n",
    "interactive = True\n",
    "run_test()"
   ]
  },
  {
   "cell_type": "markdown",
   "metadata": {},
   "source": [
    "##### Slightly More Sophisticated Solution"
   ]
  },
  {
   "cell_type": "code",
   "execution_count": 18,
   "metadata": {},
   "outputs": [
    {
     "name": "stdout",
     "output_type": "stream",
     "text": [
      "Testing.\n",
      "Enter value for arg1: 33\n",
      "Test result =  33\n",
      "Can call all of the other code with args now.\n",
      "Simulating receiving arguments in a simulation. arg =  33\n"
     ]
    }
   ],
   "source": [
    "#!/usr/bin/env python3\n",
    "\n",
    "import argparse\n",
    "\n",
    "# main is the top-level module for this execution.\n",
    "# Do not worry about this for now.\n",
    "# An execution can either be interactive, i.e. something types/sends\n",
    "# the Python statements, or driven from file input, e.g. ./foo --arg\n",
    "#\n",
    "# If there is no file associated with __main__, then we are interactive.\n",
    "def is_interactive():\n",
    "    import __main__ as main\n",
    "    return not hasattr(main, '__file__')\n",
    "\n",
    "\n",
    "# Default is that the program is not interactive.\n",
    "# Change from the prompt or a Jupyter cell if is interactive.\n",
    "interactive = is_interactive()\n",
    "\n",
    "\n",
    "def get_args():\n",
    "\n",
    "    result = None\n",
    "\n",
    "    if not interactive:\n",
    "        parser = argparse.ArgumentParser(\n",
    "            description='Simulate flexible command line arguments.')\n",
    "        parser.add_argument('--arg1', default=12, type=int, metavar='int',\n",
    "                            help='Argument 1')\n",
    "        args = parser.parse_args()\n",
    "        result = args.arg1\n",
    "    else:\n",
    "        result = int(input(\"Enter value for arg1: \"))\n",
    "\n",
    "    return result\n",
    "\n",
    "\n",
    "def simulating_simulation(arg):\n",
    "    print(\"Simulating receiving arguments in a simulation. arg = \", arg)\n",
    "\n",
    "\n",
    "def run_test():\n",
    "    print(\"Testing.\")\n",
    "    test_result = get_args()\n",
    "    print(\"Test result = \", test_result)\n",
    "    print(\"Can call all of the other code with args now.\")\n",
    "    simulating_simulation(test_result)\n",
    "\n",
    "\n",
    "run_test()"
   ]
  },
  {
   "cell_type": "markdown",
   "metadata": {},
   "source": [
    "#### Another Possible Solution"
   ]
  },
  {
   "cell_type": "code",
   "execution_count": 29,
   "metadata": {},
   "outputs": [
    {
     "name": "stderr",
     "output_type": "stream",
     "text": [
      "usage: ipykernel_launcher.py [-h] [--arg1 int]\n",
      "ipykernel_launcher.py: error: unrecognized arguments: -f /Users/donaldferguson/Library/Jupyter/runtime/kernel-c061a760-2bd2-42f8-b8e8-b089dbaed348.json\n"
     ]
    },
    {
     "name": "stdout",
     "output_type": "stream",
     "text": [
      "Got an arg parse exception. Trying a prompt.\n",
      "Enter value for arg1: 32\n"
     ]
    },
    {
     "data": {
      "text/plain": [
       "32"
      ]
     },
     "execution_count": 29,
     "metadata": {},
     "output_type": "execute_result"
    }
   ],
   "source": [
    "\n",
    "import argparse\n",
    "\n",
    "def get_args():\n",
    "\n",
    "    result = None\n",
    "\n",
    "    try:\n",
    "        parser = argparse.ArgumentParser(\n",
    "           description='Simulate flexible command line arguments.')\n",
    "        parser.add_argument('--arg1', default=12, type=int, metavar='int',\n",
    "                            help='Argument 1')\n",
    "        args = parser.parse_args()\n",
    "        result = args.arg1\n",
    "    except: \n",
    "        print(\"Got an arg parse exception. Trying a prompt.\")\n",
    "        result = int(input(\"Enter value for arg1: \"))\n",
    "\n",
    "    return result\n",
    "\n",
    "get_args()"
   ]
  },
  {
   "cell_type": "code",
   "execution_count": null,
   "metadata": {},
   "outputs": [],
   "source": []
  }
 ],
 "metadata": {
  "celltoolbar": "Raw Cell Format",
  "kernelspec": {
   "display_name": "Python 3",
   "language": "python",
   "name": "python3"
  },
  "language_info": {
   "codemirror_mode": {
    "name": "ipython",
    "version": 3
   },
   "file_extension": ".py",
   "mimetype": "text/x-python",
   "name": "python",
   "nbconvert_exporter": "python",
   "pygments_lexer": "ipython3",
   "version": "3.6.3"
  },
  "toc": {
   "nav_menu": {},
   "number_sections": true,
   "sideBar": true,
   "skip_h1_title": false,
   "title_cell": "Table of Contents",
   "title_sidebar": "Contents",
   "toc_cell": false,
   "toc_position": {},
   "toc_section_display": true,
   "toc_window_display": false
  }
 },
 "nbformat": 4,
 "nbformat_minor": 2
}
