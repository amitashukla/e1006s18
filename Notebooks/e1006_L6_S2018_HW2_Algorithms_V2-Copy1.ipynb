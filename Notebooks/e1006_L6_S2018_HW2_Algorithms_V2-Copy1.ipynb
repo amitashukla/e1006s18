{
 "cells": [
  {
   "cell_type": "markdown",
   "metadata": {
    "slideshow": {
     "slide_type": "slide"
    }
   },
   "source": [
    "<h1 style=\"display:none;\">\n",
    "<h1 style=\"display:none;\">\n",
    "<h1 style=\"display:none;\">\n",
    "<h1 style=\"display:none;\">\n",
    "<h1 style=\"display:none;\">\n",
    "<h1 style=\"display:none;\">\n",
    "\n",
    "# Introduction to Computing for Engineers and Computer Scientists<BR><BR>Chapter 3: Algorithm and Program Development"
   ]
  },
  {
   "cell_type": "markdown",
   "metadata": {},
   "source": [
    "## Questions, Comments"
   ]
  },
  {
   "cell_type": "markdown",
   "metadata": {},
   "source": [
    "### Questions from Class"
   ]
  },
  {
   "cell_type": "markdown",
   "metadata": {},
   "source": [
    "### Piazza Questions\n",
    "\n",
    "#### Type Checking\n",
    "\n",
    "##### Question\n",
    "\n",
    "| <img src=\"../images/L6_type_checking.jpeg\"> |\n",
    "| -- |\n",
    "| __Checking Types__ |\n"
   ]
  },
  {
   "cell_type": "markdown",
   "metadata": {},
   "source": [
    "- This question will become tricky when we start using _classes._ (Punch and Enbody, Chpt. 11)\n",
    "\n",
    "\n",
    "- Any object (variable or literal) we have seen so far is of a simple type, e.g. float, int, ...\n",
    "\n",
    "\n",
    "- Classes allow programmer defined types, and an object can simultaneously have several types.\n",
    "\n",
    "##### Short Answer\n",
    "\n",
    "- For now, you can use the built in function [_isinstance()._](https://docs.python.org/3/library/functions.html#isinstance)"
   ]
  },
  {
   "cell_type": "code",
   "execution_count": 2,
   "metadata": {},
   "outputs": [
    {
     "data": {
      "text/plain": [
       "True"
      ]
     },
     "execution_count": 2,
     "metadata": {},
     "output_type": "execute_result"
    }
   ],
   "source": [
    "isinstance(1,int)"
   ]
  },
  {
   "cell_type": "code",
   "execution_count": 3,
   "metadata": {},
   "outputs": [
    {
     "data": {
      "text/plain": [
       "True"
      ]
     },
     "execution_count": 3,
     "metadata": {},
     "output_type": "execute_result"
    }
   ],
   "source": [
    "isinstance(3.2,float)"
   ]
  },
  {
   "cell_type": "code",
   "execution_count": 5,
   "metadata": {},
   "outputs": [
    {
     "data": {
      "text/plain": [
       "False"
      ]
     },
     "execution_count": 5,
     "metadata": {},
     "output_type": "execute_result"
    }
   ],
   "source": [
    "isinstance(3.2,int)"
   ]
  },
  {
   "cell_type": "markdown",
   "metadata": {},
   "source": [
    "__An Example__"
   ]
  },
  {
   "cell_type": "code",
   "execution_count": 39,
   "metadata": {},
   "outputs": [],
   "source": [
    "import matplotlib.pyplot as plt\n",
    "\n",
    "def add_to_plot(x,y):\n",
    "    result = False\n",
    "    if (isinstance(x,int) or isinstance(x,float)) and \\\n",
    "        (isinstance(y,int) or isinstance(y,float)):\n",
    "        plt.plot(x,y,\"ro\")\n",
    "        result = True\n",
    "        \n",
    "    return result\n"
   ]
  },
  {
   "cell_type": "code",
   "execution_count": 41,
   "metadata": {
    "scrolled": false
   },
   "outputs": [
    {
     "name": "stdout",
     "output_type": "stream",
     "text": [
      "Plotted  3 , 4\n",
      "Plotted  2 , 9.2\n",
      "Plotted  1.3 , 7\n",
      "Plotting  c , 7 failed!\n"
     ]
    },
    {
     "data": {
      "image/png": "[encoded data removed]",
      "text/plain": [
       "<matplotlib.figure.Figure at 0x11937f9e8>"
      ]
     },
     "metadata": {},
     "output_type": "display_data"
    }
   ],
   "source": [
    "x = 3\n",
    "y = 4\n",
    "\n",
    "if add_to_plot(x,y):\n",
    "    print(\"Plotted \",x,\",\",y)\n",
    "else:\n",
    "    print(\"Plotting \",x,\",\",y,\"failed!\")\n",
    "    \n",
    "x = 2\n",
    "y = 9.2\n",
    "\n",
    "if add_to_plot(x,y):\n",
    "    print(\"Plotted \",x,\",\",y)\n",
    "else:\n",
    "    print(\"Plotting \",x,\",\",y,\"failed!\")\n",
    "    \n",
    "    \n",
    "x = 1.3\n",
    "y = 7\n",
    "\n",
    "if add_to_plot(x,y):\n",
    "    print(\"Plotted \",x,\",\",y)\n",
    "else:\n",
    "    print(\"Plotting \",x,\",\",y,\"failed!\")\n",
    "\n",
    "x = 'c'\n",
    "y = 7\n",
    "\n",
    "if add_to_plot(x,y):\n",
    "    print(\"Plotted \",x,\",\",y)\n",
    "else:\n",
    "    print(\"Plotting \",x,\",\",y,\"failed!\")\n",
    "    \n",
    "    \n",
    "plt.show()"
   ]
  },
  {
   "cell_type": "markdown",
   "metadata": {},
   "source": [
    "##### Longer Answer -- Duck Typing\n",
    "\n",
    "|<img src=\"../images/duck_typing_1.jpeg\"> |\n",
    "| --- |\n",
    "| [__Duck Typing__](https://www.activestate.com/blog/2016/01/python-vs-java-duck-typing-parsing-whitespace-and-other-cool-differences) |\n",
    "\n",
    "- Duck Typing? I am not kidding.\n",
    "\n",
    "\n",
    "- [Duck Typing:](https://en.wikipedia.org/wiki/Duck_typing) \"Duck typing is concerned with establishing the suitability of an object for some purpose, using the principle, \"If it walks like a duck and it quacks like a duck, then it must be a duck.\" With normal typing, suitability is assumed to be determined by an object's type only. In duck typing, an object's suitability is determined by the presence of certain methods and properties (with appropriate meaning), rather than the actual type of the object.\"\n",
    "\n",
    "\n",
    "- What does this mean? Try to use it like a duck, and if explodes, it was not a duck. I am not kidding.\n",
    "\n",
    "|<img src=\"../images/duck_typing.jpeg\"> |\n",
    "| --- |\n",
    "| [__Duck Typing__](https://www.slideshare.net/p3infotech_solutions/python-programming-essentials-m33-duck-typing) |\n",
    "\n",
    "- As long as it has the characteristics I need, I do not care. __Behavior__ defined type, not language constructs.\n"
   ]
  },
  {
   "cell_type": "code",
   "execution_count": 45,
   "metadata": {
    "scrolled": true
   },
   "outputs": [
    {
     "name": "stdout",
     "output_type": "stream",
     "text": [
      "Got value error =  could not convert string to float: 'a'\n",
      "Either  a or yellow was not a duck.\n"
     ]
    },
    {
     "data": {
      "image/png": "[encoded data removed]",
      "text/plain": [
       "<matplotlib.figure.Figure at 0x119d3beb8>"
      ]
     },
     "metadata": {},
     "output_type": "display_data"
    }
   ],
   "source": [
    "import matplotlib.pyplot as plt\n",
    "\n",
    "try:\n",
    "    x,y = 1.1, 3\n",
    "    plt.plot(x,y,\"ro\")\n",
    "    x,y = 3.2, 5\n",
    "    plt.plot(x,y,\"ro\")\n",
    "    x,y = 'a','yellow'\n",
    "    plt.plot(x,y,\"ro\")\n",
    "    plt.show()\n",
    "except ValueError as ve:\n",
    "    print(\"Got value error = \",ve)\n",
    "finally:\n",
    "    print(\"Either \",x,\"or\",y,\"was not a duck.\")\n",
    "    "
   ]
  },
  {
   "cell_type": "markdown",
   "metadata": {},
   "source": [
    "#### Python Features\n",
    "\n",
    "|<img src=\"../images/L6_python_features.jpeg\"> |\n",
    "| --- |\n",
    "| Python Features |"
   ]
  },
  {
   "cell_type": "markdown",
   "metadata": {},
   "source": [
    "- Every (almost) every feature in Python exists in other languages.\n",
    "\n",
    "\n",
    "- We covered this course's choice of Python in the 1st lecture.\n",
    "\n",
    "\n",
    "- The example of ```a,b = b,a``` is a specific case off ```a,b = <expresion>```\n",
    "    - This syntax and capability is unusual.\n",
    "    - Some other languages support it, e.g. [Lua](https://www.lua.org/pil/5.1.html)\n",
    "    \n",
    "    \n",
    "- Languages implement statements by parsing and code generation. \n",
    "    - The basic syntax is ```LHS = <expression>```\n",
    "    - Simplistically, the steps in the evaluation of x = 1 + 2 are\n",
    "        1. Evaluate the expression 1 + 2 and create a new object with the value.\n",
    "        1. Change x to reference the new object.\n",
    "        1. Delete/release the previous object x referenced, if not other variable references it.\n",
    "    - The generated code _evaluates_ the ```<expression>``` and produces an object, and then changes the variable to reference the object.\n",
    "    \n",
    "    \n",
    "- This is what Python does but extends to\n",
    "```LHS1, LHS2, LHS2 = <expression1>, <expression2>, <expression3>```\n",
    "    \n",
    "\n",
    "- The generated code evaluates all of the expressions and creates the result objects, _and then has the LHS reference the result expressions.\n",
    "\n",
    "\n",
    "- Just like ```a + b,``` ```a``` is an expression."
   ]
  },
  {
   "cell_type": "code",
   "execution_count": 46,
   "metadata": {},
   "outputs": [
    {
     "data": {
      "text/plain": [
       "3"
      ]
     },
     "execution_count": 46,
     "metadata": {},
     "output_type": "execute_result"
    }
   ],
   "source": [
    "a = 3\n",
    "\n",
    "# a is an expression. Evaluate a.\n",
    "a"
   ]
  },
  {
   "cell_type": "markdown",
   "metadata": {},
   "source": [
    "- Overly simplistically, for ```a,b = b,a``` Python parses and produces the following code\n",
    "    1. Evaluate the expression ```b``` and produce a new object ```o1``` with the value.\n",
    "    1. Evaluate the expression ```a``` and produce a new object ```o2``` with the value.\n",
    "    1. Change ```a``` to reference ```o1```\n",
    "    1. Change ```b``` to reference ```o2```\n",
    "    \n",
    "    \n",
    "- Is this syntax and feature useful? Some people argue \"yes\" and some people argue \"no.\""
   ]
  },
  {
   "cell_type": "markdown",
   "metadata": {},
   "source": [
    "- What do I think? Well,\n",
    "    - I am old $\\Rightarrow$ I think all new things are a bad idea.\n",
    "    - I am from rural New England $\\Rightarrow$ I am cranky and dislike everything.\n",
    "    - My ancestry is Scottish $\\Rightarrow$ I am cranky and dislike everything.\n",
    "    - I am not entirely sure computers are not a bad idea.\n",
    "    - Use the feature if you want. Avoid it if you want.\n",
    "    \n",
    "\n",
    "- The feature most commonly appears in function returns."
   ]
  },
  {
   "cell_type": "code",
   "execution_count": 47,
   "metadata": {},
   "outputs": [
    {
     "name": "stdout",
     "output_type": "stream",
     "text": [
      "Multiple returns =  (4, 8, 8)\n",
      "Cranky, old guy multiple returns =  [4, 8, 8]\n"
     ]
    }
   ],
   "source": [
    "# Multiple return example\n",
    "def three_powers(x):\n",
    "    r1 = x**2\n",
    "    r2 = x**3\n",
    "    r3 = x**3\n",
    "    \n",
    "    return r1, r2, r3\n",
    "\n",
    "# More \"traditional\" multiple return approach\n",
    "def another_three_powers(x):\n",
    "    r1 = x**2\n",
    "    r2 = x**3\n",
    "    r3 = x**3\n",
    "    \n",
    "    return [r1, r2, r3]\n",
    "\n",
    "print(\"Multiple returns = \", three_powers(2))\n",
    "print(\"Cranky, old guy multiple returns = \", another_three_powers(2))"
   ]
  },
  {
   "cell_type": "markdown",
   "metadata": {},
   "source": [
    "- Hmm. I did not expect the parentheses."
   ]
  },
  {
   "cell_type": "code",
   "execution_count": 48,
   "metadata": {},
   "outputs": [
    {
     "data": {
      "text/plain": [
       "(1, 2)"
      ]
     },
     "execution_count": 48,
     "metadata": {},
     "output_type": "execute_result"
    }
   ],
   "source": [
    "a = 1\n",
    "b = 2\n",
    "\n",
    "a,b"
   ]
  },
  {
   "cell_type": "code",
   "execution_count": 49,
   "metadata": {},
   "outputs": [
    {
     "data": {
      "text/plain": [
       "(3, 4)"
      ]
     },
     "execution_count": 49,
     "metadata": {},
     "output_type": "execute_result"
    }
   ],
   "source": [
    "x = 3\n",
    "y = 4\n",
    "(x , y) = (y, x)\n",
    "y,x"
   ]
  },
  {
   "cell_type": "markdown",
   "metadata": {},
   "source": [
    "- If you decide not to use the multiple assignment syntax,\n",
    "    - You need to be aware of it because\n",
    "    - You may use code or a library that someone else wrote, and they like multiple returns."
   ]
  },
  {
   "cell_type": "markdown",
   "metadata": {},
   "source": [
    "## Deconstructing HW2\n",
    "\n",
    "### Status\n",
    "\n",
    "- CAs are providing written feedback and suggestions to improve clarity, refine scope, etc.\n",
    "\n",
    "- We should produce the written version today or tomorrow AM.\n",
    "\n",
    "- Due two weeks from today.\n",
    "\n",
    "### Geometric Brownian Motion\n",
    "\n",
    "#### Explanation\n",
    "\n",
    "- Investopedia (Yes, that is really a thing) has a good explanation of Monte Carlo simulation of stock price evolution.\n",
    "\n",
    "\n",
    "- The formula\n",
    "\\begin{equation}\n",
    "S_t = S_{t-1} * (1 + \\mu\\delta t + \\sigma\\phi \\sqrt{\\delta t})\n",
    "\\end{equation}\n",
    "\n",
    "- Is the same as\n",
    "\\begin{equation}\n",
    "(S_t -S_{t-1}) =  \\Delta S = S_{t-1}(\\mu\\delta t + \\sigma\\phi \\sqrt{\\delta t}))\n",
    "\\end{equation}\n",
    "\n",
    "| <img src=\"../images/L6_gbm.jpeg\"> |\n",
    "| --- |\n",
    "| [Geometric Brownian Motion](https://www.investopedia.com/articles/07/montecarlo.asp) |\n",
    "\n",
    "#### Motivation\n",
    "\n",
    "- Why am I assigning this part as homework?\n",
    "\n",
    "\n",
    "- I will give you a few formulas for computing $S_t$ from $S_{t-1}$ and parameters, e.g $\\mu, $ $\\sigma $, $\\phi$, ... This will give you practice\n",
    "    - Using variables and operators to compute new values.\n",
    "    - Writing simple functions that accept parameters, validate input and return values.\n",
    "    \n",
    "    \n",
    "- Also, remember the goals I stated for the course. One was \"Make sure you have __cool sounding__ things to put on resume and talk about in interviews.\" You will be able to say, \"One of my homeworks was using a REST API to retrieve historical stock information. I did very simple statical analysis to estimate _drift_ and _volatility_ parameters for a Monte Carlo simulation that used _Geometric Brownian Motion_ to predict stock return and risk.\"\n",
    "\n",
    "\n",
    "- That sounds cool to me."
   ]
  },
  {
   "cell_type": "markdown",
   "metadata": {},
   "source": [
    "#### Example that Shows You Something Similar to Your Assignment\n",
    "\n",
    "- In _Economic Equilibrium,_\" there are _resources_ and _prices._\n",
    "\n",
    "\n",
    "- For a specific resource R there are supply and demand functions,\n",
    "    - Demand = $D(p)$\n",
    "    - Supply = $S(p)$\n",
    "    \n",
    "    \n",
    "- Let's assume that the supply is fixed and not a function of price.\n",
    "\n",
    "\n",
    "- We set a price $p_0$ and compute $D(p_0).$ If $D(p_0) = S$, we found the equilibrium price.\n",
    "\n",
    "\n",
    "- If $D(p_0) \\neq S,$ we must compute a new price $D(p_1)$ and try again, and keeping iterating. This is called a [tatonnement process](https://en.wiktionary.org/wiki/tatonnement).\n",
    "\n",
    "\n",
    "- What should the next price be? A simple formula, which the \"New Jersey Car Trunk Guy\" will check for me is,\n",
    "\n",
    "\\begin{equation}\n",
    "p_i = p_{i-1} * {{D(p_{i-1}) - S} \\over S}\n",
    "\\end{equation}\n",
    "\n",
    "- A modified implementation is a [Walrasian Auction](https://en.wikipedia.org/wiki/Walrasian_auction)\n",
    "\n",
    "\n",
    "- The tatonnment function is"
   ]
  },
  {
   "cell_type": "code",
   "execution_count": null,
   "metadata": {},
   "outputs": [],
   "source": [
    "# Given a price p, demand at price p and supply at price p,\n",
    "# compute the next proposed price.\n",
    "def new_price(p, d, s):\n",
    "    \n",
    "    result = p * (d - s)/s\n",
    "    return result\n"
   ]
  },
  {
   "cell_type": "markdown",
   "metadata": {},
   "source": [
    "- You will do some similar functions for GBM. I will describe the functions and parameters and you will implement with a function, operators and variables.\n",
    "\n",
    "\n",
    "- You can now also mention _economic equilibrium, tatonnment processes,_ and _Walrasian Auctions_ in your interviews. You're welcome."
   ]
  },
  {
   "cell_type": "markdown",
   "metadata": {},
   "source": [
    "### Statistical Analysis and Data\n",
    "\n",
    "#### Explanation\n"
   ]
  },
  {
   "cell_type": "code",
   "execution_count": 61,
   "metadata": {},
   "outputs": [
    {
     "name": "stdout",
     "output_type": "stream",
     "text": [
      "File to read =  ../Data/AAPL.csv\n",
      "\n",
      "\n",
      "All data = \n",
      "        Date        Open        High         Low       Close   Adj Close  \\\n",
      "0    1/2/18  170.160004  172.300003  169.259995  172.259995  172.259995   \n",
      "1    1/3/18  172.529999  174.550003  171.960007  172.229996  172.229996   \n",
      "2    1/4/18  172.539993  173.470001  172.080002  173.029999  173.029999   \n",
      "3    1/5/18  173.440002  175.369995  173.050003  175.000000  175.000000   \n",
      "4    1/8/18  174.350006  175.610001  173.929993  174.350006  174.350006   \n",
      "5    1/9/18  174.550003  175.059998  173.410004  174.330002  174.330002   \n",
      "6   1/10/18  173.160004  174.300003  173.000000  174.289993  174.289993   \n",
      "7   1/11/18  174.589996  175.490005  174.490005  175.279999  175.279999   \n",
      "8   1/12/18  176.179993  177.360001  175.649994  177.089996  177.089996   \n",
      "9   1/16/18  177.899994  179.389999  176.139999  176.190002  176.190002   \n",
      "10  1/17/18  176.149994  179.250000  175.070007  179.100006  179.100006   \n",
      "11  1/18/18  179.369995  180.100006  178.250000  179.259995  179.259995   \n",
      "12  1/19/18  178.610001  179.580002  177.410004  178.460007  178.460007   \n",
      "13  1/22/18  177.300003  177.779999  176.600006  177.000000  177.000000   \n",
      "14  1/23/18  177.300003  179.440002  176.820007  177.039993  177.039993   \n",
      "15  1/24/18  177.250000  177.300003  173.199997  174.220001  174.220001   \n",
      "16  1/25/18  174.509995  174.949997  170.529999  171.110001  171.110001   \n",
      "17  1/26/18  172.000000  172.000000  170.059998  171.509995  171.509995   \n",
      "\n",
      "      Volume  \n",
      "0   25555900  \n",
      "1   29517900  \n",
      "2   22434600  \n",
      "3   23660000  \n",
      "4   20567800  \n",
      "5   21584000  \n",
      "6   23959900  \n",
      "7   18667700  \n",
      "8   25418100  \n",
      "9   29565900  \n",
      "10  34386800  \n",
      "11  31193400  \n",
      "12  32425100  \n",
      "13  27108600  \n",
      "14  32689100  \n",
      "15  51105100  \n",
      "16  41529000  \n",
      "17  37687500  \n",
      "\n",
      "\n",
      " Close prices = \n",
      " 0     172.259995\n",
      "1     172.229996\n",
      "2     173.029999\n",
      "3     175.000000\n",
      "4     174.350006\n",
      "5     174.330002\n",
      "6     174.289993\n",
      "7     175.279999\n",
      "8     177.089996\n",
      "9     176.190002\n",
      "10    179.100006\n",
      "11    179.259995\n",
      "12    178.460007\n",
      "13    177.000000\n",
      "14    177.039993\n",
      "15    174.220001\n",
      "16    171.110001\n",
      "17    171.509995\n",
      "Name: Adj Close, dtype: float64\n",
      "test average =  37.0\n"
     ]
    }
   ],
   "source": [
    "import pandas as pd\n",
    "\n",
    "def read_stock_data(ticker):\n",
    "    file_name = \"../Data/\" + ticker + \".csv\"\n",
    "    print(\"File to read = \", file_name)\n",
    "    df = df = pd.read_csv(file_name)\n",
    "    return df\n",
    "\n",
    "def compute_average(close_prices):\n",
    "    no_of_entries = len(close_prices)\n",
    "    total = 0\n",
    "    for i in range(0,no_of_entries):\n",
    "        total = total + close_prices[i]\n",
    "        \n",
    "    result = total / no_of_entries\n",
    "    return result\n",
    "\n",
    "\n",
    "# Note: Testing the function with a small enough data set\n",
    "# to manually, visually compare to CSV file. Actual simulation\n",
    "# will use much large files.\n",
    "aapl_df = read_stock_data(\"AAPL\")\n",
    "print(\"\\n\\nAll data = \\n\", df)\n",
    "\n",
    "close_prices = df['Adj Close']\n",
    "print('\\n\\n Close prices = \\n', close_prices)\n",
    "\n",
    "# Note: Testing on small enough data array to\n",
    "# manually check correctness.\n",
    "test = [1, 10, 100]\n",
    "avg = compute_average(test)\n",
    "print(\"test average = \", avg)\n"
   ]
  },
  {
   "cell_type": "markdown",
   "metadata": {},
   "source": [
    "#### Motivation\n",
    "\n",
    "- You basically need to produce a function similar to compute_average(data), but this function must compute\n",
    "    - The average, relative change from entry to entry.\n",
    "    - The variance of the change.\n",
    "    \n",
    "    \n",
    "- More practice with math and operators.\n",
    "\n",
    "\n",
    "- Practice with _repetition, loops, etc._\n",
    "\n",
    "\n",
    "- You can start adding _statistical analysis of data using Pandas Dataframes_ to your resume.\n"
   ]
  },
  {
   "cell_type": "markdown",
   "metadata": {},
   "source": [
    "#### Observations\n",
    "\n",
    "- We are learning the software engineering discipline of _decomposition._\n",
    "\n",
    "\n",
    "- We decompose the problem into a set of smaller, simpler, individuall testable steps.\n",
    "\n",
    "\n",
    "- This is also know as \"[breaking it down Barney Style.](http://www.businessinsider.com/military-phrases-2013-12)\"\n",
    "\n",
    "\n",
    "- But, there are some deficiencies in the simple examples that you will need to fix, e.g. errors, bad parameters, etc. Your code should handle \"gracefully\" instead of just failing."
   ]
  },
  {
   "cell_type": "markdown",
   "metadata": {},
   "source": [
    "### Simple Project"
   ]
  },
  {
   "cell_type": "markdown",
   "metadata": {},
   "source": [
    "### Introduction\n",
    "\n",
    "- People do not understand that sequences of random events have surprisingly long streaks that appear non-random. You hear phrases like,\n",
    "    - \"He's in a slump.\"\n",
    "    - \"He's due.\"\n",
    "    - \"He's dialed in. He has a hot hand.\"\n",
    "    \n",
    "    \n",
    "- These are versions of the [Gambler's Fallacy](https://en.wikipedia.org/wiki/Gambler%27s_fallacy#Variations_of_the_gambler's_fallacy) and the [Hot Hand Fallacy.](https://en.wikipedia.org/wiki/Hot-hand_fallacy)\n",
    "\n",
    "\n",
    "- We are going to do a simple project that analyzes the concept using simulation. This will\n",
    "    - Give more practice and incremental understanding of programming and Python.\n",
    "    - Provide a template for how to execute the HW2 project.\n",
    "    - Introduce discussion of algorithms.\n",
    "    - Incrementally introduce some new programming concepts.\n",
    "    \n",
    "    \n",
    "- We will do this in the context of baseball batting.\n",
    "    - A player has a batting average, which is the probability to getting a hit per at-bat.\n",
    "    - If a player goes N at-bats without a hit, people will say the player is \"in a slump.\"\n",
    "    - Estimate the probability of a player going at least N at bats without a hit once per season.\n",
    "    \n",
    "### What Do We Need to Do?\n"
   ]
  },
  {
   "cell_type": "markdown",
   "metadata": {},
   "source": [
    "| <img src=\"../images/L6_barney_style.jpeg\"> |\n",
    "| --- |\n",
    "| __Breaking it Down Barney Style__ |"
   ]
  },
  {
   "cell_type": "markdown",
   "metadata": {},
   "source": [
    "Decision Making Process\n",
    "1. Analyze the higher headquarter's order and commander's intent. (Done)\n",
    "1. Initial intelligence preparation of the battlefield.(Done)\n",
    "1. Determine specified, implied and essential tasks.\n",
    "1. ... ...\n",
    "\n",
    "Tasks\n",
    "1. Simulate an individual at-bat.\n",
    "1. Simulate a season of at-bats.\n",
    "1. Determine streaks within a season, lengths and number of streaks.\n",
    "1. Simulate multiple seasons to get average behavior for a season.\n",
    "1. Analyze results."
   ]
  },
  {
   "cell_type": "markdown",
   "metadata": {},
   "source": [
    "### Simulate and Individual At-Bat\n",
    "\n",
    "- We know the batting average ($BA$). How do we simulate a random at-bat? Ideas?\n",
    "\n",
    "\n",
    "- Well, we need to generate random numbers.\n",
    "\n",
    "\n",
    "- Generate a random number $x$ on $[0,1)$\n",
    "\n",
    "\n",
    "- if $x <= BA,$ it is a hit. Basically, we are simulating a [_biased coin._](https://en.wikipedia.org/wiki/Fair_coin) We want \"heads\" with probability $BA$ and tails with probability $(1 - BA).$\n"
   ]
  },
  {
   "cell_type": "markdown",
   "metadata": {},
   "source": [
    "__simulator_core.biased_coin__"
   ]
  },
  {
   "cell_type": "code",
   "execution_count": 62,
   "metadata": {},
   "outputs": [],
   "source": [
    "# This code goes in a module/package of reusable functions.\n",
    "\n",
    "# Import the pseudo-random number generation functions\n",
    "import random\n",
    "\n",
    "\n",
    "# This function's parameter is an float in the\n",
    "# range [0,1]. This represents the probability of\n",
    "# an event occuring. The function asssumes uniform\n",
    "# distribution. The function \"flips the biased coin\"\n",
    "# and returns 0 or 1 of the event occurs.\n",
    "def biased_coin(probability):\n",
    "    random_value = random.random()\n",
    "    if random_value <= probability:\n",
    "        return 1\n",
    "    else:\n",
    "        return 0"
   ]
  },
  {
   "cell_type": "markdown",
   "metadata": {},
   "source": [
    "__/tests/unit_test_coin__"
   ]
  },
  {
   "cell_type": "code",
   "execution_count": 69,
   "metadata": {},
   "outputs": [
    {
     "name": "stdout",
     "output_type": "stream",
     "text": [
      "test_flipper: result =  0.33279 , expectation =  0.333  flips =  100000\n"
     ]
    }
   ],
   "source": [
    "# import simulator_core\n",
    "\n",
    "# This code goes in a module/package that unit tests\n",
    "# reusable functions and modules.\n",
    "# Simple test of the coin flipper.\n",
    "def test_flipper():\n",
    "    total = 0\n",
    "    prob = 0.333\n",
    "    count = 100000\n",
    "    for i in range(0,count):\n",
    "        #total = total + sc.random_event(0.333)\n",
    "        total = total + biased_coin(0.333)\n",
    "        \n",
    "    avg = total / count\n",
    "    print(\"test_flipper: result = \", avg,\", expectation = \", prob, \" flips = \", count)\n",
    "    \n",
    "test_flipper()"
   ]
  },
  {
   "cell_type": "markdown",
   "metadata": {},
   "source": [
    "### A Project\n",
    "\n",
    "- We want to structure our overall set of code so that\n",
    "    - It is easy to use, understand and modify.\n",
    "    - We can reuse and extend in other \"projects.\"\n",
    "    - Multiple people can work on the code and material.\n",
    "    - Other people and teams can reuse our innovations.\n",
    "    \n",
    "    \n",
    "- A project is the overall set of activities for building a software solution. Projects include plans, communication tools, organization structure,  ...\n",
    "\n",
    "\n",
    "- A [repository](https://help.github.com/articles/github-glossary/#repository) is the most basic element of GitHub. They're easiest to imagine as a project's folder. A repository contains all of the project files (including documentation), and stores each file's revision history. Repositories can have multiple collaborators and can be either public or private.\n",
    "\n",
    "\n",
    "- We will initial do a lightweight project structure and may evolve to a more complete model.\n",
    "\n",
    "\n",
    "- - Unlike what we have previously done, our solution is going to\n",
    "    - Have a directory structure.\n",
    "    - Multiple files in multiple directories.\n",
    "    - Produce one or more reusable _Python modules._\n",
    "    \n",
    "|<img src=\"../images/L6_project_2.jpeg\"> |\n",
    "| --- |\n",
    "| __Some Common Project Structures__ ]\n",
    "\n",
    "- We will have the following project structure.\n",
    "\n",
    "\n",
    "|<img src=\"../images/L6_project_1.jpeg\"> |\n",
    "| --- |\n",
    "| __Initial Project Structure__ ]\n",
    "\n"
   ]
  },
  {
   "cell_type": "markdown",
   "metadata": {},
   "source": [
    "### Simulate a Sequence of At-Bats\n",
    "\n",
    "- This is just multiple iterations of flipping the coin.\n"
   ]
  },
  {
   "cell_type": "markdown",
   "metadata": {},
   "source": [
    "__simulator_core.random_set__"
   ]
  },
  {
   "cell_type": "code",
   "execution_count": 75,
   "metadata": {},
   "outputs": [],
   "source": [
    "# Flips the biased coin N-times and returns the\n",
    "# vector of results\n",
    "def random_set(probability, count):\n",
    "    result = []\n",
    "    \n",
    "    for i in range(0,count):\n",
    "        event = biased_coin(probability)\n",
    "        result.append(event)\n",
    "        \n",
    "    return result"
   ]
  },
  {
   "cell_type": "markdown",
   "metadata": {},
   "source": [
    "__/tests/unit_test_sequence__\n",
    "\n",
    "- We will run a simple \"eyeball test\" to see if the sequences look reasonable.\n",
    "\n",
    "\n",
    "- We will also test the average behavior."
   ]
  },
  {
   "cell_type": "code",
   "execution_count": 77,
   "metadata": {},
   "outputs": [
    {
     "name": "stdout",
     "output_type": "stream",
     "text": [
      "Event stream =  [1, 0, 0, 0, 1, 1, 1, 1, 0, 1, 1, 0, 0, 1, 1, 0, 1, 0, 0, 1]\n",
      "test_event_string: avg =  0.3252  element count =  10000\n"
     ]
    }
   ],
   "source": [
    "def eyeball_event_str():\n",
    "    event_stream = random_set(0.333,20)\n",
    "    print(\"Event stream = \", event_stream)\n",
    "    \n",
    "def test_event_string_avg():\n",
    "    event_stream = random_set(0.333, 10000)\n",
    "    count = len(event_stream)\n",
    "    total = 0\n",
    "    for i in range(0, count):\n",
    "        total = total + event_stream[i]\n",
    "\n",
    "    avg = total / count\n",
    "    print(\"test_event_string: avg = \", avg, \" element count = \", count)\n",
    "\n",
    "    \n",
    "eyeball_event_str()\n",
    "test_event_string_avg()"
   ]
  },
  {
   "cell_type": "markdown",
   "metadata": {},
   "source": [
    "### Compute Slumps\n",
    "\n",
    "- Simulate a season of at-bats with _random_set()_\n",
    "\n",
    "\n",
    "- Process the season and find the hitless streaks.\n"
   ]
  },
  {
   "cell_type": "markdown",
   "metadata": {},
   "source": [
    "__simulator_core.failure_streak_lengths__\n",
    "\n",
    "- My typing and debugging the code while you watch is tedious.\n",
    "\n",
    "\n",
    "- Instead I will step through and comment the code to explain the logic."
   ]
  },
  {
   "cell_type": "code",
   "execution_count": 83,
   "metadata": {},
   "outputs": [],
   "source": [
    "def failure_streak_lengths(event_stream):\n",
    "    result = []\n",
    "    on_a_streak = False;\n",
    "    count = len(event_stream)\n",
    "\n",
    "    on_a_streak = False\n",
    "    current_fail_streak = 0\n",
    "\n",
    "    for i in range(0,count):\n",
    "        current_event = event_stream[i]\n",
    "\n",
    "        if current_event == 0:\n",
    "            if on_a_streak == False:\n",
    "                on_a_streak = True\n",
    "                current_fail_streak = 1\n",
    "            else:\n",
    "                current_fail_streak = current_fail_streak + 1\n",
    "        else:\n",
    "            if on_a_streak == True:\n",
    "                on_a_streak = False;\n",
    "                result.append(current_fail_streak)\n",
    "                current_fail_streak = 0\n",
    "    else:\n",
    "        if on_a_streak == True:\n",
    "            result.append(current_fail_streak)\n",
    "                \n",
    "    return result"
   ]
  },
  {
   "cell_type": "markdown",
   "metadata": {},
   "source": [
    "__/tests/unit_test_length__"
   ]
  },
  {
   "cell_type": "code",
   "execution_count": 85,
   "metadata": {},
   "outputs": [
    {
     "name": "stdout",
     "output_type": "stream",
     "text": [
      "Event stream =  [0, 1, 0, 0, 0, 0, 0, 1, 0, 1, 0, 0, 1, 0, 0, 1, 0, 0, 1, 0, 0, 0, 0, 0, 0, 0, 1, 0, 0, 0]\n",
      "Hitless streaks =  [1, 5, 1, 2, 2, 2, 7, 3]\n"
     ]
    }
   ],
   "source": [
    "def eyeball_streak_length():\n",
    "    event_stream = random_set(0.333, 30)\n",
    "    print(\"Event stream = \", event_stream)\n",
    "    fail_streaks = failure_streak_lengths(event_stream)\n",
    "    print(\"Hitless streaks = \", fail_streaks)\n",
    "\n",
    "eyeball_streak_length()"
   ]
  },
  {
   "cell_type": "markdown",
   "metadata": {},
   "source": [
    "### Slumps per Season\n",
    "\n",
    "- Well, I can find the individual hitless streaks.\n",
    "\n",
    "\n",
    "- What I want is the distribution or histogram of the hitless streak lengths/season.\n",
    "\n",
    "\n",
    "- There is nothing special about \"baseball hitless streaks,\" and I will just continue to use my various biased coin functions."
   ]
  },
  {
   "cell_type": "markdown",
   "metadata": {},
   "source": [
    "__simulator_core.histogram_streak_lengths__"
   ]
  },
  {
   "cell_type": "code",
   "execution_count": 87,
   "metadata": {},
   "outputs": [],
   "source": [
    "def histogram_streak_lengths(lengths):\n",
    "    result = []\n",
    "    max_fails = max(lengths)\n",
    "\n",
    "    for j in range(0,max_fails+1):\n",
    "        result.append(0)\n",
    "\n",
    "    for i in range(0,len(lengths)):\n",
    "        fails = lengths[i]\n",
    "        result[fails] = result[fails] + 1\n",
    "        \n",
    "    return result"
   ]
  },
  {
   "cell_type": "markdown",
   "metadata": {},
   "source": [
    "__/tests/test_histogram__"
   ]
  },
  {
   "cell_type": "code",
   "execution_count": 88,
   "metadata": {},
   "outputs": [
    {
     "name": "stdout",
     "output_type": "stream",
     "text": [
      "Event stream =  [0, 1, 0, 0, 0, 0, 0, 0, 0, 0, 1, 0, 0, 0, 0, 0, 1, 0, 0, 1, 0, 0, 0, 0, 0, 0, 0, 0, 0, 0]\n",
      "Streaks =  [1, 8, 5, 2, 10]\n",
      "Histogram =  [0, 1, 1, 0, 0, 1, 0, 0, 1, 0, 1]\n"
     ]
    }
   ],
   "source": [
    "def eyeball_histogram():\n",
    "    event_stream = random_set(0.250, 30)\n",
    "    print(\"Event stream = \", event_stream)\n",
    "    fail_streaks = failure_streak_lengths(event_stream)\n",
    "    print(\"Streaks = \", fail_streaks)\n",
    "    fail_histo = histogram_streak_lengths(fail_streaks)\n",
    "    print(\"Histogram = \", fail_histo)\n",
    "\n",
    "eyeball_histogram()"
   ]
  },
  {
   "cell_type": "markdown",
   "metadata": {},
   "source": [
    "### Status Check\n",
    "\n",
    "- I can now simulate a season and report on number of streaks of a given length.\n",
    "\n",
    "\n",
    "- There are about 600 at-bats in a season.\n",
    "\n"
   ]
  },
  {
   "cell_type": "code",
   "execution_count": 92,
   "metadata": {},
   "outputs": [
    {
     "name": "stdout",
     "output_type": "stream",
     "text": [
      "Simulating seasons with  600 at bats and batting average  0.25\n",
      "Streak length  0  no of occurences  0\n",
      "Streak length  1  no of occurences  39\n",
      "Streak length  2  no of occurences  18\n",
      "Streak length  3  no of occurences  24\n",
      "Streak length  4  no of occurences  13\n",
      "Streak length  5  no of occurences  10\n",
      "Streak length  6  no of occurences  4\n",
      "Streak length  7  no of occurences  3\n",
      "Streak length  8  no of occurences  4\n",
      "Streak length  9  no of occurences  3\n",
      "Streak length  10  no of occurences  0\n",
      "Streak length  11  no of occurences  2\n",
      "Streak length  12  no of occurences  0\n",
      "Streak length  13  no of occurences  0\n",
      "Streak length  14  no of occurences  2\n",
      "Streak length  15  no of occurences  2\n",
      "Streak length  16  no of occurences  1\n"
     ]
    }
   ],
   "source": [
    "def simulate_season(avg, no_at_bats):\n",
    "    event_stream = random_set(avg, no_at_bats)\n",
    "    fail_streaks = failure_streak_lengths(event_stream)\n",
    "    fail_histo = histogram_streak_lengths(fail_streaks)\n",
    "    return fail_histo\n",
    "\n",
    "ab = 600\n",
    "avg = 0.250\n",
    "print(\"Simulating seasons with \", ab, \"at bats and batting average \", avg)\n",
    "histo = simulate_season(avg, ab)\n",
    "\n",
    "for i in range(0,len(histo)):\n",
    "    print(\"Streak length \", i, \" no of occurences \", histo[i])\n",
    "    "
   ]
  },
  {
   "cell_type": "code",
   "execution_count": null,
   "metadata": {},
   "outputs": [],
   "source": [
    "import matplotlib.pyplot as plt\n",
    "\n",
    "def add_to_plot(x,y):\n",
    "    result = False\n",
    "    if (isinstance(x,int) or isinstance(x,float)) and \\\n",
    "        (isinstance(y,int) or isinstance(y,float)):\n",
    "        plt.plot(x,y,\"ro\")\n",
    "        result = True\n",
    "        \n",
    "    return result"
   ]
  },
  {
   "cell_type": "code",
   "execution_count": 98,
   "metadata": {},
   "outputs": [
    {
     "data": {
      "image/png": "[encoded data removed]",
      "text/plain": [
       "<matplotlib.figure.Figure at 0x11b292b00>"
      ]
     },
     "metadata": {},
     "output_type": "display_data"
    }
   ],
   "source": [
    "for i in range(0,len(histo)):\n",
    "    add_to_plot(i,histo[i])\n",
    "   \n",
    "plt.title(\"No of streaks.\")\n",
    "plt.xlabel(\"Streak length\")\n",
    "plt.ylabel(\"No. of streaks of length\")\n",
    "plt.show()"
   ]
  },
  {
   "cell_type": "markdown",
   "metadata": {},
   "source": [
    "### Next Steps\n",
    "\n",
    "- Simulate many seasons.\n",
    "\n",
    "\n",
    "- Aggregating each season allows me to compute the _expected number of hitless streaks of length n_ per season.\n",
    "\n",
    "\n",
    "- Then can determine if slumps really occur, or are just part of statistical behavior."
   ]
  },
  {
   "cell_type": "code",
   "execution_count": null,
   "metadata": {},
   "outputs": [],
   "source": []
  }
 ],
 "metadata": {
  "celltoolbar": "Raw Cell Format",
  "kernelspec": {
   "display_name": "Python 3",
   "language": "python",
   "name": "python3"
  },
  "language_info": {
   "codemirror_mode": {
    "name": "ipython",
    "version": 3
   },
   "file_extension": ".py",
   "mimetype": "text/x-python",
   "name": "python",
   "nbconvert_exporter": "python",
   "pygments_lexer": "ipython3",
   "version": "3.6.3"
  },
  "toc": {
   "nav_menu": {},
   "number_sections": true,
   "sideBar": true,
   "skip_h1_title": false,
   "title_cell": "Table of Contents",
   "title_sidebar": "Contents",
   "toc_cell": false,
   "toc_position": {},
   "toc_section_display": true,
   "toc_window_display": false
  }
 },
 "nbformat": 4,
 "nbformat_minor": 2
}
