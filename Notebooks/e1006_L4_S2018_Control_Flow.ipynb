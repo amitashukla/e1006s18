{
 "cells": [
  {
   "cell_type": "markdown",
   "metadata": {},
   "source": [
    "<h1 style=\"display:none;\">\n",
    "<h1 style=\"display:none;\">\n",
    "<h1 style=\"display:none;\">\n",
    "\n",
    "# Introduction to Computing for Engineers and Computer Scientists<BR><BR>Control Flow and Functions"
   ]
  },
  {
   "cell_type": "markdown",
   "metadata": {},
   "source": [
    "## Monte Carlo Simulation"
   ]
  },
  {
   "cell_type": "code",
   "execution_count": 1,
   "metadata": {},
   "outputs": [
    {
     "name": "stdout",
     "output_type": "stream",
     "text": [
      "Values =  [11, 20, 19, 25, 14, 11]\n",
      "Values =  [175, 185, 160, 164, 163, 153]\n",
      "Values =  [1667, 1697, 1713, 1650, 1639, 1634]\n"
     ]
    }
   ],
   "source": [
    "def throwFairDie():\n",
    "    import random as rnd\n",
    "    return rnd.randint(1, 6)\n",
    "\n",
    "def testDie(tries):\n",
    "    values = [0, 0, 0, 0, 0, 0]\n",
    "    for i in range(0,tries):\n",
    "        v = throwFairDie()\n",
    "        values[v-1] = values[v-1] + 1\n",
    "    return values\n",
    "\n",
    "values = testDie(100)\n",
    "print(\"Values = \", values)\n",
    "values = testDie(1000)\n",
    "print(\"Values = \", values)\n",
    "values = testDie(10000)\n",
    "print(\"Values = \", values)"
   ]
  },
  {
   "cell_type": "markdown",
   "metadata": {},
   "source": [
    "## Follow Up From Lecture 3\n",
    "\n",
    "### Not Equal Comparison Operator\n",
    "\n",
    "- My slides listed != and <> to mean \"evaluate to True\" if the operands are not equal.\n",
    "    - (3 != 4) $\\rightarrow$ True\n",
    "    - (4 <> 4) $\\rightarrow$ false\n",
    "\n",
    "\n",
    "\n",
    "- Python 3 removed <>. Please use !=.\n",
    "    - This is unusual, programming languages usually strive for [backward compatibility.](https://en.wikipedia.org/wiki/Backward_compatibility)\n",
    "    - Python 3 is not backwards compatible with Python 2.\n",
    "    - \"This article explains the new features in Python 3.0, compared to 2.6. Python 3.0, ... ..., is the first ever intentionally backwards incompatible Python release.\" (https://docs.python.org/release/3.0.1/whatsnew/3.0.html)\n",
    "    - This is unusual in languages and software, and discouraged. The Python team [provides explanations](https://wiki.python.org/moin/Python2orPython3).\n",
    "\n",
    "\n",
    "- Why were there two equivalent symbols for the same logical operator?\n",
    "    - This is especially puzzling in Python because the [Zen of Python](https://www.python.org/dev/peps/pep-0020/#id4) is \"... There should be one-- and preferably only one --obvious way to do it. ...\"\n",
    "    - Languages emerge and evolve relative to previous languages.\n",
    "    - The different precursor languages may have different approaches.\n",
    "    - The new language adopts \"both\" to make transition simpler.\n",
    "    \n",
    "\n",
    "| <img src=\"../images/L4_not_equal.jpeg\"> | \n",
    "|:--: | \n",
    "| [__Not Equals Operator__](https://stackoverflow.com/questions/16749121/what-does-mean-in-python) | "
   ]
  },
  {
   "cell_type": "markdown",
   "metadata": {},
   "source": [
    "### 0, and True (Corrected)\n",
    "\n",
    "- This was a very interesting question. My initial answer was superficial in lecture 3.\n",
    "\n",
    "\n",
    "- My more sophisticated answer in lecture 4 was compelling, thoughtful, well-articulated and wrong.\n",
    "\n",
    "\n",
    "- What I said about coercion, bitwise comparison, ... is true in languages and environments but was wrong with respect to _boolean and_ as well as the question asked.\n",
    "\n",
    "__Some Examples__"
   ]
  },
  {
   "cell_type": "code",
   "execution_count": 6,
   "metadata": {},
   "outputs": [
    {
     "data": {
      "text/plain": [
       "0"
      ]
     },
     "execution_count": 6,
     "metadata": {},
     "output_type": "execute_result"
    }
   ],
   "source": [
    "0 and 1"
   ]
  },
  {
   "cell_type": "code",
   "execution_count": 1,
   "metadata": {},
   "outputs": [
    {
     "data": {
      "text/plain": [
       "'Cat'"
      ]
     },
     "execution_count": 1,
     "metadata": {},
     "output_type": "execute_result"
    }
   ],
   "source": [
    "True and \"Cat\""
   ]
  },
  {
   "cell_type": "code",
   "execution_count": 3,
   "metadata": {},
   "outputs": [
    {
     "data": {
      "text/plain": [
       "0"
      ]
     },
     "execution_count": 3,
     "metadata": {},
     "output_type": "execute_result"
    }
   ],
   "source": [
    "0 and True"
   ]
  },
  {
   "cell_type": "code",
   "execution_count": 7,
   "metadata": {},
   "outputs": [
    {
     "data": {
      "text/plain": [
       "False"
      ]
     },
     "execution_count": 7,
     "metadata": {},
     "output_type": "execute_result"
    }
   ],
   "source": [
    "False and True"
   ]
  },
  {
   "cell_type": "markdown",
   "metadata": {},
   "source": [
    "From the Python 3.6 reference (https://docs.python.org/3/reference/expressions.html#and)\n",
    "\n",
    "- The expression x and y first evaluates x; if x is false, its value is returned; otherwise, y is evaluated and the resulting value is returned.\n",
    "\n",
    "\n",
    "- The expression x or y first evaluates x; if x is true, its value is returned; otherwise, y is evaluated and the resulting value is returned.\n",
    "\n",
    "\n",
    "What evaluates to true is an interesting question.\n",
    "\n",
    "| <img src=\"../images/L5_true.jpeg\"> | \n",
    "|:--:| \n",
    "| [__Evaluates to True__](https://en.wikibooks.org/wiki/Non-Programmer%27s_Tutorial_for_Python_3/Boolean_Expressions) |\n",
    "\n"
   ]
  },
  {
   "cell_type": "code",
   "execution_count": 5,
   "metadata": {},
   "outputs": [
    {
     "name": "stdout",
     "output_type": "stream",
     "text": [
      "An empty list evaluated to False (not True)\n",
      "An empty list evaluates to False but is not equal to False.\n"
     ]
    }
   ],
   "source": [
    "if []:\n",
    "    print(\"An empty list evaluated to true.\")\n",
    "else:\n",
    "    print(\"An empty list evaluated to False (not True)\")\n",
    "    \n",
    "if ([] == False):\n",
    "    print(\"An empty list is equal to F.\")\n",
    "else:\n",
    "    print(\"An empty list evaluates to False but is not equal to False.\")\n",
    "    "
   ]
  },
  {
   "cell_type": "markdown",
   "metadata": {},
   "source": [
    "### Why Jupyter Notebooks?\n",
    "\n",
    "- Your homework submissions and many projects are a mix of\n",
    "    - Code\n",
    "    - Text and images explaining decisions, assumptions, etc.\n",
    "    - Executions of the code.\n",
    "    \n",
    "    \n",
    "- Without Jupyter notebooks, you would wind up submitting a mix of\n",
    "    - Word or Google docs\n",
    "    - Source code from .py files\n",
    "    - Screen snapshots of code execution.\n",
    "    \n",
    "    \n",
    "- Jupyter notebooks are a good skill to know because there is an ecosystem of tools, content templates, etc, e.g. https://github.com/jupyter/jupyter/wiki/A-gallery-of-interesting-Jupyter-Notebooks"
   ]
  },
  {
   "cell_type": "markdown",
   "metadata": {},
   "source": [
    "## Continuing Operators\n",
    "\n",
    "### Logical Operators\n",
    "\n",
    "| <img src=\"../images/L3_logical_operators.jpeg\"> | \n",
    "|:--:| \n",
    "| [__Logical Operators__](https://www.tutorialspoint.com/python/python_basic_operators.htm) |  "
   ]
  },
  {
   "cell_type": "markdown",
   "metadata": {},
   "source": [
    "<img src=\"../images/L3_logical_operators_2.jpeg\">"
   ]
  },
  {
   "cell_type": "markdown",
   "metadata": {},
   "source": [
    "### Operator Precedence\n",
    "\n",
    "| Precedence | Operators   | Description              |\n",
    "|------------|-------------|--------------------------|\n",
    "| 1          | ()          | Parentheses (grouping)   |\n",
    "| 2          | **          | Exponentiation           |\n",
    "| 3          | -, +        | Unary positive, negative |\n",
    "| 4          | *, /, %, // | Multiplication, division |\n",
    "| 5          | +, -        | Addition, subtraction    |\n",
    "\n",
    "Examples:\n",
    "<img src=\"../images/L3_operator_precedence.jpeg\">\n",
    "\n",
    "\n",
    "- You probably learned all of this in elementary school math.\n",
    "\n",
    "\n",
    "- __When in doubt and to be safe, just use () a lot.__"
   ]
  },
  {
   "cell_type": "markdown",
   "metadata": {},
   "source": [
    "### Summary\n",
    "\n",
    "The easiest thing to do is just play with the operators."
   ]
  },
  {
   "cell_type": "markdown",
   "metadata": {},
   "source": [
    "## Testing and Errors\n",
    "\n",
    "### Overview\n",
    "\n",
    "Punch and Embody, section 1.9, 1.10, 1.11\n",
    "\n",
    "\n",
    "__Rule 5:__ Test you code, often and thoroughly. (Section 1.9.1, p. 72)\n",
    "\n",
    "\n",
    "Not particularly helpful. \"Thank you, CPT Obvious.\"\n",
    "\n",
    "<img src=\"../images/L3_captain_obvious.jpg\">"
   ]
  },
  {
   "cell_type": "markdown",
   "metadata": {},
   "source": [
    "### Errors\n",
    "\n",
    "You will encounter three broad classes of errors.\n",
    "1. Syntax: There is a grammar error and Python will not run your program at all.\n",
    "2. Runtime: Your program is syntactically correct, and starts to run but fails.\n",
    "3. Correctness: Your program runs to completion but produces an incorrect answer.\n",
    "\n",
    "__Syntax Error__\n",
    "\n",
    "The IDE typically flags these for you and will not try to run the program.\n",
    "\n",
    "<img src=\"../images/L3_syntax_error.jpeg\">\n",
    "\n",
    "__Runtime Error__\n",
    "\n",
    "The program is syntactically correct, but variable values get into states that cause errors.\n",
    "1. Incompatible types for operations.\n",
    "1. Unassigned name.\n",
    "1. Divide by 0.\n",
    "1. etc.\n"
   ]
  },
  {
   "cell_type": "markdown",
   "metadata": {},
   "source": [
    "<img src=\"../images/L3_runtime_errors.jpeg\">"
   ]
  },
  {
   "cell_type": "markdown",
   "metadata": {},
   "source": [
    "__An Interesting Digression__\n",
    "\n",
    "1. Let $a$ and $b$ be equal, non-zero quantities<br><br>\n",
    "$a=b$\n",
    "<br><br>\n",
    "2. Multiply both sides by $a$<br><br>\n",
    "$a^2 = ab$\n",
    "<br><br>\n",
    "3. Subtract $b^2$ from both sides<br><br>\n",
    "$a^2 - b^2 = ab - b^2$\n",
    "<br><br>\n",
    "4. Do some factorization<br><br>\n",
    "$(a + b)(a - b) = b(a - b)$\n",
    "<br><br>\n",
    "5. Divide both sides by a common value, and observe\n",
    "\\begin{equation*}\n",
    "\\frac{(a + b)(a - b)}{(a - b)} = \\frac{b(a - b)}{(a - b)}\n",
    "\\end{equation*}\n",
    "<br><br>\n",
    "1. Thus,<br><br>\n",
    "$a + b = b$\n",
    "<br><br>\n",
    "1. Since (from 1) $a = b,$ we get\n",
    "<br><br>\n",
    "$(a + b = a) \\implies ((a + a) = a) \\implies (2 x a = a) \\implies (2 = 1)$ \n",
    "\n",
    "\n",
    "Computers will not make this mistake."
   ]
  },
  {
   "cell_type": "markdown",
   "metadata": {},
   "source": [
    "__Correctness Errors__\n",
    "\n",
    "- Correctness errors are by far the most difficult to resolve.\n",
    "\n",
    "\n",
    "- The program executes but produces an incorrect result.\n",
    "\n",
    "\n",
    "- There are countless causes. Some examples,\n",
    "    - The algorithm is incorrect.\n",
    "    - Mathematical formula looks correct, but parentheses and operator precedence are wrong.\n",
    "    - Incorrect assumptions: Input is in kilograms but program uses pounds and ounces.\n",
    "    - Various forms of overflow, e.g. the programmer assumed that a counter or value would never wrap around to 0. \n",
    "    \n",
    "\n",
    "_Mars Climate Orbiter_\n",
    "\n",
    "\"The Mars Climate Orbiter (formerly the Mars Surveyor '98 Orbiter) was a 338-kilogram (745 lb) robotic space probe launched by NASA on December 11, 1998 to study the Martian climate, Martian atmosphere, and surface changes and to act as the communications relay in the Mars Surveyor '98 program for Mars Polar Lander. However, on September 23, 1999, communication with the spacecraft was lost as the spacecraft went into orbital insertion, due to ground-based computer software which produced output in non-SI units of pound (force)-seconds (lbf·s) instead of the SI units of newton-seconds (N·s) specified in the contract between NASA and Lockheed. The spacecraft encountered Mars on a trajectory that brought it too close to the planet, causing it to pass through the upper atmosphere and disintegrate.\" (https://en.wikipedia.org/wiki/Mars_Climate_Orbiter#Cause_of_failure)\n",
    "\n",
    "\n",
    "\n",
    "_Therac 25_\n",
    "\n",
    "\"Between June 1985 and January 1987, a computer-controlled radiation therapy machine, called the Therac-25, massively overdosed six people. These accidents have been described as the worst in the 35-year history of medical accelators.\n",
    "\n",
    "...\n",
    "\n",
    "On the Therac-25, the part of the computer program that is often referred to as the \"house-keeper task\" continuously checked to see whether the turntable was correctly positioned. A zero on the counter indicated to the technician that the turntable was in the correct position. Any value other than zero meant that it wasn't, and that treatment couldn't begin. The computer would then make the necessary corrections and the counter would reset itself to zero.\n",
    "\n",
    "But the highest value the counter could register was 255. If the program reached 256 checks, the counter automatically clicked back to zero, the same way that a car odometer turns over to zero after you've driven more than 99,999.99 kilometres. For that split second, the Therac-25 believed it was safe to proceed when, in fact, it wasn't. If the technician hit the \"set\" button to begin treatment at that precise moment, the turntable would be in the wrong position and the patient would be struck by a raw beam.\"\n",
    "    \n",
    "\n",
    "    "
   ]
  },
  {
   "cell_type": "markdown",
   "metadata": {},
   "source": [
    "### Testing and Software Quality Assurance\n",
    "\n",
    "#### The Concept\n",
    "\n",
    "\"Software quality assurance (SQA) consists of a means of monitoring the software engineering processes and methods used to ensure quality. The methods by which this is accomplished are many and varied, and may include ensuring conformance to one or more standards, such as ISO 9000 or a model such as CMMI.\n",
    "\n",
    "SQA encompasses the entire software development process, which includes processes such as requirements definition, software design, coding, source code control, code reviews, software configuration management, testing, release management, and product integration. SQA is organized into goals, commitments, abilities, activities, measurements, and verifications.\" (https://en.wikipedia.org/wiki/Software_quality_assurance)\n",
    "\n",
    "- This is a massively complex topic in Computer Science.\n",
    "\n",
    "\n",
    "- We do not have time to cover in any detail.\n",
    "\n",
    "\n",
    "- We will, however, think about the concepts and some general guidelines.\n",
    "\n",
    "\n",
    "- My predominant rule of thumb is __follow__ [__Gall's Law__](https://en.wikipedia.org/wiki/John_Gall_(author)\n",
    "\n",
    "\"A complex system that works is invariably found to have evolved from a simple system that worked. A complex system designed from scratch never works and cannot be patched up to make it work. You have to start over with a working simple system. – John Gall (1975)"
   ]
  },
  {
   "cell_type": "markdown",
   "metadata": {},
   "source": [
    "#### An Example\n",
    "\n",
    "Remember the 0-1 Knapsack Problem? The exact solution code is ...\n"
   ]
  },
  {
   "cell_type": "code",
   "execution_count": null,
   "metadata": {},
   "outputs": [],
   "source": [
    "from itertools import combinations\n",
    "import time\n",
    "\n",
    "def anycomb(items):\n",
    "    ' return combinations of any length from the items '\n",
    "    return ( comb\n",
    "             for r in range(1, len(items)+1)\n",
    "             for comb in combinations(items, r)\n",
    "             )\n",
    " \n",
    "def totalvalue(comb):\n",
    "    ' Totalise a particular combination of items'\n",
    "    totwt = totval = 0\n",
    "    for item, wt, val in comb:\n",
    "        totwt  += wt\n",
    "        totval += val\n",
    "    return (totval, -totwt) if totwt <= 500 else (0, 0)\n",
    "\n",
    "# Program/algorithm example input data. Real solution would get\n",
    "# data from user input, file, etc.\n",
    "items = (\n",
    "    (\"map\", 9, 150), (\"compass\", 13, 35), (\"water\", 153, 200), (\"sandwich\", 50, 160),\n",
    "    (\"glucose\", 15, 60), (\"tin\", 68, 45), (\"banana\", 27, 60), (\"apple\", 39, 40),\n",
    "   (\"cheese\", 23, 30), (\"beer\", 52, 10), (\"suntan cream\", 11, 70), (\"camera\", 32, 30),\n",
    "    (\"t-shirt\", 24, 15), (\"trousers\", 48, 10), (\"umbrella\", 73, 40),\n",
    "    (\"waterproof trousers\", 42, 70), (\"waterproof overclothes\", 43, 75),\n",
    "    (\"note-case\", 22, 80), (\"sunglasses\", 7, 20), (\"towel\", 18, 12),\n",
    "    (\"socks\", 4, 50), (\"book\", 30, 10), (\"tent\", 50, 50), (\"matches\", 5,20),\n",
    "    (\"boots\", 30, 30), (\"flare\", 10, 25), (\"mirror\", 50, 50)\n",
    "    )\n",
    "\n",
    "start = time.time()\n",
    "print (\"Time = \", start)    \n",
    "bagged = max( anycomb(items), key=totalvalue) # max val or min wt if values equal\n",
    "done = time.time()\n",
    "elapsed=done-start\n",
    "print(\"Done time =\", done, \" elapsed = \", elapsed )\n",
    "print(\"Bagged the following items\\n  \" +\n",
    "      '\\n  '.join(sorted(item for item,_,_ in bagged)))\n",
    "val, wt = totalvalue(bagged)\n",
    "print(\"for a total value of %i and a total weight of %i\" % (val, -wt))"
   ]
  },
  {
   "cell_type": "markdown",
   "metadata": {},
   "source": [
    "- I would not write this program all at once.\n",
    "\n",
    "\n",
    "- I would start by writing two smaller programs to [unit test](https://en.wikipedia.org/wiki/Unit_testing) the smaller functional units:\n",
    "    - anycomb function.\n",
    "    - totalvalue function.\n",
    "    \n",
    "_Unit test anycomb:_"
   ]
  },
  {
   "cell_type": "code",
   "execution_count": 96,
   "metadata": {},
   "outputs": [
    {
     "name": "stdout",
     "output_type": "stream",
     "text": [
      "Result = \n",
      "(('map', 9, 150),)\n",
      "(('compass', 13, 35),)\n",
      "(('water', 153, 200),)\n",
      "(('map', 9, 150), ('compass', 13, 35))\n",
      "(('map', 9, 150), ('water', 153, 200))\n",
      "(('compass', 13, 35), ('water', 153, 200))\n",
      "(('map', 9, 150), ('compass', 13, 35), ('water', 153, 200))\n"
     ]
    }
   ],
   "source": [
    "from itertools import combinations\n",
    "import time\n",
    "\n",
    "def anycomb(items):\n",
    "    ' return combinations of any length from the items '\n",
    "    return ( comb\n",
    "             for r in range(1, len(items)+1)\n",
    "             for comb in combinations(items, r)\n",
    "             )\n",
    "\n",
    "test_items = (\n",
    "    (\"map\", 9, 150), (\"compass\", 13, 35), (\"water\", 153, 200))\n",
    "\n",
    "result = anycomb(test_items)\n",
    "\n",
    "print(\"Result = \")\n",
    "print(*result, sep='\\n')"
   ]
  },
  {
   "cell_type": "markdown",
   "metadata": {},
   "source": [
    "This is correct. I can manually verify for small input sets.\n",
    "\n",
    "Obviously, I would test more than once and with tricky combinations."
   ]
  },
  {
   "cell_type": "markdown",
   "metadata": {},
   "source": [
    "_Unit test totalvalue:_ BTW, not sure why the developer chose to return -total_weight."
   ]
  },
  {
   "cell_type": "code",
   "execution_count": 97,
   "metadata": {},
   "outputs": [
    {
     "name": "stdout",
     "output_type": "stream",
     "text": [
      "totalvalue test 1 =  (350, -162)\n"
     ]
    }
   ],
   "source": [
    "def totalvalue(comb):\n",
    "    ' Totalise a particular combination of items'\n",
    "    totwt = totval = 0\n",
    "    for item, wt, val in comb:\n",
    "        totwt  += wt\n",
    "        totval += val\n",
    "    return (totval, -totwt) if totwt <= 500 else (0, 0)\n",
    "\n",
    "test1 = (('map', 9, 150), ('water', 153, 200))\n",
    "\n",
    "print(\"totalvalue test 1 = \", totalvalue(test1))"
   ]
  },
  {
   "cell_type": "markdown",
   "metadata": {},
   "source": [
    "Finally, make sure you code checks for erroneous input."
   ]
  },
  {
   "cell_type": "code",
   "execution_count": 98,
   "metadata": {},
   "outputs": [
    {
     "name": "stdout",
     "output_type": "stream",
     "text": [
      "totalvalue test 2 =  (350, -200)\n"
     ]
    }
   ],
   "source": [
    "test2=(('map', -900, 150), ('water', 1100, 200))\n",
    "print(\"totalvalue test 2 = \", totalvalue(test2))"
   ]
  },
  {
   "cell_type": "markdown",
   "metadata": {},
   "source": [
    "This appears to be a reasonable answer, despite the fact that\n",
    "- The maximum weight allowed is 500\n",
    "- Water weighs 1100\n",
    "\n",
    "Fools will inevitably enter bad data or do something wrong.\n",
    "\n",
    "_\"It is impossible to make anything foolproof because fools are so ingenious.\"_ Corollary to Murphy's Law.\n",
    "\n",
    "This may be true, but you need to try.\n",
    "\n",
    "BTW, there is also Smith's Law. __\"Murphy was an optimist.\"__\n"
   ]
  },
  {
   "cell_type": "markdown",
   "metadata": {},
   "source": [
    "## Flows of Control -- Overview\n",
    "\n",
    "### Computer Hardware Instructions\n",
    "\n",
    "- The unit of execution in a computer is an _instruction._ There are three categories of instructions\n",
    "    1. Access or move bytes.\n",
    "    1. Operate on bytes (add, multiply, compare, ...)\n",
    "    1. Control-flow\n",
    "\n",
    "\n",
    "<img src=\"../images/cpu2.jpg\">\n",
    "\n",
    "\n",
    "- The power of a computer is that it can execute billions of _extremely simple_ instructions per second, e.g.\n",
    "    - Multiply two numbers.\n",
    "    - Compare two numbers.\n",
    "    - Move 8 bytes from one memory location to another.\n",
    "    - etc.\n",
    "    \n",
    "    \n",
    "- Number of instruction types\n",
    "    - Intel x86 (PCs, servers, Mac): $O(1000) = $ around 1,000 to 4,000.\n",
    "    - ARM (phones, mobile devices): $O(500) = $ around 100 to 500.\n",
    "    - These numbers are a little misleading because\n",
    "        - There are several different versions of similar operations, e.g\n",
    "            - x86 has 6 different instructions to move bytes from one location to another.\n",
    "            - X86 and ARM have about 10-12 different instructions for comparing and manipulating bits/bytes.\n",
    "        - Some are very highly-specialized and used only to optimize operating system, disk input/output, etc, e.g.\n",
    "            - 0F 01 DF: \"Invalidates the TLB mapping for the virtual page specified in RAX and the ASID specified in ECX.\"\n",
    "            - F2 0F 38 F0: \"Computes CRC value using the CRC-32C (Castagnoli) polynomial 0x11EDC6F41 (normal form 0x1EDC6F41). This is the polynomial used in iSCSI. In contrast to the more popular one used in Ethernet, its parity is even, and it can thus detect any error with an odd number of changed bits.\""
   ]
  },
  {
   "cell_type": "markdown",
   "metadata": {},
   "source": [
    "### Assembly Language\n",
    "\n",
    "\"An assembly (or assembler) language, often abbreviated asm, is a low-level programming language for a computer, or other programmable device, in which there is a very strong (but often not one-to-one) correspondence between the language and the architecture's machine code instructions.\" (https://en.wikipedia.org/wiki/Assembly_language)\n",
    "\n",
    "\n",
    "Very highly specialized use cases, often to interact directly with hardware control functions.\n",
    "\n",
    "<img src=\"../images/L4_assembly_language.jpeg\">"
   ]
  },
  {
   "cell_type": "markdown",
   "metadata": {},
   "source": [
    "### Programming Statements\n",
    "\n",
    "- High-level, more intuitive languages like Python have _statements._\n",
    "\n",
    "\n",
    "- A [_compiler_](https://en.wikipedia.org/wiki/Compiler) or <a href=\"https://en.wikipedia.org/wiki/Interpreter_(computing)\"><i>interpreter</i></a> maps language statement to multiple assembler/HW statements that implement the statement.\n",
    "\n",
    "\n",
    "- Programming languages have _simple statements_ and _compound statements._\n",
    "\n",
    "```\n",
    "simple_stmt ::=  expression_stmt\n",
    "                 | assert_stmt\n",
    "                 | assignment_stmt\n",
    "                 | augmented_assignment_stmt\n",
    "                 | annotated_assignment_stmt\n",
    "                 | pass_stmt\n",
    "                 | del_stmt\n",
    "                 | return_stmt\n",
    "                 | yield_stmt\n",
    "                 | raise_stmt\n",
    "                 | break_stmt\n",
    "                 | continue_stmt\n",
    "                 | import_stmt\n",
    "                 | global_stmt\n",
    "                 | nonlocal_stmt\n",
    "                 \n",
    "compound_stmt ::=  if_stmt\n",
    "                   | while_stmt\n",
    "                   | for_stmt\n",
    "                   | try_stmt\n",
    "                   | with_stmt\n",
    "                   | funcdef\n",
    "                   | classdef\n",
    "                   | async_with_stmt\n",
    "                   | async_for_stmt\n",
    "                   | async_funcdef\n",
    "suite         ::=  stmt_list NEWLINE | NEWLINE INDENT statement+ DEDENT\n",
    "statement     ::=  stmt_list NEWLINE | compound_stmt\n",
    "stmt_list     ::=  simple_stmt (\";\" simple_stmt)* [\";\"]\n",
    "\n",
    "```\n"
   ]
  },
  {
   "cell_type": "markdown",
   "metadata": {},
   "source": [
    "### Statement Execution\n",
    "\n",
    "A program is\n",
    "- A set or group of statements.\n",
    "- A control-flow or order for execution of the statements.\n",
    "\n",
    "\n",
    "[flowchart](https://en.wikipedia.org/wiki/Flowchart): \"A flowchart is a type of diagram that represents an algorithm, workflow or process, showing the steps as boxes of various kinds, and their order by connecting them with arrows.\"\n",
    "\n",
    "_How to fix a lamp_\n",
    "<img src=\"../images/L4_fix_lamp.jpeg\">\n",
    "\n",
    "\n",
    "A flow chart is a useful way to learn programming.\n",
    "\n",
    "_Compute Fibonacci Numbers_\n",
    "\n",
    "<img src=\"https://www.rff.com/fibonacci-numbers.png\">"
   ]
  },
  {
   "cell_type": "markdown",
   "metadata": {},
   "source": [
    "## Python Control Flow\n",
    "\n",
    "### Sequential\n",
    "\n",
    "Sequential execution is the basic, default control flow. Most of the examples we have seen are sequential.\n",
    "\n",
    "<img src=\"../images/L4_sequential_statements.jpeg\">\n",
    "\n",
    "__Sequential Example__"
   ]
  },
  {
   "cell_type": "code",
   "execution_count": 99,
   "metadata": {},
   "outputs": [
    {
     "name": "stdout",
     "output_type": "stream",
     "text": [
      "Please enter the radius of a circle: 3\n",
      "Area =  28.274333882308138\n"
     ]
    }
   ],
   "source": [
    "import math\n",
    "radius_str = input(\"Please enter the radius of a circle: \")\n",
    "radius_float = float(radius_str)\n",
    "area = math.pi * radius_float**2\n",
    "print(\"Area = \", area)"
   ]
  },
  {
   "cell_type": "markdown",
   "metadata": {},
   "source": [
    "### Selection\n",
    "\n",
    "#### Boolean Expression\n",
    "\n",
    "A _boolean expression_ is a syntactically correct sequence of operators and operands that computes _True_ or _False._"
   ]
  },
  {
   "cell_type": "code",
   "execution_count": 11,
   "metadata": {},
   "outputs": [
    {
     "name": "stdout",
     "output_type": "stream",
     "text": [
      "The assertion that Prof. Ferguson is a new professor of practice = \n",
      "True\n",
      "\n",
      "\n",
      "Two =  2\n",
      "x =  2\n",
      "True =  True  and False =  False\n",
      "2 == True evaluates to  False\n",
      "2 == False evaluates to  False\n",
      "\n",
      "2 is not == True, but since it is NOT FALSE, evaluates to TRUE in some cases\n",
      "We got here because 2 is NOT FALSE\n",
      "\n",
      "\n",
      "0 is effectively False\n"
     ]
    }
   ],
   "source": [
    "title = \"Professor of Professional Practice\"\n",
    "hire_year = 2018\n",
    "\n",
    "print(\"The assertion that Prof. Ferguson is a new professor of practice = \")\n",
    "print ((title == \"Professor of Professional Practice\") and (hire_year >= 2018))\n",
    "print(\"\\n\")\n",
    "\n",
    "print (\"Two = \", 2)\n",
    "x = 2\n",
    "print (\"x = \", x)\n",
    "print (\"True = \", True, \" and False = \", False)\n",
    "print (\"2 == True evaluates to \", True == 2)\n",
    "print (\"2 == False evaluates to \", False == 2)\n",
    "\n",
    "print(\"\\n2 is not == True, but since it is NOT FALSE, evaluates to TRUE in some cases\")\n",
    "if 2:\n",
    "    print(\"We got here because 2 is NOT FALSE\")\n",
    "\n",
    "print(\"\\n\")\n",
    "if 0:\n",
    "    print(\"We did not get here because 0 is NOT TRUE\")\n",
    "else:\n",
    "    print(\"0 is effectively False\")\n"
   ]
  },
  {
   "cell_type": "markdown",
   "metadata": {},
   "source": [
    "#### Selection Statement\n",
    "\n",
    "- A _selection statement_ chooses between two _blocks_ of sequential statements based on the value of a _boolean expression._\n",
    "\n",
    "\n",
    "- One of the blocks may be empty (or not present).\n",
    "\n",
    "\n",
    "- Flows continues sequentially after completing the selected block.\n",
    "\n",
    "\n",
    "- Unlike Java, Javascript, etc., block identification is via _indentation,_ not brackets or delimiter.\n",
    "\n",
    "<img src=\"../images/L4_decision_statement.jpeg\">\n",
    "\n",
    "\n"
   ]
  },
  {
   "cell_type": "markdown",
   "metadata": {},
   "source": [
    "#### Python if-statement\n",
    "\n",
    "- The Python if-statement is the core selection statement.\n",
    "\n",
    "\n",
    "- There are three forms:\n",
    "    - if-statement.\n",
    "    - if-else statement.\n",
    "    - if-elif-else statement.\n",
    "    \n",
    "__Example__"
   ]
  },
  {
   "cell_type": "code",
   "execution_count": 17,
   "metadata": {},
   "outputs": [
    {
     "name": "stdout",
     "output_type": "stream",
     "text": [
      "n =  4\n",
      "N is even.\n",
      "After first if.\n",
      "m =  3\n",
      "m is odd.\n",
      "After if-else.\n",
      "p =  25\n",
      "p is a multiple of 5.\n",
      "After first elif.\n",
      "p =  31\n",
      "p is not a multiple of 2, 3 or 5.\n",
      "After second elif.\n"
     ]
    }
   ],
   "source": [
    "n = 4\n",
    "\n",
    "print(\"n = \", n)\n",
    "if ((n % 2) == 0):\n",
    "    print(\"N is even.\")\n",
    "print(\"After first if.\")    \n",
    "\n",
    "m = 3\n",
    "print(\"m = \", m)\n",
    "if ((m % 2) == 0):\n",
    "    print(\"m is even.\")\n",
    "else:\n",
    "    print(\"m is odd.\")\n",
    "print(\"After if-else.\")\n",
    "\n",
    "\n",
    "p = 25\n",
    "print(\"p = \", p)\n",
    "if ((p % 2) == 0):\n",
    "    print(\"p is even.\")\n",
    "elif ((p % 3) == 0):\n",
    "    print(\"p is a multiple of 3.\")\n",
    "elif ((p % 5) == 0):\n",
    "    print(\"p is a multiple of 5.\")\n",
    "else:\n",
    "    print(\"p is not a multiple of 2, 3 or 5.\")\n",
    "print(\"After first elif.\")\n",
    "\n",
    "p = 31\n",
    "print(\"p = \",p)\n",
    "if ((p % 2) == 0):\n",
    "    print(\"p is even.\")\n",
    "elif ((p % 3) == 0):\n",
    "    print(\"p is a multiple of 3.\")\n",
    "elif ((p % 5) == 0):\n",
    "    print(\"p is a multiple of 5.\")\n",
    "else:\n",
    "    print(\"p is not a multiple of 2, 3 or 5.\")\n",
    "print(\"After second elif.\")\n"
   ]
  },
  {
   "cell_type": "markdown",
   "metadata": {},
   "source": [
    "### Repetition\n",
    "\n",
    "- <span style=\"color: #D68910;font-size:32px\">A repetition statement executes a sequence (block) of statements until some condition is met.<span>\n",
    "\n",
    "\n",
    "- There are two core reptition statements:\n",
    "    1. while-statement\n",
    "    1. for-statement\n",
    "    \n",
    "\n",
    "#### while-statement\n",
    "\n",
    "__Overview__\n",
    "\n",
    "<img src=\"../images/L4_while_statement.jpeg\">\n",
    "\n",
    "__Example__\n"
   ]
  },
  {
   "cell_type": "code",
   "execution_count": 22,
   "metadata": {},
   "outputs": [
    {
     "name": "stdout",
     "output_type": "stream",
     "text": [
      "p =  2019\n",
      "Square root of p =  44.93328387732194\n",
      "int(square root of p) =  44\n",
      "Testing for p being prime means I need to try dividing by integers 2, 3, ...  44\n",
      "p is not prime\n"
     ]
    }
   ],
   "source": [
    "import math\n",
    "\n",
    "p = 2017\n",
    "sqrt_p = math.sqrt(p)\n",
    "max_to_try = int(sqrt_p)\n",
    "\n",
    "print (\"p = \", p)\n",
    "print (\"Square root of p = \", sqrt_p)\n",
    "print(\"int(square root of p) = \", max_to_try)\n",
    "\n",
    "print(\"Testing for p being prime means I need to try dividing by integers 2, 3, ... \", max_to_try)\n",
    "\n",
    "test_divisor = 2\n",
    "factored = False\n",
    "\n",
    "while (test_divisor <= max_to_try) and (not factored):\n",
    "    remainder = p % test_divisor\n",
    "    if (remainder == 0):\n",
    "        factored = True\n",
    "        \n",
    "    test_divisor += 1\n",
    "    \n",
    "if (factored):\n",
    "    print(\"p is not prime\")\n",
    "else:\n",
    "    print(\"p is prime\")\n",
    "\n"
   ]
  },
  {
   "cell_type": "markdown",
   "metadata": {},
   "source": [
    "#### for-statement\n",
    "\n",
    "__Overview__\n",
    "\n",
    "<img src=\"../images/L4_for_loop.jpeg\">\n",
    "\n",
    "__Example__\n"
   ]
  },
  {
   "cell_type": "code",
   "execution_count": 27,
   "metadata": {},
   "outputs": [
    {
     "name": "stdout",
     "output_type": "stream",
     "text": [
      "A common color is  red\n",
      "A common color is  green\n",
      "A common color is  blue\n",
      "A common color is  purple\n",
      "A common color is  yellow\n",
      "A common color is  organge\n",
      "A common color is  white\n",
      "A common color is  black\n",
      "\n",
      "Don's favorite colors is  purple\n",
      "A common color is  red\n",
      "A common color is  green\n",
      "A common color is  blue\n",
      "A common color is  purple\n",
      "Don's favorite color is a common color.\n"
     ]
    }
   ],
   "source": [
    "\n",
    "common_colors = ['red', 'green', 'blue', 'purple', 'yellow', 'organge', 'white', 'black']\n",
    "\n",
    "for c in common_colors:\n",
    "    print(\"A common color is \", c)\n",
    "\n",
    "dons_favorite_color = 'purple'\n",
    "\n",
    "print(\"\\nDon's favorite colors is \", dons_favorite_color)\n",
    "for c in common_colors:\n",
    "    print(\"A common color is \", c)\n",
    "    if c == dons_favorite_color:\n",
    "        print(\"Don's favorite color is a common color.\")\n",
    "        break\n",
    "        "
   ]
  },
  {
   "cell_type": "markdown",
   "metadata": {},
   "source": [
    "- _Note:_\n",
    "    - __break__ causes the code to exit the repetition and execute the 1st statement after the block.\n",
    "    - We will cover __break__ and __continue__ later.\n",
    "\n",
    "\n",
    "- The range can be explicit or generated. _range(start, stop, increment)_ is the most common generator, but there are others.\n",
    "\n"
   ]
  },
  {
   "cell_type": "code",
   "execution_count": 32,
   "metadata": {},
   "outputs": [
    {
     "name": "stdout",
     "output_type": "stream",
     "text": [
      "i =  0\n",
      "i =  1\n",
      "i =  2\n",
      "i =  3\n",
      "i =  4\n",
      "i =  5\n",
      "i =  6\n",
      "i =  7\n",
      "i =  8\n",
      "The sum of 0, 1, ..., 9 is  36\n",
      "i =  10\n",
      "i =  13\n",
      "i =  16\n",
      "i =  19\n",
      "i =  22\n",
      "i =  25\n",
      "i =  28\n",
      "The sum of every 3rd number between 10 and 30 is:  133\n"
     ]
    }
   ],
   "source": [
    "sum = 0\n",
    "for i in range(0,9,1):\n",
    "    print(\"i = \", i)\n",
    "    sum += i\n",
    "    \n",
    "print(\"The sum of 0, 1, ..., 9 is \", sum)\n",
    "\n",
    "\n",
    "sum = 0\n",
    "for i in range(10,30,3):\n",
    "    print(\"i = \", i)\n",
    "    sum += i\n",
    "    \n",
    "print(\"The sum of every 3rd number between 10 and 30 is: \", sum)"
   ]
  },
  {
   "cell_type": "markdown",
   "metadata": {},
   "source": [
    "### Summary\n",
    "\n",
    "- Completed a quick, unseful overview of the basic approaches to Python control flow\n",
    "    - Sequential\n",
    "    - Selection: if-statement\n",
    "    - Iteration\n",
    "        - while-statement\n",
    "        - for-statement\n",
    "        \n",
    "        \n",
    "- There are a lot of nitty, gritty details and variations that we will incrementally cover. \n"
   ]
  },
  {
   "cell_type": "markdown",
   "metadata": {},
   "source": [
    "## Functions\n",
    "\n",
    "### Overview\n",
    "\n",
    "- __Reminder from Lecture 2:__ To start working on our first coll project, Monte Carlo Simulation, we need the ability to use the following Python concepts:\n",
    "    - Variables\n",
    "    - Types and built-in types\n",
    "    - Operators\n",
    "    - Simple control flow.\n",
    "    - Functions\n",
    "    \n",
    "    \n",
    "- We have a basic understanding of everything but __functions.__ Let's do this.\n",
    "\n",
    "\n",
    "- From mathematics, \"a function from $\\textbf{A}$ to $\\textbf{B}$ is an object $f$ such that every $\\textbf{a} \\in \\textbf{A}$ is uniquely associated with an object $f( \\textbf{a} ) \\in \\textbf{B}$. A function is therefore a many-to-one (or sometimes one-to-one) relation. The set $\\textbf{A}$ of values at which a function is defined is called its domain, while the set $\\textbf{f(A)} \\subset \\textbf{B}$ of values that the function can produce is called its range.\" (https://en.wikipedia.org/wiki/Function_(mathematics)) \n",
    "\n",
    "\n",
    "__Note:__ $\\textbf{a} \\in \\textbf{A}$ and $\\textbf{f{a}} \\in \\textbf{B}$ can be compound, i.e. a vector of more basic elements drawn from sets.\n",
    "\n",
    "<img src=\"../images/L4_functions.jpeg\">"
   ]
  },
  {
   "cell_type": "markdown",
   "metadata": {},
   "source": [
    "## Next Steps\n",
    "\n",
    "- We now all the tools we need to implement some interesting Monte Carlo simulations.\n",
    "\n",
    "\n",
    "- Which will be homework 2."
   ]
  },
  {
   "cell_type": "code",
   "execution_count": null,
   "metadata": {},
   "outputs": [],
   "source": []
  }
 ],
 "metadata": {
  "kernelspec": {
   "display_name": "Python 3",
   "language": "python",
   "name": "python3"
  },
  "language_info": {
   "codemirror_mode": {
    "name": "ipython",
    "version": 3
   },
   "file_extension": ".py",
   "mimetype": "text/x-python",
   "name": "python",
   "nbconvert_exporter": "python",
   "pygments_lexer": "ipython3",
   "version": "3.6.3"
  },
  "toc": {
   "nav_menu": {},
   "number_sections": true,
   "sideBar": true,
   "skip_h1_title": false,
   "title_cell": "Table of Contents",
   "title_sidebar": "Contents",
   "toc_cell": false,
   "toc_position": {},
   "toc_section_display": true,
   "toc_window_display": false
  }
 },
 "nbformat": 4,
 "nbformat_minor": 2
}
